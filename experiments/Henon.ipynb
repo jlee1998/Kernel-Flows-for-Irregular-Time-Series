{
 "cells": [
  {
   "cell_type": "code",
   "execution_count": 1,
   "id": "938d561b",
   "metadata": {},
   "outputs": [],
   "source": [
    "import numpy as np\n",
    "import torch\n",
    "from src import kernel_flow, datagen\n",
    "import tqdm"
   ]
  },
  {
   "cell_type": "markdown",
   "id": "c0bc24cb",
   "metadata": {},
   "source": [
    "## Regular Henon\n",
    "\n",
    "### 1 step"
   ]
  },
  {
   "cell_type": "code",
   "execution_count": 2,
   "id": "6ff45d04",
   "metadata": {},
   "outputs": [
    {
     "name": "stderr",
     "output_type": "stream",
     "text": [
      "100%|███████████████████████████████████████████████████████████████████████████████████████████████████████████████████████████████████████████████████████████████████████████████████████████████████████████████████████████████████████| 1000/1000 [00:11<00:00, 90.26it/s]\n"
     ]
    }
   ],
   "source": [
    "# generate dataset\n",
    "Data = datagen.Henon(T=200, dt=0.1,N_sims=1,a=1.4,b=0.3)[0]\n",
    "#train test split\n",
    "observed_data= Data\n",
    "train_data = Data[:600,:].T\n",
    "test_data = Data[600:,:].T\n",
    "#times\n",
    "Times = np.linspace(1,2000-1,2000-1)\n",
    "\n",
    "# Some constants\n",
    "nparameters=24\n",
    "delay = 2\n",
    "regu_lambda = 0.00001\n",
    "\n",
    "# Get scaling factor\n",
    "normalize=np.amax(train_data[:,:])\n",
    "\n",
    "X_train, Y_train = datagen.prepare_data_fast(train_data,delay,normalize)\n",
    "X_test, Y_test = datagen.prepare_data_fast(test_data,delay,normalize)\n",
    "\n",
    "model = kernel_flow.KernelFlows(\"anl3\", nparameters = nparameters, regu_lambda = regu_lambda, dim = 2, metric = \"rho_ratio\", batch_size = 100)\n",
    "model = kernel_flow.train_kernel(X_train, Y_train, model, lr = 0.1)"
   ]
  },
  {
   "cell_type": "code",
   "execution_count": 3,
   "id": "60e8a368",
   "metadata": {},
   "outputs": [
    {
     "name": "stdout",
     "output_type": "stream",
     "text": [
      "MSE On test : 0.0000\n"
     ]
    }
   ],
   "source": [
    "model.compute_kernel_and_inverse(regu_lambda = regu_lambda)\n",
    "\n",
    "horizon = 3\n",
    "\n",
    "Y_pred = model.predict_ahead(X_test,horizon=horizon, delay = delay, delta_t_mode = False)\n",
    "\n",
    "mse_pred = (Y_pred.detach()-Y_test).pow(2).mean()\n",
    "\n",
    "print(f\"MSE On test : {mse_pred:.4f}\")"
   ]
  },
  {
   "cell_type": "code",
   "execution_count": 4,
   "id": "3e1f12ae",
   "metadata": {},
   "outputs": [
    {
     "data": {
      "image/png": "[encoded data removed]",
      "text/plain": [
       "<Figure size 432x288 with 1 Axes>"
      ]
     },
     "metadata": {
      "needs_background": "light"
     },
     "output_type": "display_data"
    }
   ],
   "source": [
    "import matplotlib.pyplot as plt\n",
    "plt.scatter(Y_test[:,0],Y_test[:,1], label = \"True\")\n",
    "plt.scatter(Y_pred[:,0].detach(),Y_pred[:,1].detach(), label = f\"Predicted - horizon {horizon}\")\n",
    "plt.title(\"Reconstructed Attractor of Henon Map\")\n",
    "plt.xlabel(\"x\")\n",
    "plt.ylabel(\"y\")\n",
    "plt.legend()\n",
    "plt.show()"
   ]
  },
  {
   "cell_type": "markdown",
   "id": "4fec92b4",
   "metadata": {},
   "source": [
    "### n steps interval"
   ]
  },
  {
   "cell_type": "code",
   "execution_count": 5,
   "id": "c846906b",
   "metadata": {},
   "outputs": [
    {
     "name": "stderr",
     "output_type": "stream",
     "text": [
      "100%|███████████████████████████████████████████████████████████████████████████████████████████████████████████████████████████████████████████████████████████████████████████████████████████████████████████████████████████████████████| 1000/1000 [00:12<00:00, 78.79it/s]\n"
     ]
    }
   ],
   "source": [
    "n = 3\n",
    "\n",
    "# generate dataset\n",
    "Data = datagen.Henon(T=200, dt=0.1,N_sims=1,a=1.4,b=0.3)[0]\n",
    "#train test split\n",
    "observed_data= Data[0::n]\n",
    "train_data = observed_data[:600,:].T\n",
    "test_data = observed_data[600:,:].T\n",
    "#times\n",
    "Times = np.linspace(1,2000-1,2000-1)\n",
    "\n",
    "# Some constants\n",
    "nparameters=24\n",
    "delay = 1\n",
    "regu_lambda = 0.00001\n",
    "\n",
    "# Get scaling factor\n",
    "normalize=np.amax(train_data[:,:])\n",
    "\n",
    "X_train, Y_train = datagen.prepare_data_fast(train_data,delay,normalize)\n",
    "X_test, Y_test = datagen.prepare_data_fast(test_data,delay,normalize)\n",
    "\n",
    "model = kernel_flow.KernelFlows(\"anl3\", nparameters = nparameters, regu_lambda = regu_lambda, dim = 2, metric = \"rho_ratio\", batch_size = 100)\n",
    "\n",
    "model = kernel_flow.train_kernel(X_train, Y_train, model, lr = 0.1)"
   ]
  },
  {
   "cell_type": "code",
   "execution_count": 6,
   "id": "ab45ee1f",
   "metadata": {},
   "outputs": [
    {
     "name": "stdout",
     "output_type": "stream",
     "text": [
      "MSE On test : 0.0011\n"
     ]
    }
   ],
   "source": [
    "model.compute_kernel_and_inverse(regu_lambda = regu_lambda)\n",
    "\n",
    "horizon = 1\n",
    "\n",
    "Y_pred = model.predict_ahead(X_test,horizon=horizon, delay = delay, delta_t_mode = False)\n",
    "\n",
    "mse_pred = (Y_pred.detach()-Y_test).pow(2).mean()\n",
    "\n",
    "print(f\"MSE On test : {mse_pred:.4f}\")"
   ]
  },
  {
   "cell_type": "code",
   "execution_count": 7,
   "id": "14ce04cc",
   "metadata": {
    "scrolled": true
   },
   "outputs": [
    {
     "data": {
      "image/png": "[encoded data removed]",
      "text/plain": [
       "<Figure size 432x288 with 1 Axes>"
      ]
     },
     "metadata": {
      "needs_background": "light"
     },
     "output_type": "display_data"
    }
   ],
   "source": [
    "import matplotlib.pyplot as plt\n",
    "plt.scatter(Y_pred[:,0].detach(),Y_pred[:,1].detach(), label = \"Predicted\")\n",
    "plt.scatter(Y_test[:,0],Y_test[:,1], label = \"True\")\n",
    "plt.title(\"Reconstructed Attractor of Henon Map\")\n",
    "plt.xlabel(\"x\")\n",
    "plt.ylabel(\"y\")\n",
    "plt.legend()\n",
    "plt.show()"
   ]
  },
  {
   "cell_type": "markdown",
   "id": "2737542f",
   "metadata": {},
   "source": [
    "## With irregular sampling"
   ]
  },
  {
   "cell_type": "code",
   "execution_count": 8,
   "id": "bd3199cd",
   "metadata": {},
   "outputs": [
    {
     "name": "stderr",
     "output_type": "stream",
     "text": [
      "100%|███████████████████████████████████████████████████████████████████████████████████████████████████████████████████████████████████████████████████████████████████████████████████████████████████████████████████████████████████████| 1000/1000 [00:11<00:00, 88.09it/s]\n"
     ]
    }
   ],
   "source": [
    "max_delay = 3\n",
    "N_points = 1000\n",
    "dt = 0.1\n",
    "\n",
    "delays = np.random.randint(max_delay,size=N_points-1)+1\n",
    "indices = np.concatenate((np.zeros(1),np.cumsum(delays))).astype(int)\n",
    "\n",
    "max_idx = indices[-1]\n",
    "T = np.ceil(max_idx/dt)\n",
    "# generate dataset\n",
    "Data = datagen.Henon(T=T, dt=dt,N_sims=1,a=1.4,b=0.3)[0]\n",
    "#train test split\n",
    "\n",
    "observed_data = Data[indices]\n",
    "\n",
    "train_data = observed_data[:600,:].T\n",
    "test_data = observed_data[600:,:].T\n",
    "\n",
    "# Some constants\n",
    "nparameters=24\n",
    "delay = 1\n",
    "regu_lambda = 0.00001\n",
    "\n",
    "# Get scaling factor\n",
    "normalize=np.amax(train_data[:,:])\n",
    "\n",
    "X_train, Y_train = datagen.prepare_data_fast(train_data,delay,normalize)\n",
    "X_test, Y_test = datagen.prepare_data_fast(test_data,delay,normalize)\n",
    "\n",
    "model = kernel_flow.KernelFlows(\"anl3\", nparameters = nparameters, regu_lambda = regu_lambda, dim = 2, metric = \"rho_ratio\", batch_size = 100)\n",
    "\n",
    "model = kernel_flow.train_kernel(X_train, Y_train, model, lr = 0.1)"
   ]
  },
  {
   "cell_type": "code",
   "execution_count": 9,
   "id": "d641cd0f",
   "metadata": {},
   "outputs": [
    {
     "name": "stdout",
     "output_type": "stream",
     "text": [
      "MSE On test : 0.1431\n"
     ]
    }
   ],
   "source": [
    "model.compute_kernel_and_inverse(regu_lambda = regu_lambda)\n",
    "\n",
    "horizon = 1\n",
    "\n",
    "Y_pred = model.predict_ahead(X_test,horizon=horizon, delay = delay, delta_t_mode = False)\n",
    "\n",
    "mse_pred = (Y_pred.detach()-Y_test).pow(2).mean()\n",
    "\n",
    "print(f\"MSE On test : {mse_pred:.4f}\")"
   ]
  },
  {
   "cell_type": "code",
   "execution_count": 10,
   "id": "08891717",
   "metadata": {
    "scrolled": true
   },
   "outputs": [
    {
     "data": {
      "image/png": "[encoded data removed]",
      "text/plain": [
       "<Figure size 432x288 with 1 Axes>"
      ]
     },
     "metadata": {
      "needs_background": "light"
     },
     "output_type": "display_data"
    }
   ],
   "source": [
    "import matplotlib.pyplot as plt\n",
    "plt.scatter(Y_pred[:,0].detach(),Y_pred[:,1].detach(), label = \"Predicted\")\n",
    "plt.scatter(Y_test[:,0],Y_test[:,1], label = \"True\")\n",
    "plt.title(\"Reconstructed Attractor of Henon Map\")\n",
    "plt.xlabel(\"x\")\n",
    "plt.ylabel(\"y\")\n",
    "plt.legend()\n",
    "plt.show()"
   ]
  },
  {
   "cell_type": "markdown",
   "id": "3ee5adb2",
   "metadata": {},
   "source": [
    "## With irregular kernel flow"
   ]
  },
  {
   "cell_type": "code",
   "execution_count": 11,
   "id": "9986b7e9",
   "metadata": {},
   "outputs": [
    {
     "name": "stderr",
     "output_type": "stream",
     "text": [
      "100%|███████████████████████████████████████████████████████████████████████████████████████████████████████████████████████████████████████████████████████████████████████████████████████████████████████████████████████████████████████| 1000/1000 [00:10<00:00, 91.39it/s]\n"
     ]
    }
   ],
   "source": [
    "max_delay = 3\n",
    "N_points = 1000\n",
    "dt = 0.1\n",
    "\n",
    "delays = np.random.randint(max_delay,size=N_points-1)+1\n",
    "indices = np.concatenate((np.zeros(1),np.cumsum(delays))).astype(int)\n",
    "delays = np.concatenate((delays,np.zeros(1))).astype(int)\n",
    "\n",
    "max_idx = indices[-1]\n",
    "T = np.ceil(max_idx/dt)\n",
    "# generate dataset\n",
    "Data = datagen.Henon(T=T, dt=dt,N_sims=1,a=1.4,b=0.3)[0]\n",
    "#train test split\n",
    "\n",
    "observed_data = Data[indices]\n",
    "\n",
    "train_data = observed_data[:600,:].T\n",
    "test_data = observed_data[600:,:].T\n",
    "delays_train = delays[:600]\n",
    "delays_test = delays[600:]\n",
    "\n",
    "# Some constants\n",
    "nparameters=24\n",
    "delay = 1\n",
    "regu_lambda = 0.00001\n",
    "\n",
    "# Get scaling factor\n",
    "normalize=np.amax(train_data[:,:])\n",
    "\n",
    "X_train, Y_train = datagen.prepare_data_fast(train_data,delay,normalize, delays_train)\n",
    "X_test, Y_test = datagen.prepare_data_fast(test_data,delay,normalize, delays_test)\n",
    "\n",
    "model = kernel_flow.KernelFlows(\"anl3\", nparameters = nparameters, regu_lambda = regu_lambda, dim = 2, metric = \"rho_ratio\", batch_size = 100)\n",
    "\n",
    "model = kernel_flow.train_kernel(X_train, Y_train, model, lr = 0.1)"
   ]
  },
  {
   "cell_type": "code",
   "execution_count": 12,
   "id": "dbfb7275",
   "metadata": {},
   "outputs": [
    {
     "name": "stdout",
     "output_type": "stream",
     "text": [
      "MSE On test : 0.0001\n"
     ]
    }
   ],
   "source": [
    "model.compute_kernel_and_inverse(regu_lambda = regu_lambda)\n",
    "horizon = 1\n",
    "\n",
    "Y_pred = model.predict_ahead(X_test,horizon=horizon, delay = delay, delta_t_mode = True)\n",
    "\n",
    "mse_pred = (Y_pred.detach()-Y_test).pow(2).mean()\n",
    "\n",
    "print(f\"MSE On test : {mse_pred:.4f}\")"
   ]
  },
  {
   "cell_type": "code",
   "execution_count": 13,
   "id": "712d3c5e",
   "metadata": {},
   "outputs": [
    {
     "data": {
      "image/png": "[encoded data removed]",
      "text/plain": [
       "<Figure size 432x288 with 1 Axes>"
      ]
     },
     "metadata": {
      "needs_background": "light"
     },
     "output_type": "display_data"
    }
   ],
   "source": [
    "import matplotlib.pyplot as plt\n",
    "plt.scatter(Y_pred[:,0].detach(),Y_pred[:,1].detach(), label = \"Predicted\")\n",
    "plt.scatter(Y_test[:,0],Y_test[:,1], label = \"True\")\n",
    "plt.title(\"Reconstructed Attractor of Henon Map\")\n",
    "plt.xlabel(\"x\")\n",
    "plt.ylabel(\"y\")\n",
    "plt.legend()\n",
    "plt.show()"
   ]
  },
  {
   "cell_type": "markdown",
   "id": "0cae114a",
   "metadata": {},
   "source": [
    "# Enforcing the semi-group property"
   ]
  },
  {
   "cell_type": "code",
   "execution_count": 14,
   "id": "b4b821b8",
   "metadata": {},
   "outputs": [],
   "source": [
    "max_delay = 3\n",
    "N_points = 1000\n",
    "dt = 0.1\n",
    "\n",
    "delays = np.random.randint(max_delay,size=N_points-1)+1\n",
    "indices = np.concatenate((np.zeros(1),np.cumsum(delays))).astype(int)\n",
    "delays = np.concatenate((delays,np.zeros(1))).astype(int)\n",
    "\n",
    "max_idx = indices[-1]\n",
    "T = np.ceil(max_idx/dt)\n",
    "# generate dataset\n",
    "Data = datagen.Henon(T=T, dt=dt,N_sims=1,a=1.4,b=0.3)[0]\n",
    "#train test split\n",
    "\n",
    "observed_data = Data[indices]\n",
    "\n",
    "train_data = observed_data[:600,:].T\n",
    "test_data = observed_data[600:,:].T\n",
    "delays_train = delays[:600]\n",
    "delays_test = delays[600:]\n",
    "\n",
    "# Some constants\n",
    "nparameters=24\n",
    "delay = 1\n",
    "regu_lambda = 0.00001\n",
    "\n",
    "# Get scaling factor\n",
    "normalize=np.amax(train_data[:,:])\n",
    "\n",
    "X_train, Y_train = datagen.prepare_data_fast(train_data,delay,normalize, delays_train)\n",
    "X_test, Y_test = datagen.prepare_data_fast(test_data,delay,normalize, delays_test)\n",
    "\n",
    "model = kernel_flow.KernelFlows(\"anl3\", nparameters = nparameters, regu_lambda = regu_lambda, dim = 2, metric = \"rho_general\", batch_size = False)\n",
    "\n",
    "model.set_training_data(torch.Tensor(X_train).double(),torch.Tensor(Y_train).double())"
   ]
  },
  {
   "cell_type": "code",
   "execution_count": 15,
   "id": "0100f284",
   "metadata": {},
   "outputs": [],
   "source": [
    "model.prepare_semi_group(n_z = 0, max_delay = max_delay)"
   ]
  },
  {
   "cell_type": "code",
   "execution_count": 16,
   "id": "041e447f",
   "metadata": {
    "scrolled": true
   },
   "outputs": [
    {
     "name": "stdout",
     "output_type": "stream",
     "text": [
      "Parameter containing:\n",
      "tensor([], size=(0, 2), requires_grad=True)\n"
     ]
    },
    {
     "name": "stderr",
     "output_type": "stream",
     "text": [
      "100%|███████████████████████████████████████████████████████████████████████████████████████████████████████████████████████████████████████████████████████████████████████████████████████████████████████████████████████████████████████| 1000/1000 [00:33<00:00, 29.73it/s]"
     ]
    },
    {
     "name": "stdout",
     "output_type": "stream",
     "text": [
      "Parameter containing:\n",
      "tensor([], size=(0, 2), requires_grad=True)\n"
     ]
    },
    {
     "name": "stderr",
     "output_type": "stream",
     "text": [
      "\n"
     ]
    }
   ],
   "source": [
    "optimizer = torch.optim.SGD(model.parameters(), lr = 0.1)\n",
    "verbose = False\n",
    "print(model.z_tensor)\n",
    "for i in tqdm.tqdm(range(1000)):\n",
    "    optimizer.zero_grad()\n",
    "    rho = model.forward()\n",
    "    if rho>=0 and rho<=1:\n",
    "        rho.backward()\n",
    "        optimizer.step()\n",
    "        if verbose:\n",
    "            print(rho)\n",
    "print(model.z_tensor)\n"
   ]
  },
  {
   "cell_type": "code",
   "execution_count": 17,
   "id": "9a1f729a",
   "metadata": {},
   "outputs": [
    {
     "name": "stdout",
     "output_type": "stream",
     "text": [
      "MSE On test : 6.1498\n"
     ]
    }
   ],
   "source": [
    "model.compute_kernel_and_inverse(regu_lambda = regu_lambda)\n",
    "\n",
    "horizon = 1\n",
    "\n",
    "Y_pred = model.predict_ahead(X_test,horizon=horizon, delay = delay, delta_t_mode = False)\n",
    "\n",
    "mse_pred = (Y_pred.detach()-Y_test).pow(2).mean()\n",
    "\n",
    "print(f\"MSE On test : {mse_pred:.4f}\")"
   ]
  },
  {
   "cell_type": "code",
   "execution_count": 18,
   "id": "7ad3027b",
   "metadata": {
    "scrolled": true
   },
   "outputs": [
    {
     "data": {
      "image/png": "[encoded data removed]",
      "text/plain": [
       "<Figure size 432x288 with 1 Axes>"
      ]
     },
     "metadata": {
      "needs_background": "light"
     },
     "output_type": "display_data"
    }
   ],
   "source": [
    "import matplotlib.pyplot as plt\n",
    "plt.scatter(Y_pred[:,0].detach(),Y_pred[:,1].detach(), label = \"Predicted\")\n",
    "plt.scatter(Y_test[:,0],Y_test[:,1], label = \"True\")\n",
    "plt.title(\"Reconstructed Attractor of Henon Map\")\n",
    "plt.xlabel(\"x\")\n",
    "plt.ylabel(\"y\")\n",
    "plt.legend()\n",
    "plt.show()"
   ]
  },
  {
   "cell_type": "code",
   "execution_count": null,
   "id": "28bc8325",
   "metadata": {},
   "outputs": [],
   "source": []
  },
  {
   "cell_type": "code",
   "execution_count": null,
   "id": "f8d8a702",
   "metadata": {},
   "outputs": [],
   "source": []
  }
 ],
 "metadata": {
  "kernelspec": {
   "display_name": "Python 3 (ipykernel)",
   "language": "python",
   "name": "python3"
  },
  "language_info": {
   "codemirror_mode": {
    "name": "ipython",
    "version": 3
   },
   "file_extension": ".py",
   "mimetype": "text/x-python",
   "name": "python",
   "nbconvert_exporter": "python",
   "pygments_lexer": "ipython3",
   "version": "3.8.10"
  }
 },
 "nbformat": 4,
 "nbformat_minor": 5
}
