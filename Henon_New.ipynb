{
  "cells": [
    {
      "cell_type": "markdown",
      "metadata": {
        "id": "view-in-github",
        "colab_type": "text"
      },
      "source": [
        "<a href=\"https://colab.research.google.com/github/jlee1998/Kernel-Flows-for-Irregular-Time-Series/blob/main/Henon_New.ipynb\" target=\"_parent\"><img src=\"https://colab.research.google.com/assets/colab-badge.svg\" alt=\"Open In Colab\"/></a>"
      ]
    },
    {
      "cell_type": "code",
      "execution_count": null,
      "id": "938d561b",
      "metadata": {
        "id": "938d561b"
      },
      "outputs": [],
      "source": [
        "import numpy as np\n",
        "import torch\n",
        "import tqdm"
      ]
    },
    {
      "cell_type": "code",
      "source": [
        "import numpy as np\n",
        "\n",
        "def Henon(T, dt, N_sims,a=1.4,b=0.3,x0=0,y0=0):\n",
        "    N_t  = int(T//dt)\n",
        "    sims = np.zeros((N_sims, N_t, 2))\n",
        "    sims[:,0]= np.array([x0,y0]).T\n",
        "    for i in range(1,N_t):\n",
        "        sims[:, i] = np.array([1-a*sims[:,i-1,0]**2+sims[:,i-1,1],b*sims[:,i-1,0]]).T\n",
        "    return sims.astype(np.float32)\n"
      ],
      "metadata": {
        "id": "cXDGb7SZC_P8"
      },
      "id": "cXDGb7SZC_P8",
      "execution_count": null,
      "outputs": []
    },
    {
      "cell_type": "code",
      "source": [
        "def prepare_data(data_x,delay, normalize):\n",
        "    lenX=data_x.shape[1]\n",
        "    num_modes = data_x.shape[0]\n",
        "    \n",
        "    X=np.zeros((1+lenX-2*delay,delay*num_modes))\n",
        "    Y=np.zeros((1+lenX-2*delay,delay*num_modes))\n",
        "    for mode in range(num_modes):\n",
        "        for i in range(1+lenX-2*delay):\n",
        "            X[i,(mode*delay):(mode*delay+delay)]=data_x[mode,i:(i+delay)]\n",
        "            Y[i,(mode*delay):(mode*delay+delay)]=data_x[mode,(i+delay):(i+2*delay)]\n",
        "    \n",
        "            \n",
        "    # Normalize\n",
        "    X=X/normalize\n",
        "    Y=Y/normalize\n",
        "    return X, Y\n",
        "\n",
        "def prepare_data_fast(data_x, delay, normalize, irregular_delays = None):\n",
        "    data = data_x.T / normalize\n",
        "    Y = data[delay:]\n",
        "    \n",
        "    #irregular_delays_norm = (irregular_delays-irregular_delays.mean()) / irregular_delays.std()\n",
        "    if irregular_delays is not None:\n",
        "        data = np.concatenate((data,irregular_delays[...,None]),-1)\n",
        "    \n",
        "    X = np.zeros((data.shape[0]-delay,delay*data.shape[1]))\n",
        "\n",
        "    for i in range(X.shape[0]):\n",
        "        X[i] = data[i:(i+delay)].reshape(-1)\n",
        "    \n",
        "    return X, Y\n",
        "\n",
        "def prepare_irregular_data(data_x,delay, normalize, delays):\n",
        "\n",
        "    assert delay==1 # This is currrently validated for delay 1 only. Extra stuff required to generalize.\n",
        "\n",
        "    lenX=data_x.shape[1]\n",
        "    num_modes = data_x.shape[0]\n",
        "    \n",
        "    X=np.zeros((1+lenX-2*delay,delay*num_modes))\n",
        "    Y=np.zeros((1+lenX-2*delay,delay*num_modes))\n",
        "    for mode in range(num_modes):\n",
        "        for i in range(1+lenX-2*delay):\n",
        "            X[i,(mode*delay):(mode*delay+delay)]=data_x[mode,i:(i+delay)]\n",
        "            Y[i,(mode*delay):(mode*delay+delay)]=data_x[mode,(i+delay):(i+2*delay)]\n",
        "    \n",
        "            \n",
        "    # Normalize\n",
        "    X=X/normalize\n",
        "    Y=Y/normalize\n",
        "\n",
        "    X = np.concatenate((X,delays[...,None][:-1]),-1)\n",
        "\n",
        "    return X, Y"
      ],
      "metadata": {
        "id": "vfEGFF9HxnoA"
      },
      "id": "vfEGFF9HxnoA",
      "execution_count": null,
      "outputs": []
    },
    {
      "cell_type": "code",
      "source": [
        "import torch\n",
        "import numpy as np\n",
        "#%% Kernel operations\n",
        "\n",
        "# Returns the norm of the pairwise difference\n",
        "def norm_matrix(matrix_1, matrix_2):\n",
        "    norm_square_1 = torch.sum(torch.square(matrix_1), axis = 1)\n",
        "    norm_square_1 = torch.reshape(norm_square_1, (-1,1))\n",
        "    \n",
        "    norm_square_2 = torch.sum(torch.square(matrix_2), axis = 1)\n",
        "    norm_square_2 = torch.reshape(norm_square_2, (-1,1))\n",
        "    \n",
        "    d1=matrix_1.shape\n",
        "    d2=matrix_2.shape\n",
        "#   print(d1)\n",
        "#   print(d2)\n",
        "    if d1[1]!=d2[1]:\n",
        "        matrix_1=torch.transpose(matrix_1)\n",
        "    \n",
        "    inner_matrix = torch.matmul(matrix_1, torch.transpose(matrix_2,0,1))\n",
        "    \n",
        "    norm_diff = -2 * inner_matrix + norm_square_1 + torch.transpose(norm_square_2,0,1)\n",
        "#    print(norm_diff.shape)\n",
        "    \n",
        "    return norm_diff\n",
        "\n",
        "\n",
        "\n",
        "# Returns the pairwise inner product\n",
        "def inner_matrix(matrix_1, matrix_2):\n",
        "    d1=matrix_1.shape\n",
        "    d2=matrix_2.shape\n",
        "    # print(d1)\n",
        "    # print(d2)\n",
        "    if d1[1]!=d2[1]:\n",
        "        matrix_1=torch.transpose(matrix_1,0,1)\n",
        "    return torch.matmul(matrix_1, torch.transpose(matrix_2,0,1))\n",
        "\n",
        "def kernel_anl3(matrix_1, matrix_2, parameters):\n",
        "    i=0\n",
        "    \n",
        "    matrix = norm_matrix(matrix_1, matrix_2)\n",
        "    sigma = parameters[i+0]\n",
        "    K =  torch.exp(-matrix/ (2* sigma**2))\n",
        "    K=K*(parameters[i+1])**2\n",
        "    i=i+2\n",
        "    \n",
        "    \n",
        "    c = (parameters[i])**2\n",
        "    imatrix = inner_matrix(matrix_1, matrix_2)\n",
        "    K = K+ (parameters[i+1])**2 *(imatrix+c) ** 2\n",
        "    i=i+2\n",
        "    \n",
        "    beta = parameters[i]\n",
        "    gamma = (parameters[i+1])**2\n",
        "    K=K+ (parameters[i+2])**2 *(beta**2 + gamma*matrix)**(-1/2)\n",
        "    i=i+3\n",
        "    \n",
        "    alpha = parameters[i]\n",
        "    beta = parameters[i+1]\n",
        "    K=K+ (parameters[i+2])**2 *(beta**2 + matrix)**(-alpha)\n",
        "    i=i+3\n",
        "    \n",
        "    sigma = parameters[i]\n",
        "    K=K+ (parameters[i+1])**2 * 1/(1 + matrix/sigma**2)\n",
        "    i=i+2\n",
        "    \n",
        "    alpha_0 = parameters[i]\n",
        "    sigma_0 = parameters[i+1]\n",
        "    alpha_1 = parameters[i+2]\n",
        "    sigma_1 = parameters[i+3]\n",
        "    K =  K+ (parameters[i+4])**2 *alpha_0*torch.maximum(torch.zeros(1,device = parameters.device), 1-matrix/(sigma_0))+ alpha_1 * torch.exp(-matrix/ (2* sigma_1**2))\n",
        "    i=i+5\n",
        "    \n",
        "    p = parameters[i]\n",
        "    l = parameters[i+1]\n",
        "    sigma = parameters[i+2]\n",
        "    K =K+ (parameters[i+3])**2 * torch.exp(-torch.sin(matrix*np.pi/p)**2/l**2)*torch.exp(-matrix/sigma**2)\n",
        "    i=i+4\n",
        "    \n",
        "    p = parameters[i]\n",
        "    l = parameters[i+1]\n",
        "    K = K+ (parameters[i+2])**2 *torch.exp(-torch.sin(matrix*np.pi/p)/l**2)\n",
        "    i=i+3\n",
        "    \n",
        "    return K"
      ],
      "metadata": {
        "id": "kvNPKFBKxwVr"
      },
      "id": "kvNPKFBKxwVr",
      "execution_count": null,
      "outputs": []
    },
    {
      "cell_type": "code",
      "source": [
        "import numpy as np\n",
        "import torch\n",
        "import math\n",
        "import tqdm\n",
        "\n",
        "def sample_selection(N, size):\n",
        "    indices = np.arange(N)\n",
        "    sample_indices = np.sort(np.random.choice(indices, size, replace= False))\n",
        "    #sample_indices = indices[:size]\n",
        "    return sample_indices\n",
        "\n",
        "# The pi or selection matrix\n",
        "def pi_matrix(sample_indices, dimension):\n",
        "    pi = torch.zeros(dimension).double()\n",
        "    \n",
        "    for i in range(dimension[0]):\n",
        "        pi[i][sample_indices[i]] = 1\n",
        "    \n",
        "    return pi\n",
        "\n",
        "def batch_creation(N, batch_size, sample_proportion = 0.5):\n",
        "    if batch_size == False:\n",
        "        batch_indices = np.arange(N)\n",
        "    elif 0 < batch_size <= 1:\n",
        "        batch_size = int(N * batch_size)\n",
        "        batch_indices = sample_selection(N, batch_size)\n",
        "    else:\n",
        "        batch_indices = sample_selection(N, batch_size)\n",
        "        \n",
        "    # Sample from the mini-batch\n",
        "    sample_size = math.ceil(len(batch_indices)*sample_proportion)\n",
        "    sample_indices = sample_selection(len(batch_indices), sample_size)\n",
        "    \n",
        "    return sample_indices, batch_indices\n",
        "\n",
        "class KernelFlows(torch.nn.Module):\n",
        "    \n",
        "    def __init__(self, kernel_keyword, nparameters, regu_lambda, dim, metric = \"rho_ratio\", batch_size = 100):\n",
        "        super().__init__()\n",
        "        self.kernel_keyword = kernel_keyword\n",
        "        \n",
        "        self.regu_lambda = regu_lambda\n",
        "\n",
        "        self.kernel_params = torch.nn.Parameter(torch.ones(nparameters),requires_grad = True)\n",
        "        self.kernel = kernel_anl3\n",
        "\n",
        "        self.dim = dim\n",
        "\n",
        "        self.batch_size = batch_size\n",
        "\n",
        "        if metric == \"rho_ratio\":\n",
        "            self.rho_fun = self.rho_ratio\n",
        "        elif metric == \"rho_general\":\n",
        "            self.rho_fun = self.rho_general\n",
        "        else:\n",
        "            raise(\"Metric not supported\")\n",
        "        self.metric = metric\n",
        "\n",
        "    def get_parameters(self):\n",
        "        return self.kernel_params\n",
        "    \n",
        "    def set_train(self, train):\n",
        "        self.train = train\n",
        "\n",
        "    def set_training_data(self,X,Y):\n",
        "        self.X_train = X\n",
        "        self.Y_train = Y\n",
        "\n",
        "\n",
        "    def rho_ratio(self, matrix_data, Y_data, sample_indices,  regu_lambda = 0.000001):\n",
        "        \n",
        "        kernel_matrix = self.kernel(matrix_data, matrix_data, self.kernel_params)\n",
        "        pi = pi_matrix(sample_indices, (sample_indices.shape[0], matrix_data.shape[0])).to(matrix_data.device) \n",
        "        \n",
        "        sample_matrix = torch.matmul(pi, torch.matmul(kernel_matrix, torch.transpose(pi,0,1)))\n",
        "        \n",
        "        Y_sample = Y_data[sample_indices]\n",
        "        \n",
        "        inverse_data = torch.linalg.inv(kernel_matrix + regu_lambda * torch.eye(kernel_matrix.shape[0], device = matrix_data.device))\n",
        "        inverse_sample = torch.linalg.inv(sample_matrix + regu_lambda * torch.eye(sample_matrix.shape[0], device = matrix_data.device))\n",
        "\n",
        "        top = torch.tensordot(Y_sample, torch.matmul(inverse_sample, Y_sample))\n",
        "        \n",
        "        bottom = torch.tensordot(Y_data, torch.matmul(inverse_data, Y_data))\n",
        "        \n",
        "        return 1 - top/bottom \n",
        "    \n",
        "    def rho_general(self, matrix_data, Y_data,  regu_lambda = 0.000001, **kwargs):\n",
        "        \n",
        "        kernel_matrix = self.kernel(matrix_data, matrix_data, self.kernel_params)\n",
        "\n",
        "        kernel_matrix = kernel_matrix / torch.trace(kernel_matrix)\n",
        "        \n",
        "        inverse_matrix = torch.linalg.inv(kernel_matrix + regu_lambda * torch.eye(kernel_matrix.shape[0]))\n",
        "        \n",
        "        rho = torch.tensordot(Y_data, torch.matmul(inverse_matrix, Y_data))\n",
        "        \n",
        "        return rho\n",
        "\n",
        "    def forward(self, adaptive_size = False, proportion = 0.5):            \n",
        "        \n",
        "        if adaptive_size == False or adaptive_size == \"Dynamic\":\n",
        "            sample_size = proportion\n",
        "        elif adaptive_size == \"Linear\":\n",
        "            sample_size_array = sample_size_linear(iterations, adaptive_range) \n",
        "        else:\n",
        "            print(\"Sample size not recognized\")\n",
        "            \n",
        "                \n",
        "        # Create a batch and a sample\n",
        "        sample_indices, batch_indices = batch_creation(self.X_train.shape[0], batch_size= self.batch_size, sample_proportion = sample_size)\n",
        "        X_data = self.X_train[batch_indices]\n",
        "        Y_data = self.Y_train[batch_indices]\n",
        "        \n",
        "        #optimizer and backward\n",
        "\n",
        "        rho = self.rho_fun( X_data, Y_data, \n",
        "                                       sample_indices = sample_indices, regu_lambda = self.regu_lambda)\n",
        "           \n",
        "        return rho\n",
        "\n",
        "    def compute_kernel_and_inverse(self,regu_lambda = 0.0000001):\n",
        "        X_data = self.X_train\n",
        "        self.kernel_matrix = self.kernel(X_data,X_data, self.kernel_params)\n",
        "        self.kernel_matrix += regu_lambda * torch.eye(self.kernel_matrix.shape[0], device = X_data.device)\n",
        "        \n",
        "        self.inverse_kernel = torch.linalg.inv(self.kernel_matrix)\n",
        "        self.A_matrix = torch.matmul(self.inverse_kernel,self.Y_train)\n",
        "\n",
        "        return self.kernel_matrix\n",
        "\n",
        "    def predict(self,x_test):\n",
        "        kernel_pred = self.kernel(x_test,self.X_train,self.kernel_params)\n",
        "        prediction = torch.matmul(kernel_pred,self.A_matrix)\n",
        "        return prediction\n",
        "\n",
        "    def predict_ahead(self,x_test, horizon, delay, delta_t_mode = False, device = None):\n",
        "        \"\"\"\n",
        "        Perform n=horizon steps ahead prediction.\n",
        "        If delta_t_mode is True, x_test is expected to have the the following structure (X(t-1),delta_t-1,X(t),delta_t))\n",
        "        \n",
        "        out_dim is the dimension of the y vector (and of the observations in x as well)\n",
        "        delay : delay used in the x\n",
        "        \"\"\"\n",
        "        assert horizon >0 # minimum horizon is 1\n",
        "        assert delay >0 \n",
        "\n",
        "        Y_p = torch.zeros((x_test.shape[0],self.dim))\n",
        "        X_test_ = torch.Tensor(x_test).double().to(device)\n",
        "\n",
        "        if delta_t_mode:\n",
        "            indices_delays = [((self.dim+1)*i,(self.dim+1)*i+1) for i in range(delay)] # We should not touch the delta t\n",
        "        else:\n",
        "            indices_delays = [(self.dim*i,self.dim*i+1) for i in range(delay)]\n",
        "        \n",
        "        # Make sure there is no contamination (deleting the previous values)\n",
        "        for dim in range(horizon):\n",
        "            n_delays = min(dim,delay)\n",
        "            for n in range(1,n_delays+1):\n",
        "                X_test_[dim::horizon][:,indices_delays[-n]] = 0\n",
        "\n",
        "        # Predicting and propagating predictions to the next step.\n",
        "        for dim in range(horizon):\n",
        "    \n",
        "            Y_p[dim::horizon] = self.predict(X_test_[dim::horizon])\n",
        "            \n",
        "            for dim_plus in range(dim+1,min(horizon,delay+dim+1)):\n",
        "                \n",
        "                l_x = X_test_[dim_plus::horizon].shape[0]\n",
        "                idx = dim_plus-dim\n",
        "\n",
        "                X_test_[dim_plus::horizon][:,indices_delays[-1*idx][0]:1+indices_delays[-1*idx][1]] = Y_p[dim::horizon][:l_x] # should be -1-2:-1 for irregular\n",
        "\n",
        "        return Y_p\n",
        "\n",
        "def train_kernel(X_train, Y_train, model,  lr = 0.1, verbose= True,epochs=1000):\n",
        "    \"\"\"\n",
        "    dim is the dimension of a single observation\n",
        "    \"\"\" \n",
        "    #model = KernelFlows(kernel_name,nparameters= nparameters, regu_lambda=regu_lambda, dim = dim)\n",
        "    optimizer = torch.optim.SGD(model.parameters(), lr = lr)\n",
        "\n",
        "    model.set_training_data(torch.Tensor(X_train).double(),torch.Tensor(Y_train).double())\n",
        "    rho_list=[]\n",
        "\n",
        "    for i in tqdm.tqdm(range(epochs)):\n",
        "        optimizer.zero_grad()\n",
        "        rho = model.forward()\n",
        "        rho_list.append(rho.detach().numpy())\n",
        "        if rho>=0 and rho<=1 and model.metric==\"rho_ratio\":\n",
        "            rho.backward()\n",
        "            optimizer.step()\n",
        "            if verbose:\n",
        "                print(rho)\n",
        "            \n",
        "    return model, rho_list"
      ],
      "metadata": {
        "id": "6REeWtetIbvB"
      },
      "id": "6REeWtetIbvB",
      "execution_count": null,
      "outputs": []
    },
    {
      "cell_type": "markdown",
      "id": "c0bc24cb",
      "metadata": {
        "id": "c0bc24cb"
      },
      "source": [
        "## Regular Henon\n",
        "\n",
        "### 1 step\n",
        "\n",
        "\n",
        "\n",
        "\n",
        "\n",
        "\n",
        "\n"
      ]
    },
    {
      "cell_type": "code",
      "execution_count": null,
      "id": "6ff45d04",
      "metadata": {
        "id": "6ff45d04",
        "outputId": "aaf42ece-a250-470b-fc88-d9e388f42f5a",
        "colab": {
          "base_uri": "https://localhost:8080/"
        }
      },
      "outputs": [
        {
          "output_type": "stream",
          "name": "stderr",
          "text": [
            "  1%|          | 10/1000 [00:00<00:46, 21.48it/s]"
          ]
        },
        {
          "output_type": "stream",
          "name": "stdout",
          "text": [
            "tensor(0.8910, dtype=torch.float64, grad_fn=<RsubBackward1>)\n",
            "tensor(0.1369, dtype=torch.float64, grad_fn=<RsubBackward1>)\n",
            "tensor(0.1670, dtype=torch.float64, grad_fn=<RsubBackward1>)\n",
            "tensor(0.1366, dtype=torch.float64, grad_fn=<RsubBackward1>)\n",
            "tensor(0.3634, dtype=torch.float64, grad_fn=<RsubBackward1>)\n"
          ]
        },
        {
          "output_type": "stream",
          "name": "stderr",
          "text": [
            "  2%|▏         | 20/1000 [00:00<00:30, 31.89it/s]"
          ]
        },
        {
          "output_type": "stream",
          "name": "stdout",
          "text": [
            "tensor(0.3954, dtype=torch.float64, grad_fn=<RsubBackward1>)\n",
            "tensor(0.2128, dtype=torch.float64, grad_fn=<RsubBackward1>)\n",
            "tensor(0.0408, dtype=torch.float64, grad_fn=<RsubBackward1>)\n",
            "tensor(0.0844, dtype=torch.float64, grad_fn=<RsubBackward1>)\n",
            "tensor(0.0887, dtype=torch.float64, grad_fn=<RsubBackward1>)\n",
            "tensor(0.0531, dtype=torch.float64, grad_fn=<RsubBackward1>)\n"
          ]
        },
        {
          "output_type": "stream",
          "name": "stderr",
          "text": [
            "  3%|▎         | 30/1000 [00:01<00:25, 38.04it/s]"
          ]
        },
        {
          "output_type": "stream",
          "name": "stdout",
          "text": [
            "tensor(0.0504, dtype=torch.float64, grad_fn=<RsubBackward1>)\n",
            "tensor(0.0488, dtype=torch.float64, grad_fn=<RsubBackward1>)\n",
            "tensor(0.0569, dtype=torch.float64, grad_fn=<RsubBackward1>)\n",
            "tensor(0.0716, dtype=torch.float64, grad_fn=<RsubBackward1>)\n",
            "tensor(0.0408, dtype=torch.float64, grad_fn=<RsubBackward1>)\n",
            "tensor(0.0414, dtype=torch.float64, grad_fn=<RsubBackward1>)\n",
            "tensor(0.0484, dtype=torch.float64, grad_fn=<RsubBackward1>)\n",
            "tensor(0.0752, dtype=torch.float64, grad_fn=<RsubBackward1>)\n",
            "tensor(0.0517, dtype=torch.float64, grad_fn=<RsubBackward1>)\n",
            "tensor(0.0556, dtype=torch.float64, grad_fn=<RsubBackward1>)\n"
          ]
        },
        {
          "output_type": "stream",
          "name": "stderr",
          "text": [
            "\r  4%|▎         | 35/1000 [00:01<00:27, 35.32it/s]"
          ]
        },
        {
          "output_type": "stream",
          "name": "stdout",
          "text": [
            "tensor(0.0670, dtype=torch.float64, grad_fn=<RsubBackward1>)\n",
            "tensor(0.0323, dtype=torch.float64, grad_fn=<RsubBackward1>)\n",
            "tensor(0.0511, dtype=torch.float64, grad_fn=<RsubBackward1>)\n",
            "tensor(0.0642, dtype=torch.float64, grad_fn=<RsubBackward1>)\n",
            "tensor(0.0485, dtype=torch.float64, grad_fn=<RsubBackward1>)\n",
            "tensor(0.0597, dtype=torch.float64, grad_fn=<RsubBackward1>)\n"
          ]
        },
        {
          "output_type": "stream",
          "name": "stderr",
          "text": [
            "  4%|▍         | 43/1000 [00:01<00:27, 34.45it/s]"
          ]
        },
        {
          "output_type": "stream",
          "name": "stdout",
          "text": [
            "tensor(0.0386, dtype=torch.float64, grad_fn=<RsubBackward1>)\n",
            "tensor(0.0651, dtype=torch.float64, grad_fn=<RsubBackward1>)\n",
            "tensor(0.0503, dtype=torch.float64, grad_fn=<RsubBackward1>)\n",
            "tensor(0.0574, dtype=torch.float64, grad_fn=<RsubBackward1>)\n",
            "tensor(0.0307, dtype=torch.float64, grad_fn=<RsubBackward1>)\n",
            "tensor(0.0374, dtype=torch.float64, grad_fn=<RsubBackward1>)\n",
            "tensor(0.0326, dtype=torch.float64, grad_fn=<RsubBackward1>)\n",
            "tensor(0.0379, dtype=torch.float64, grad_fn=<RsubBackward1>)\n",
            "tensor(0.0469, dtype=torch.float64, grad_fn=<RsubBackward1>)\n"
          ]
        },
        {
          "output_type": "stream",
          "name": "stderr",
          "text": [
            "  5%|▌         | 52/1000 [00:01<00:26, 36.05it/s]"
          ]
        },
        {
          "output_type": "stream",
          "name": "stdout",
          "text": [
            "tensor(0.0369, dtype=torch.float64, grad_fn=<RsubBackward1>)\n",
            "tensor(0.0398, dtype=torch.float64, grad_fn=<RsubBackward1>)\n",
            "tensor(0.0441, dtype=torch.float64, grad_fn=<RsubBackward1>)\n",
            "tensor(0.0350, dtype=torch.float64, grad_fn=<RsubBackward1>)\n",
            "tensor(0.0163, dtype=torch.float64, grad_fn=<RsubBackward1>)\n",
            "tensor(0.0320, dtype=torch.float64, grad_fn=<RsubBackward1>)\n",
            "tensor(0.0357, dtype=torch.float64, grad_fn=<RsubBackward1>)\n"
          ]
        },
        {
          "output_type": "stream",
          "name": "stderr",
          "text": [
            "  6%|▌         | 61/1000 [00:01<00:25, 37.21it/s]"
          ]
        },
        {
          "output_type": "stream",
          "name": "stdout",
          "text": [
            "tensor(0.0496, dtype=torch.float64, grad_fn=<RsubBackward1>)\n",
            "tensor(0.0230, dtype=torch.float64, grad_fn=<RsubBackward1>)\n",
            "tensor(0.0281, dtype=torch.float64, grad_fn=<RsubBackward1>)\n",
            "tensor(0.0279, dtype=torch.float64, grad_fn=<RsubBackward1>)\n",
            "tensor(0.0457, dtype=torch.float64, grad_fn=<RsubBackward1>)\n",
            "tensor(0.0328, dtype=torch.float64, grad_fn=<RsubBackward1>)\n",
            "tensor(0.0369, dtype=torch.float64, grad_fn=<RsubBackward1>)\n",
            "tensor(0.0373, dtype=torch.float64, grad_fn=<RsubBackward1>)\n",
            "tensor(0.0231, dtype=torch.float64, grad_fn=<RsubBackward1>)\n",
            "tensor(0.0377, dtype=torch.float64, grad_fn=<RsubBackward1>)\n"
          ]
        },
        {
          "output_type": "stream",
          "name": "stderr",
          "text": [
            "\r  7%|▋         | 67/1000 [00:02<00:21, 43.12it/s]"
          ]
        },
        {
          "output_type": "stream",
          "name": "stdout",
          "text": [
            "tensor(0.0206, dtype=torch.float64, grad_fn=<RsubBackward1>)\n",
            "tensor(0.0223, dtype=torch.float64, grad_fn=<RsubBackward1>)\n",
            "tensor(0.0322, dtype=torch.float64, grad_fn=<RsubBackward1>)\n",
            "tensor(0.0407, dtype=torch.float64, grad_fn=<RsubBackward1>)\n",
            "tensor(0.0222, dtype=torch.float64, grad_fn=<RsubBackward1>)\n",
            "tensor(0.0138, dtype=torch.float64, grad_fn=<RsubBackward1>)\n",
            "tensor(0.0213, dtype=torch.float64, grad_fn=<RsubBackward1>)\n",
            "tensor(0.0283, dtype=torch.float64, grad_fn=<RsubBackward1>)\n"
          ]
        },
        {
          "output_type": "stream",
          "name": "stderr",
          "text": [
            "  8%|▊         | 77/1000 [00:02<00:23, 39.20it/s]"
          ]
        },
        {
          "output_type": "stream",
          "name": "stdout",
          "text": [
            "tensor(0.0182, dtype=torch.float64, grad_fn=<RsubBackward1>)\n",
            "tensor(0.0442, dtype=torch.float64, grad_fn=<RsubBackward1>)\n",
            "tensor(0.0132, dtype=torch.float64, grad_fn=<RsubBackward1>)\n",
            "tensor(0.0290, dtype=torch.float64, grad_fn=<RsubBackward1>)\n",
            "tensor(0.0336, dtype=torch.float64, grad_fn=<RsubBackward1>)\n",
            "tensor(0.0263, dtype=torch.float64, grad_fn=<RsubBackward1>)\n",
            "tensor(0.0267, dtype=torch.float64, grad_fn=<RsubBackward1>)\n",
            "tensor(0.0179, dtype=torch.float64, grad_fn=<RsubBackward1>)\n",
            "tensor(0.0254, dtype=torch.float64, grad_fn=<RsubBackward1>)\n"
          ]
        },
        {
          "output_type": "stream",
          "name": "stderr",
          "text": [
            "  9%|▊         | 87/1000 [00:02<00:24, 37.74it/s]"
          ]
        },
        {
          "output_type": "stream",
          "name": "stdout",
          "text": [
            "tensor(0.0134, dtype=torch.float64, grad_fn=<RsubBackward1>)\n",
            "tensor(0.0241, dtype=torch.float64, grad_fn=<RsubBackward1>)\n",
            "tensor(0.0159, dtype=torch.float64, grad_fn=<RsubBackward1>)\n",
            "tensor(0.0165, dtype=torch.float64, grad_fn=<RsubBackward1>)\n",
            "tensor(0.0229, dtype=torch.float64, grad_fn=<RsubBackward1>)\n",
            "tensor(0.0202, dtype=torch.float64, grad_fn=<RsubBackward1>)\n",
            "tensor(0.0221, dtype=torch.float64, grad_fn=<RsubBackward1>)\n",
            "tensor(0.0136, dtype=torch.float64, grad_fn=<RsubBackward1>)\n"
          ]
        },
        {
          "output_type": "stream",
          "name": "stderr",
          "text": [
            " 10%|▉         | 99/1000 [00:02<00:19, 46.54it/s]"
          ]
        },
        {
          "output_type": "stream",
          "name": "stdout",
          "text": [
            "tensor(0.0208, dtype=torch.float64, grad_fn=<RsubBackward1>)\n",
            "tensor(0.0121, dtype=torch.float64, grad_fn=<RsubBackward1>)\n",
            "tensor(0.0208, dtype=torch.float64, grad_fn=<RsubBackward1>)\n",
            "tensor(0.0289, dtype=torch.float64, grad_fn=<RsubBackward1>)\n",
            "tensor(0.0159, dtype=torch.float64, grad_fn=<RsubBackward1>)\n",
            "tensor(0.0212, dtype=torch.float64, grad_fn=<RsubBackward1>)\n",
            "tensor(0.0243, dtype=torch.float64, grad_fn=<RsubBackward1>)\n",
            "tensor(0.0304, dtype=torch.float64, grad_fn=<RsubBackward1>)\n",
            "tensor(0.0226, dtype=torch.float64, grad_fn=<RsubBackward1>)\n",
            "tensor(0.0129, dtype=torch.float64, grad_fn=<RsubBackward1>)\n",
            "tensor(0.0293, dtype=torch.float64, grad_fn=<RsubBackward1>)\n"
          ]
        },
        {
          "output_type": "stream",
          "name": "stderr",
          "text": [
            " 11%|█         | 110/1000 [00:02<00:17, 49.85it/s]"
          ]
        },
        {
          "output_type": "stream",
          "name": "stdout",
          "text": [
            "tensor(0.0219, dtype=torch.float64, grad_fn=<RsubBackward1>)\n",
            "tensor(0.0167, dtype=torch.float64, grad_fn=<RsubBackward1>)\n",
            "tensor(0.0137, dtype=torch.float64, grad_fn=<RsubBackward1>)\n",
            "tensor(0.0202, dtype=torch.float64, grad_fn=<RsubBackward1>)\n",
            "tensor(0.0120, dtype=torch.float64, grad_fn=<RsubBackward1>)\n",
            "tensor(0.0192, dtype=torch.float64, grad_fn=<RsubBackward1>)\n",
            "tensor(0.0288, dtype=torch.float64, grad_fn=<RsubBackward1>)\n",
            "tensor(0.0171, dtype=torch.float64, grad_fn=<RsubBackward1>)\n",
            "tensor(0.0221, dtype=torch.float64, grad_fn=<RsubBackward1>)\n",
            "tensor(0.0097, dtype=torch.float64, grad_fn=<RsubBackward1>)\n",
            "tensor(0.0137, dtype=torch.float64, grad_fn=<RsubBackward1>)\n"
          ]
        },
        {
          "output_type": "stream",
          "name": "stderr",
          "text": [
            "\r 12%|█▏        | 116/1000 [00:03<00:18, 46.86it/s]"
          ]
        },
        {
          "output_type": "stream",
          "name": "stdout",
          "text": [
            "tensor(0.0165, dtype=torch.float64, grad_fn=<RsubBackward1>)\n",
            "tensor(0.0187, dtype=torch.float64, grad_fn=<RsubBackward1>)\n",
            "tensor(0.0141, dtype=torch.float64, grad_fn=<RsubBackward1>)\n",
            "tensor(0.0083, dtype=torch.float64, grad_fn=<RsubBackward1>)\n",
            "tensor(0.0157, dtype=torch.float64, grad_fn=<RsubBackward1>)\n",
            "tensor(0.0132, dtype=torch.float64, grad_fn=<RsubBackward1>)\n",
            "tensor(0.0137, dtype=torch.float64, grad_fn=<RsubBackward1>)\n",
            "tensor(0.0179, dtype=torch.float64, grad_fn=<RsubBackward1>)\n",
            "tensor(0.0136, dtype=torch.float64, grad_fn=<RsubBackward1>)\n",
            "tensor(0.0136, dtype=torch.float64, grad_fn=<RsubBackward1>)\n",
            "tensor(0.0159, dtype=torch.float64, grad_fn=<RsubBackward1>)\n"
          ]
        },
        {
          "output_type": "stream",
          "name": "stderr",
          "text": [
            " 13%|█▎        | 128/1000 [00:03<00:17, 50.80it/s]"
          ]
        },
        {
          "output_type": "stream",
          "name": "stdout",
          "text": [
            "tensor(0.0109, dtype=torch.float64, grad_fn=<RsubBackward1>)\n",
            "tensor(0.0156, dtype=torch.float64, grad_fn=<RsubBackward1>)\n",
            "tensor(0.0225, dtype=torch.float64, grad_fn=<RsubBackward1>)\n",
            "tensor(0.0220, dtype=torch.float64, grad_fn=<RsubBackward1>)\n",
            "tensor(0.0112, dtype=torch.float64, grad_fn=<RsubBackward1>)\n",
            "tensor(0.0302, dtype=torch.float64, grad_fn=<RsubBackward1>)\n",
            "tensor(0.0076, dtype=torch.float64, grad_fn=<RsubBackward1>)\n",
            "tensor(0.0131, dtype=torch.float64, grad_fn=<RsubBackward1>)\n",
            "tensor(0.0124, dtype=torch.float64, grad_fn=<RsubBackward1>)\n",
            "tensor(0.0117, dtype=torch.float64, grad_fn=<RsubBackward1>)\n",
            "tensor(0.0095, dtype=torch.float64, grad_fn=<RsubBackward1>)\n",
            "tensor(0.0112, dtype=torch.float64, grad_fn=<RsubBackward1>)\n"
          ]
        },
        {
          "output_type": "stream",
          "name": "stderr",
          "text": [
            " 14%|█▍        | 140/1000 [00:03<00:17, 48.34it/s]"
          ]
        },
        {
          "output_type": "stream",
          "name": "stdout",
          "text": [
            "tensor(0.0085, dtype=torch.float64, grad_fn=<RsubBackward1>)\n",
            "tensor(0.0094, dtype=torch.float64, grad_fn=<RsubBackward1>)\n",
            "tensor(0.0178, dtype=torch.float64, grad_fn=<RsubBackward1>)\n",
            "tensor(0.0311, dtype=torch.float64, grad_fn=<RsubBackward1>)\n",
            "tensor(0.0190, dtype=torch.float64, grad_fn=<RsubBackward1>)\n",
            "tensor(0.0126, dtype=torch.float64, grad_fn=<RsubBackward1>)\n",
            "tensor(0.0079, dtype=torch.float64, grad_fn=<RsubBackward1>)\n",
            "tensor(0.0053, dtype=torch.float64, grad_fn=<RsubBackward1>)\n",
            "tensor(0.0078, dtype=torch.float64, grad_fn=<RsubBackward1>)"
          ]
        },
        {
          "output_type": "stream",
          "name": "stderr",
          "text": [
            " 15%|█▌        | 152/1000 [00:03<00:16, 50.93it/s]"
          ]
        },
        {
          "output_type": "stream",
          "name": "stdout",
          "text": [
            "\n",
            "tensor(0.0148, dtype=torch.float64, grad_fn=<RsubBackward1>)\n",
            "tensor(0.0218, dtype=torch.float64, grad_fn=<RsubBackward1>)\n",
            "tensor(0.0108, dtype=torch.float64, grad_fn=<RsubBackward1>)\n",
            "tensor(0.0116, dtype=torch.float64, grad_fn=<RsubBackward1>)\n",
            "tensor(0.0239, dtype=torch.float64, grad_fn=<RsubBackward1>)\n",
            "tensor(0.0108, dtype=torch.float64, grad_fn=<RsubBackward1>)\n",
            "tensor(0.0131, dtype=torch.float64, grad_fn=<RsubBackward1>)\n",
            "tensor(0.0097, dtype=torch.float64, grad_fn=<RsubBackward1>)\n",
            "tensor(0.0105, dtype=torch.float64, grad_fn=<RsubBackward1>)\n",
            "tensor(0.0147, dtype=torch.float64, grad_fn=<RsubBackward1>)\n",
            "tensor(0.0115, dtype=torch.float64, grad_fn=<RsubBackward1>)\n"
          ]
        },
        {
          "output_type": "stream",
          "name": "stderr",
          "text": [
            " 16%|█▋        | 163/1000 [00:04<00:17, 48.46it/s]"
          ]
        },
        {
          "output_type": "stream",
          "name": "stdout",
          "text": [
            "tensor(0.0138, dtype=torch.float64, grad_fn=<RsubBackward1>)\n",
            "tensor(0.0098, dtype=torch.float64, grad_fn=<RsubBackward1>)\n",
            "tensor(0.0092, dtype=torch.float64, grad_fn=<RsubBackward1>)\n",
            "tensor(0.0198, dtype=torch.float64, grad_fn=<RsubBackward1>)\n",
            "tensor(0.0096, dtype=torch.float64, grad_fn=<RsubBackward1>)\n",
            "tensor(0.0221, dtype=torch.float64, grad_fn=<RsubBackward1>)\n",
            "tensor(0.0099, dtype=torch.float64, grad_fn=<RsubBackward1>)\n",
            "tensor(0.0084, dtype=torch.float64, grad_fn=<RsubBackward1>)\n",
            "tensor(0.0135, dtype=torch.float64, grad_fn=<RsubBackward1>)\n",
            "tensor(0.0128, dtype=torch.float64, grad_fn=<RsubBackward1>)\n"
          ]
        },
        {
          "output_type": "stream",
          "name": "stderr",
          "text": [
            " 17%|█▋        | 173/1000 [00:04<00:18, 45.45it/s]"
          ]
        },
        {
          "output_type": "stream",
          "name": "stdout",
          "text": [
            "tensor(0.0145, dtype=torch.float64, grad_fn=<RsubBackward1>)\n",
            "tensor(0.0270, dtype=torch.float64, grad_fn=<RsubBackward1>)\n",
            "tensor(0.0236, dtype=torch.float64, grad_fn=<RsubBackward1>)\n",
            "tensor(0.0080, dtype=torch.float64, grad_fn=<RsubBackward1>)\n",
            "tensor(0.0121, dtype=torch.float64, grad_fn=<RsubBackward1>)\n",
            "tensor(0.0142, dtype=torch.float64, grad_fn=<RsubBackward1>)\n",
            "tensor(0.0086, dtype=torch.float64, grad_fn=<RsubBackward1>)\n",
            "tensor(0.0131, dtype=torch.float64, grad_fn=<RsubBackward1>)\n",
            "tensor(0.0107, dtype=torch.float64, grad_fn=<RsubBackward1>)\n",
            "tensor(0.0083, dtype=torch.float64, grad_fn=<RsubBackward1>)\n"
          ]
        },
        {
          "output_type": "stream",
          "name": "stderr",
          "text": [
            "\r 18%|█▊        | 178/1000 [00:04<00:17, 46.56it/s]"
          ]
        },
        {
          "output_type": "stream",
          "name": "stdout",
          "text": [
            "tensor(0.0098, dtype=torch.float64, grad_fn=<RsubBackward1>)\n",
            "tensor(0.0092, dtype=torch.float64, grad_fn=<RsubBackward1>)\n",
            "tensor(0.0187, dtype=torch.float64, grad_fn=<RsubBackward1>)\n",
            "tensor(0.0078, dtype=torch.float64, grad_fn=<RsubBackward1>)\n",
            "tensor(0.0050, dtype=torch.float64, grad_fn=<RsubBackward1>)\n",
            "tensor(0.0110, dtype=torch.float64, grad_fn=<RsubBackward1>)\n",
            "tensor(0.0082, dtype=torch.float64, grad_fn=<RsubBackward1>)\n",
            "tensor(0.0058, dtype=torch.float64, grad_fn=<RsubBackward1>)\n",
            "tensor(0.0055, dtype=torch.float64, grad_fn=<RsubBackward1>)\n"
          ]
        },
        {
          "output_type": "stream",
          "name": "stderr",
          "text": [
            " 19%|█▉        | 188/1000 [00:04<00:22, 35.85it/s]"
          ]
        },
        {
          "output_type": "stream",
          "name": "stdout",
          "text": [
            "tensor(0.0104, dtype=torch.float64, grad_fn=<RsubBackward1>)\n",
            "tensor(0.0244, dtype=torch.float64, grad_fn=<RsubBackward1>)\n",
            "tensor(0.0088, dtype=torch.float64, grad_fn=<RsubBackward1>)\n",
            "tensor(0.0161, dtype=torch.float64, grad_fn=<RsubBackward1>)\n",
            "tensor(0.0082, dtype=torch.float64, grad_fn=<RsubBackward1>)\n",
            "tensor(0.0218, dtype=torch.float64, grad_fn=<RsubBackward1>)\n"
          ]
        },
        {
          "output_type": "stream",
          "name": "stderr",
          "text": [
            " 20%|█▉        | 197/1000 [00:04<00:21, 38.22it/s]"
          ]
        },
        {
          "output_type": "stream",
          "name": "stdout",
          "text": [
            "tensor(0.0123, dtype=torch.float64, grad_fn=<RsubBackward1>)\n",
            "tensor(0.0122, dtype=torch.float64, grad_fn=<RsubBackward1>)\n",
            "tensor(0.0252, dtype=torch.float64, grad_fn=<RsubBackward1>)\n",
            "tensor(0.0137, dtype=torch.float64, grad_fn=<RsubBackward1>)\n",
            "tensor(0.0083, dtype=torch.float64, grad_fn=<RsubBackward1>)\n",
            "tensor(0.0112, dtype=torch.float64, grad_fn=<RsubBackward1>)\n",
            "tensor(0.0160, dtype=torch.float64, grad_fn=<RsubBackward1>)\n",
            "tensor(0.0172, dtype=torch.float64, grad_fn=<RsubBackward1>)\n",
            "tensor(0.0049, dtype=torch.float64, grad_fn=<RsubBackward1>)\n"
          ]
        },
        {
          "output_type": "stream",
          "name": "stderr",
          "text": [
            " 21%|██        | 208/1000 [00:05<00:17, 44.78it/s]"
          ]
        },
        {
          "output_type": "stream",
          "name": "stdout",
          "text": [
            "tensor(0.0105, dtype=torch.float64, grad_fn=<RsubBackward1>)\n",
            "tensor(0.0226, dtype=torch.float64, grad_fn=<RsubBackward1>)\n",
            "tensor(0.0092, dtype=torch.float64, grad_fn=<RsubBackward1>)\n",
            "tensor(0.0141, dtype=torch.float64, grad_fn=<RsubBackward1>)\n",
            "tensor(0.0091, dtype=torch.float64, grad_fn=<RsubBackward1>)\n",
            "tensor(0.0098, dtype=torch.float64, grad_fn=<RsubBackward1>)\n",
            "tensor(0.0063, dtype=torch.float64, grad_fn=<RsubBackward1>)\n",
            "tensor(0.0082, dtype=torch.float64, grad_fn=<RsubBackward1>)\n",
            "tensor(0.0089, dtype=torch.float64, grad_fn=<RsubBackward1>)\n",
            "tensor(0.0100, dtype=torch.float64, grad_fn=<RsubBackward1>)\n",
            "tensor(0.0083, dtype=torch.float64, grad_fn=<RsubBackward1>)\n",
            "tensor(0.0070, dtype=torch.float64, grad_fn=<RsubBackward1>)\n"
          ]
        },
        {
          "output_type": "stream",
          "name": "stderr",
          "text": [
            " 22%|██▏       | 219/1000 [00:05<00:16, 48.62it/s]"
          ]
        },
        {
          "output_type": "stream",
          "name": "stdout",
          "text": [
            "tensor(0.0138, dtype=torch.float64, grad_fn=<RsubBackward1>)\n",
            "tensor(0.0198, dtype=torch.float64, grad_fn=<RsubBackward1>)\n",
            "tensor(0.0112, dtype=torch.float64, grad_fn=<RsubBackward1>)\n",
            "tensor(0.0073, dtype=torch.float64, grad_fn=<RsubBackward1>)\n",
            "tensor(0.0061, dtype=torch.float64, grad_fn=<RsubBackward1>)\n",
            "tensor(0.0074, dtype=torch.float64, grad_fn=<RsubBackward1>)\n",
            "tensor(0.0084, dtype=torch.float64, grad_fn=<RsubBackward1>)\n",
            "tensor(0.0104, dtype=torch.float64, grad_fn=<RsubBackward1>)\n",
            "tensor(0.0050, dtype=torch.float64, grad_fn=<RsubBackward1>)\n",
            "tensor(0.0070, dtype=torch.float64, grad_fn=<RsubBackward1>)\n",
            "tensor(0.0093, dtype=torch.float64, grad_fn=<RsubBackward1>)\n"
          ]
        },
        {
          "output_type": "stream",
          "name": "stderr",
          "text": [
            " 23%|██▎       | 229/1000 [00:05<00:16, 45.39it/s]"
          ]
        },
        {
          "output_type": "stream",
          "name": "stdout",
          "text": [
            "tensor(0.0095, dtype=torch.float64, grad_fn=<RsubBackward1>)\n",
            "tensor(0.0092, dtype=torch.float64, grad_fn=<RsubBackward1>)\n",
            "tensor(0.0150, dtype=torch.float64, grad_fn=<RsubBackward1>)\n",
            "tensor(0.0064, dtype=torch.float64, grad_fn=<RsubBackward1>)\n",
            "tensor(0.0049, dtype=torch.float64, grad_fn=<RsubBackward1>)\n",
            "tensor(0.0076, dtype=torch.float64, grad_fn=<RsubBackward1>)\n",
            "tensor(0.0114, dtype=torch.float64, grad_fn=<RsubBackward1>)\n",
            "tensor(0.0064, dtype=torch.float64, grad_fn=<RsubBackward1>)\n",
            "tensor(0.0056, dtype=torch.float64, grad_fn=<RsubBackward1>)\n"
          ]
        },
        {
          "output_type": "stream",
          "name": "stderr",
          "text": [
            "\r 23%|██▎       | 234/1000 [00:05<00:17, 42.66it/s]"
          ]
        },
        {
          "output_type": "stream",
          "name": "stdout",
          "text": [
            "tensor(0.0087, dtype=torch.float64, grad_fn=<RsubBackward1>)\n",
            "tensor(0.0142, dtype=torch.float64, grad_fn=<RsubBackward1>)\n",
            "tensor(0.0040, dtype=torch.float64, grad_fn=<RsubBackward1>)\n",
            "tensor(0.0084, dtype=torch.float64, grad_fn=<RsubBackward1>)\n",
            "tensor(0.0042, dtype=torch.float64, grad_fn=<RsubBackward1>)\n",
            "tensor(0.0151, dtype=torch.float64, grad_fn=<RsubBackward1>)\n",
            "tensor(0.0114, dtype=torch.float64, grad_fn=<RsubBackward1>)\n",
            "tensor(0.0087, dtype=torch.float64, grad_fn=<RsubBackward1>)\n",
            "tensor(0.0115, dtype=torch.float64, grad_fn=<RsubBackward1>)\n"
          ]
        },
        {
          "output_type": "stream",
          "name": "stderr",
          "text": [
            " 25%|██▍       | 246/1000 [00:06<00:15, 47.38it/s]"
          ]
        },
        {
          "output_type": "stream",
          "name": "stdout",
          "text": [
            "tensor(0.0063, dtype=torch.float64, grad_fn=<RsubBackward1>)\n",
            "tensor(0.0143, dtype=torch.float64, grad_fn=<RsubBackward1>)\n",
            "tensor(0.0071, dtype=torch.float64, grad_fn=<RsubBackward1>)\n",
            "tensor(0.0063, dtype=torch.float64, grad_fn=<RsubBackward1>)\n",
            "tensor(0.0045, dtype=torch.float64, grad_fn=<RsubBackward1>)\n",
            "tensor(0.0070, dtype=torch.float64, grad_fn=<RsubBackward1>)\n",
            "tensor(0.0085, dtype=torch.float64, grad_fn=<RsubBackward1>)\n",
            "tensor(0.0061, dtype=torch.float64, grad_fn=<RsubBackward1>)\n",
            "tensor(0.0106, dtype=torch.float64, grad_fn=<RsubBackward1>)\n",
            "tensor(0.0088, dtype=torch.float64, grad_fn=<RsubBackward1>)\n",
            "tensor(0.0073, dtype=torch.float64, grad_fn=<RsubBackward1>)\n",
            "tensor(0.0053, dtype=torch.float64, grad_fn=<RsubBackward1>)\n",
            "tensor(0.0069, dtype=torch.float64, grad_fn=<RsubBackward1>)\n"
          ]
        },
        {
          "output_type": "stream",
          "name": "stderr",
          "text": [
            " 26%|██▌       | 259/1000 [00:06<00:13, 54.05it/s]"
          ]
        },
        {
          "output_type": "stream",
          "name": "stdout",
          "text": [
            "tensor(0.0053, dtype=torch.float64, grad_fn=<RsubBackward1>)\n",
            "tensor(0.0054, dtype=torch.float64, grad_fn=<RsubBackward1>)\n",
            "tensor(0.0093, dtype=torch.float64, grad_fn=<RsubBackward1>)\n",
            "tensor(0.0166, dtype=torch.float64, grad_fn=<RsubBackward1>)\n",
            "tensor(0.0093, dtype=torch.float64, grad_fn=<RsubBackward1>)\n",
            "tensor(0.0074, dtype=torch.float64, grad_fn=<RsubBackward1>)\n",
            "tensor(0.0038, dtype=torch.float64, grad_fn=<RsubBackward1>)\n",
            "tensor(0.0089, dtype=torch.float64, grad_fn=<RsubBackward1>)\n",
            "tensor(0.0203, dtype=torch.float64, grad_fn=<RsubBackward1>)\n",
            "tensor(0.0062, dtype=torch.float64, grad_fn=<RsubBackward1>)\n",
            "tensor(0.0044, dtype=torch.float64, grad_fn=<RsubBackward1>)\n",
            "tensor(0.0074, dtype=torch.float64, grad_fn=<RsubBackward1>)\n",
            "tensor(0.0130, dtype=torch.float64, grad_fn=<RsubBackward1>)\n",
            "tensor(0.0042, dtype=torch.float64, grad_fn=<RsubBackward1>)\n"
          ]
        },
        {
          "output_type": "stream",
          "name": "stderr",
          "text": [
            " 27%|██▋       | 272/1000 [00:06<00:12, 56.99it/s]"
          ]
        },
        {
          "output_type": "stream",
          "name": "stdout",
          "text": [
            "tensor(0.0093, dtype=torch.float64, grad_fn=<RsubBackward1>)\n",
            "tensor(0.0064, dtype=torch.float64, grad_fn=<RsubBackward1>)\n",
            "tensor(0.0095, dtype=torch.float64, grad_fn=<RsubBackward1>)\n",
            "tensor(0.0103, dtype=torch.float64, grad_fn=<RsubBackward1>)\n",
            "tensor(0.0032, dtype=torch.float64, grad_fn=<RsubBackward1>)\n",
            "tensor(0.0078, dtype=torch.float64, grad_fn=<RsubBackward1>)\n",
            "tensor(0.0045, dtype=torch.float64, grad_fn=<RsubBackward1>)\n",
            "tensor(0.0070, dtype=torch.float64, grad_fn=<RsubBackward1>)\n",
            "tensor(0.0083, dtype=torch.float64, grad_fn=<RsubBackward1>)\n",
            "tensor(0.0065, dtype=torch.float64, grad_fn=<RsubBackward1>)\n",
            "tensor(0.0156, dtype=torch.float64, grad_fn=<RsubBackward1>)\n",
            "tensor(0.0074, dtype=torch.float64, grad_fn=<RsubBackward1>)\n"
          ]
        },
        {
          "output_type": "stream",
          "name": "stderr",
          "text": [
            " 28%|██▊       | 284/1000 [00:06<00:12, 56.09it/s]"
          ]
        },
        {
          "output_type": "stream",
          "name": "stdout",
          "text": [
            "tensor(0.0053, dtype=torch.float64, grad_fn=<RsubBackward1>)\n",
            "tensor(0.0101, dtype=torch.float64, grad_fn=<RsubBackward1>)\n",
            "tensor(0.0038, dtype=torch.float64, grad_fn=<RsubBackward1>)\n",
            "tensor(0.0075, dtype=torch.float64, grad_fn=<RsubBackward1>)\n",
            "tensor(0.0068, dtype=torch.float64, grad_fn=<RsubBackward1>)\n",
            "tensor(0.0039, dtype=torch.float64, grad_fn=<RsubBackward1>)\n",
            "tensor(0.0094, dtype=torch.float64, grad_fn=<RsubBackward1>)\n",
            "tensor(0.0061, dtype=torch.float64, grad_fn=<RsubBackward1>)\n",
            "tensor(0.0046, dtype=torch.float64, grad_fn=<RsubBackward1>)\n",
            "tensor(0.0138, dtype=torch.float64, grad_fn=<RsubBackward1>)\n",
            "tensor(0.0122, dtype=torch.float64, grad_fn=<RsubBackward1>)\n",
            "tensor(0.0067, dtype=torch.float64, grad_fn=<RsubBackward1>)\n"
          ]
        },
        {
          "output_type": "stream",
          "name": "stderr",
          "text": [
            " 30%|██▉       | 296/1000 [00:06<00:12, 54.16it/s]"
          ]
        },
        {
          "output_type": "stream",
          "name": "stdout",
          "text": [
            "tensor(0.0087, dtype=torch.float64, grad_fn=<RsubBackward1>)\n",
            "tensor(0.0061, dtype=torch.float64, grad_fn=<RsubBackward1>)\n",
            "tensor(0.0028, dtype=torch.float64, grad_fn=<RsubBackward1>)\n",
            "tensor(0.0057, dtype=torch.float64, grad_fn=<RsubBackward1>)\n",
            "tensor(0.0024, dtype=torch.float64, grad_fn=<RsubBackward1>)\n",
            "tensor(0.0110, dtype=torch.float64, grad_fn=<RsubBackward1>)\n",
            "tensor(0.0082, dtype=torch.float64, grad_fn=<RsubBackward1>)\n",
            "tensor(0.0038, dtype=torch.float64, grad_fn=<RsubBackward1>)\n",
            "tensor(0.0103, dtype=torch.float64, grad_fn=<RsubBackward1>)\n",
            "tensor(0.0104, dtype=torch.float64, grad_fn=<RsubBackward1>)\n"
          ]
        },
        {
          "output_type": "stream",
          "name": "stderr",
          "text": [
            "\r 30%|███       | 302/1000 [00:07<00:13, 49.87it/s]"
          ]
        },
        {
          "output_type": "stream",
          "name": "stdout",
          "text": [
            "tensor(0.0052, dtype=torch.float64, grad_fn=<RsubBackward1>)\n",
            "tensor(0.0040, dtype=torch.float64, grad_fn=<RsubBackward1>)\n",
            "tensor(0.0054, dtype=torch.float64, grad_fn=<RsubBackward1>)\n",
            "tensor(0.0105, dtype=torch.float64, grad_fn=<RsubBackward1>)\n",
            "tensor(0.0027, dtype=torch.float64, grad_fn=<RsubBackward1>)\n",
            "tensor(0.0047, dtype=torch.float64, grad_fn=<RsubBackward1>)\n",
            "tensor(0.0073, dtype=torch.float64, grad_fn=<RsubBackward1>)\n",
            "tensor(0.0054, dtype=torch.float64, grad_fn=<RsubBackward1>)\n"
          ]
        },
        {
          "output_type": "stream",
          "name": "stderr",
          "text": [
            " 32%|███▏      | 315/1000 [00:07<00:15, 45.04it/s]"
          ]
        },
        {
          "output_type": "stream",
          "name": "stdout",
          "text": [
            "tensor(0.0095, dtype=torch.float64, grad_fn=<RsubBackward1>)\n",
            "tensor(0.0072, dtype=torch.float64, grad_fn=<RsubBackward1>)\n",
            "tensor(0.0091, dtype=torch.float64, grad_fn=<RsubBackward1>)\n",
            "tensor(0.0077, dtype=torch.float64, grad_fn=<RsubBackward1>)\n",
            "tensor(0.0057, dtype=torch.float64, grad_fn=<RsubBackward1>)\n",
            "tensor(0.0067, dtype=torch.float64, grad_fn=<RsubBackward1>)\n",
            "tensor(0.0114, dtype=torch.float64, grad_fn=<RsubBackward1>)\n",
            "tensor(0.0115, dtype=torch.float64, grad_fn=<RsubBackward1>)\n",
            "tensor(0.0067, dtype=torch.float64, grad_fn=<RsubBackward1>)\n",
            "tensor(0.0039, dtype=torch.float64, grad_fn=<RsubBackward1>)\n",
            "tensor(0.0029, dtype=torch.float64, grad_fn=<RsubBackward1>)\n",
            "tensor(0.0114, dtype=torch.float64, grad_fn=<RsubBackward1>)\n"
          ]
        },
        {
          "output_type": "stream",
          "name": "stderr",
          "text": [
            " 32%|███▎      | 325/1000 [00:07<00:17, 38.52it/s]"
          ]
        },
        {
          "output_type": "stream",
          "name": "stdout",
          "text": [
            "tensor(0.0088, dtype=torch.float64, grad_fn=<RsubBackward1>)\n",
            "tensor(0.0060, dtype=torch.float64, grad_fn=<RsubBackward1>)\n",
            "tensor(0.0039, dtype=torch.float64, grad_fn=<RsubBackward1>)\n",
            "tensor(0.0116, dtype=torch.float64, grad_fn=<RsubBackward1>)\n",
            "tensor(0.0080, dtype=torch.float64, grad_fn=<RsubBackward1>)\n",
            "tensor(0.0042, dtype=torch.float64, grad_fn=<RsubBackward1>)\n"
          ]
        },
        {
          "output_type": "stream",
          "name": "stderr",
          "text": [
            "\r 33%|███▎      | 330/1000 [00:07<00:19, 34.21it/s]"
          ]
        },
        {
          "output_type": "stream",
          "name": "stdout",
          "text": [
            "tensor(0.0047, dtype=torch.float64, grad_fn=<RsubBackward1>)\n",
            "tensor(0.0048, dtype=torch.float64, grad_fn=<RsubBackward1>)\n",
            "tensor(0.0057, dtype=torch.float64, grad_fn=<RsubBackward1>)\n",
            "tensor(0.0037, dtype=torch.float64, grad_fn=<RsubBackward1>)\n",
            "tensor(0.0087, dtype=torch.float64, grad_fn=<RsubBackward1>)\n",
            "tensor(0.0076, dtype=torch.float64, grad_fn=<RsubBackward1>)\n"
          ]
        },
        {
          "output_type": "stream",
          "name": "stderr",
          "text": [
            " 34%|███▍      | 340/1000 [00:08<00:16, 39.47it/s]"
          ]
        },
        {
          "output_type": "stream",
          "name": "stdout",
          "text": [
            "tensor(0.0081, dtype=torch.float64, grad_fn=<RsubBackward1>)\n",
            "tensor(0.0051, dtype=torch.float64, grad_fn=<RsubBackward1>)\n",
            "tensor(0.0058, dtype=torch.float64, grad_fn=<RsubBackward1>)\n",
            "tensor(0.0087, dtype=torch.float64, grad_fn=<RsubBackward1>)\n",
            "tensor(0.0101, dtype=torch.float64, grad_fn=<RsubBackward1>)\n",
            "tensor(0.0029, dtype=torch.float64, grad_fn=<RsubBackward1>)\n",
            "tensor(0.0053, dtype=torch.float64, grad_fn=<RsubBackward1>)\n",
            "tensor(0.0037, dtype=torch.float64, grad_fn=<RsubBackward1>)\n",
            "tensor(0.0054, dtype=torch.float64, grad_fn=<RsubBackward1>)\n",
            "tensor(0.0086, dtype=torch.float64, grad_fn=<RsubBackward1>)\n"
          ]
        },
        {
          "output_type": "stream",
          "name": "stderr",
          "text": [
            "\r 34%|███▍      | 345/1000 [00:08<00:17, 38.34it/s]"
          ]
        },
        {
          "output_type": "stream",
          "name": "stdout",
          "text": [
            "tensor(0.0076, dtype=torch.float64, grad_fn=<RsubBackward1>)\n",
            "tensor(0.0048, dtype=torch.float64, grad_fn=<RsubBackward1>)\n",
            "tensor(0.0089, dtype=torch.float64, grad_fn=<RsubBackward1>)\n",
            "tensor(0.0054, dtype=torch.float64, grad_fn=<RsubBackward1>)\n",
            "tensor(0.0046, dtype=torch.float64, grad_fn=<RsubBackward1>)\n",
            "tensor(0.0059, dtype=torch.float64, grad_fn=<RsubBackward1>)\n",
            "tensor(0.0072, dtype=torch.float64, grad_fn=<RsubBackward1>)\n",
            "tensor(0.0030, dtype=torch.float64, grad_fn=<RsubBackward1>)\n"
          ]
        },
        {
          "output_type": "stream",
          "name": "stderr",
          "text": [
            " 35%|███▌      | 354/1000 [00:08<00:17, 37.59it/s]"
          ]
        },
        {
          "output_type": "stream",
          "name": "stdout",
          "text": [
            "tensor(0.0039, dtype=torch.float64, grad_fn=<RsubBackward1>)\n",
            "tensor(0.0070, dtype=torch.float64, grad_fn=<RsubBackward1>)\n",
            "tensor(0.0051, dtype=torch.float64, grad_fn=<RsubBackward1>)\n",
            "tensor(0.0062, dtype=torch.float64, grad_fn=<RsubBackward1>)\n",
            "tensor(0.0037, dtype=torch.float64, grad_fn=<RsubBackward1>)\n",
            "tensor(0.0034, dtype=torch.float64, grad_fn=<RsubBackward1>)\n",
            "tensor(0.0020, dtype=torch.float64, grad_fn=<RsubBackward1>)\n",
            "tensor(0.0083, dtype=torch.float64, grad_fn=<RsubBackward1>)\n",
            "tensor(0.0056, dtype=torch.float64, grad_fn=<RsubBackward1>)\n",
            "tensor(0.0049, dtype=torch.float64, grad_fn=<RsubBackward1>)\n"
          ]
        },
        {
          "output_type": "stream",
          "name": "stderr",
          "text": [
            " 36%|███▋      | 365/1000 [00:08<00:14, 43.23it/s]"
          ]
        },
        {
          "output_type": "stream",
          "name": "stdout",
          "text": [
            "tensor(0.0020, dtype=torch.float64, grad_fn=<RsubBackward1>)\n",
            "tensor(0.0033, dtype=torch.float64, grad_fn=<RsubBackward1>)\n",
            "tensor(0.0024, dtype=torch.float64, grad_fn=<RsubBackward1>)\n",
            "tensor(0.0026, dtype=torch.float64, grad_fn=<RsubBackward1>)\n",
            "tensor(0.0026, dtype=torch.float64, grad_fn=<RsubBackward1>)\n",
            "tensor(0.0057, dtype=torch.float64, grad_fn=<RsubBackward1>)\n",
            "tensor(0.0080, dtype=torch.float64, grad_fn=<RsubBackward1>)\n",
            "tensor(0.0025, dtype=torch.float64, grad_fn=<RsubBackward1>)\n",
            "tensor(0.0025, dtype=torch.float64, grad_fn=<RsubBackward1>)\n",
            "tensor(0.0033, dtype=torch.float64, grad_fn=<RsubBackward1>)\n"
          ]
        },
        {
          "output_type": "stream",
          "name": "stderr",
          "text": [
            " 38%|███▊      | 375/1000 [00:08<00:16, 38.80it/s]"
          ]
        },
        {
          "output_type": "stream",
          "name": "stdout",
          "text": [
            "tensor(0.0052, dtype=torch.float64, grad_fn=<RsubBackward1>)\n",
            "tensor(0.0094, dtype=torch.float64, grad_fn=<RsubBackward1>)\n",
            "tensor(0.0136, dtype=torch.float64, grad_fn=<RsubBackward1>)\n",
            "tensor(0.0043, dtype=torch.float64, grad_fn=<RsubBackward1>)\n",
            "tensor(0.0071, dtype=torch.float64, grad_fn=<RsubBackward1>)\n",
            "tensor(0.0137, dtype=torch.float64, grad_fn=<RsubBackward1>)\n",
            "tensor(0.0068, dtype=torch.float64, grad_fn=<RsubBackward1>)\n",
            "tensor(0.0026, dtype=torch.float64, grad_fn=<RsubBackward1>)\n",
            "tensor(0.0029, dtype=torch.float64, grad_fn=<RsubBackward1>)\n"
          ]
        },
        {
          "output_type": "stream",
          "name": "stderr",
          "text": [
            " 39%|███▊      | 386/1000 [00:09<00:14, 43.13it/s]"
          ]
        },
        {
          "output_type": "stream",
          "name": "stdout",
          "text": [
            "tensor(0.0031, dtype=torch.float64, grad_fn=<RsubBackward1>)\n",
            "tensor(0.0050, dtype=torch.float64, grad_fn=<RsubBackward1>)\n",
            "tensor(0.0064, dtype=torch.float64, grad_fn=<RsubBackward1>)\n",
            "tensor(0.0093, dtype=torch.float64, grad_fn=<RsubBackward1>)\n",
            "tensor(0.0026, dtype=torch.float64, grad_fn=<RsubBackward1>)\n",
            "tensor(0.0067, dtype=torch.float64, grad_fn=<RsubBackward1>)\n",
            "tensor(0.0032, dtype=torch.float64, grad_fn=<RsubBackward1>)\n",
            "tensor(0.0070, dtype=torch.float64, grad_fn=<RsubBackward1>)\n",
            "tensor(0.0069, dtype=torch.float64, grad_fn=<RsubBackward1>)\n"
          ]
        },
        {
          "output_type": "stream",
          "name": "stderr",
          "text": [
            " 40%|███▉      | 399/1000 [00:09<00:11, 50.12it/s]"
          ]
        },
        {
          "output_type": "stream",
          "name": "stdout",
          "text": [
            "tensor(0.0036, dtype=torch.float64, grad_fn=<RsubBackward1>)\n",
            "tensor(0.0032, dtype=torch.float64, grad_fn=<RsubBackward1>)\n",
            "tensor(0.0081, dtype=torch.float64, grad_fn=<RsubBackward1>)\n",
            "tensor(0.0082, dtype=torch.float64, grad_fn=<RsubBackward1>)\n",
            "tensor(0.0086, dtype=torch.float64, grad_fn=<RsubBackward1>)\n",
            "tensor(0.0033, dtype=torch.float64, grad_fn=<RsubBackward1>)\n",
            "tensor(0.0060, dtype=torch.float64, grad_fn=<RsubBackward1>)\n",
            "tensor(0.0087, dtype=torch.float64, grad_fn=<RsubBackward1>)\n",
            "tensor(0.0019, dtype=torch.float64, grad_fn=<RsubBackward1>)\n",
            "tensor(0.0098, dtype=torch.float64, grad_fn=<RsubBackward1>)\n",
            "tensor(0.0033, dtype=torch.float64, grad_fn=<RsubBackward1>)\n",
            "tensor(0.0060, dtype=torch.float64, grad_fn=<RsubBackward1>)\n"
          ]
        },
        {
          "output_type": "stream",
          "name": "stderr",
          "text": [
            " 41%|████      | 411/1000 [00:09<00:11, 51.92it/s]"
          ]
        },
        {
          "output_type": "stream",
          "name": "stdout",
          "text": [
            "tensor(0.0070, dtype=torch.float64, grad_fn=<RsubBackward1>)\n",
            "tensor(0.0042, dtype=torch.float64, grad_fn=<RsubBackward1>)\n",
            "tensor(0.0034, dtype=torch.float64, grad_fn=<RsubBackward1>)\n",
            "tensor(0.0044, dtype=torch.float64, grad_fn=<RsubBackward1>)\n",
            "tensor(0.0020, dtype=torch.float64, grad_fn=<RsubBackward1>)\n",
            "tensor(0.0064, dtype=torch.float64, grad_fn=<RsubBackward1>)\n",
            "tensor(0.0033, dtype=torch.float64, grad_fn=<RsubBackward1>)\n",
            "tensor(0.0051, dtype=torch.float64, grad_fn=<RsubBackward1>)\n",
            "tensor(0.0041, dtype=torch.float64, grad_fn=<RsubBackward1>)\n",
            "tensor(0.0036, dtype=torch.float64, grad_fn=<RsubBackward1>)\n",
            "tensor(0.0036, dtype=torch.float64, grad_fn=<RsubBackward1>)\n",
            "tensor(0.0054, dtype=torch.float64, grad_fn=<RsubBackward1>)\n"
          ]
        },
        {
          "output_type": "stream",
          "name": "stderr",
          "text": [
            " 43%|████▎     | 427/1000 [00:09<00:08, 65.61it/s]"
          ]
        },
        {
          "output_type": "stream",
          "name": "stdout",
          "text": [
            "tensor(0.0033, dtype=torch.float64, grad_fn=<RsubBackward1>)\n",
            "tensor(0.0083, dtype=torch.float64, grad_fn=<RsubBackward1>)\n",
            "tensor(0.0041, dtype=torch.float64, grad_fn=<RsubBackward1>)\n",
            "tensor(0.0078, dtype=torch.float64, grad_fn=<RsubBackward1>)\n",
            "tensor(0.0034, dtype=torch.float64, grad_fn=<RsubBackward1>)\n",
            "tensor(0.0069, dtype=torch.float64, grad_fn=<RsubBackward1>)\n",
            "tensor(0.0027, dtype=torch.float64, grad_fn=<RsubBackward1>)\n",
            "tensor(0.0029, dtype=torch.float64, grad_fn=<RsubBackward1>)\n",
            "tensor(0.0024, dtype=torch.float64, grad_fn=<RsubBackward1>)\n",
            "tensor(0.0112, dtype=torch.float64, grad_fn=<RsubBackward1>)\n",
            "tensor(0.0056, dtype=torch.float64, grad_fn=<RsubBackward1>)\n",
            "tensor(0.0022, dtype=torch.float64, grad_fn=<RsubBackward1>)\n",
            "tensor(0.0046, dtype=torch.float64, grad_fn=<RsubBackward1>)\n",
            "tensor(0.0023, dtype=torch.float64, grad_fn=<RsubBackward1>)\n",
            "tensor(0.0048, dtype=torch.float64, grad_fn=<RsubBackward1>)\n",
            "tensor(0.0073, dtype=torch.float64, grad_fn=<RsubBackward1>)\n",
            "tensor(0.0048, dtype=torch.float64, grad_fn=<RsubBackward1>)\n"
          ]
        },
        {
          "output_type": "stream",
          "name": "stderr",
          "text": [
            " 44%|████▍     | 442/1000 [00:10<00:08, 68.33it/s]"
          ]
        },
        {
          "output_type": "stream",
          "name": "stdout",
          "text": [
            "tensor(0.0028, dtype=torch.float64, grad_fn=<RsubBackward1>)\n",
            "tensor(0.0037, dtype=torch.float64, grad_fn=<RsubBackward1>)\n",
            "tensor(0.0074, dtype=torch.float64, grad_fn=<RsubBackward1>)\n",
            "tensor(0.0028, dtype=torch.float64, grad_fn=<RsubBackward1>)\n",
            "tensor(0.0128, dtype=torch.float64, grad_fn=<RsubBackward1>)\n",
            "tensor(0.0047, dtype=torch.float64, grad_fn=<RsubBackward1>)\n",
            "tensor(0.0021, dtype=torch.float64, grad_fn=<RsubBackward1>)\n",
            "tensor(0.0027, dtype=torch.float64, grad_fn=<RsubBackward1>)\n",
            "tensor(0.0020, dtype=torch.float64, grad_fn=<RsubBackward1>)\n",
            "tensor(0.0015, dtype=torch.float64, grad_fn=<RsubBackward1>)\n",
            "tensor(0.0053, dtype=torch.float64, grad_fn=<RsubBackward1>)\n",
            "tensor(0.0037, dtype=torch.float64, grad_fn=<RsubBackward1>)\n",
            "tensor(0.0061, dtype=torch.float64, grad_fn=<RsubBackward1>)\n",
            "tensor(0.0021, dtype=torch.float64, grad_fn=<RsubBackward1>)\n",
            "tensor(0.0016, dtype=torch.float64, grad_fn=<RsubBackward1>)\n",
            "tensor(0.0023, dtype=torch.float64, grad_fn=<RsubBackward1>)\n"
          ]
        },
        {
          "output_type": "stream",
          "name": "stderr",
          "text": [
            " 46%|████▌     | 457/1000 [00:10<00:07, 68.69it/s]"
          ]
        },
        {
          "output_type": "stream",
          "name": "stdout",
          "text": [
            "tensor(0.0036, dtype=torch.float64, grad_fn=<RsubBackward1>)\n",
            "tensor(0.0020, dtype=torch.float64, grad_fn=<RsubBackward1>)\n",
            "tensor(0.0057, dtype=torch.float64, grad_fn=<RsubBackward1>)\n",
            "tensor(0.0058, dtype=torch.float64, grad_fn=<RsubBackward1>)\n",
            "tensor(0.0032, dtype=torch.float64, grad_fn=<RsubBackward1>)\n",
            "tensor(0.0035, dtype=torch.float64, grad_fn=<RsubBackward1>)\n",
            "tensor(0.0047, dtype=torch.float64, grad_fn=<RsubBackward1>)\n",
            "tensor(0.0033, dtype=torch.float64, grad_fn=<RsubBackward1>)\n",
            "tensor(0.0050, dtype=torch.float64, grad_fn=<RsubBackward1>)\n",
            "tensor(0.0053, dtype=torch.float64, grad_fn=<RsubBackward1>)\n",
            "tensor(0.0023, dtype=torch.float64, grad_fn=<RsubBackward1>)\n",
            "tensor(0.0035, dtype=torch.float64, grad_fn=<RsubBackward1>)\n",
            "tensor(0.0055, dtype=torch.float64, grad_fn=<RsubBackward1>)\n",
            "tensor(0.0081, dtype=torch.float64, grad_fn=<RsubBackward1>)\n",
            "tensor(0.0080, dtype=torch.float64, grad_fn=<RsubBackward1>)\n"
          ]
        },
        {
          "output_type": "stream",
          "name": "stderr",
          "text": [
            " 47%|████▋     | 472/1000 [00:10<00:07, 70.74it/s]"
          ]
        },
        {
          "output_type": "stream",
          "name": "stdout",
          "text": [
            "tensor(0.0066, dtype=torch.float64, grad_fn=<RsubBackward1>)\n",
            "tensor(0.0026, dtype=torch.float64, grad_fn=<RsubBackward1>)\n",
            "tensor(0.0080, dtype=torch.float64, grad_fn=<RsubBackward1>)\n",
            "tensor(0.0028, dtype=torch.float64, grad_fn=<RsubBackward1>)\n",
            "tensor(0.0019, dtype=torch.float64, grad_fn=<RsubBackward1>)\n",
            "tensor(0.0062, dtype=torch.float64, grad_fn=<RsubBackward1>)\n",
            "tensor(0.0036, dtype=torch.float64, grad_fn=<RsubBackward1>)\n",
            "tensor(0.0112, dtype=torch.float64, grad_fn=<RsubBackward1>)\n",
            "tensor(0.0029, dtype=torch.float64, grad_fn=<RsubBackward1>)\n",
            "tensor(0.0035, dtype=torch.float64, grad_fn=<RsubBackward1>)\n",
            "tensor(0.0031, dtype=torch.float64, grad_fn=<RsubBackward1>)\n",
            "tensor(0.0056, dtype=torch.float64, grad_fn=<RsubBackward1>)\n",
            "tensor(0.0059, dtype=torch.float64, grad_fn=<RsubBackward1>)\n",
            "tensor(0.0029, dtype=torch.float64, grad_fn=<RsubBackward1>)\n",
            "tensor(0.0030, dtype=torch.float64, grad_fn=<RsubBackward1>)\n"
          ]
        },
        {
          "output_type": "stream",
          "name": "stderr",
          "text": [
            " 49%|████▉     | 488/1000 [00:10<00:06, 73.58it/s]"
          ]
        },
        {
          "output_type": "stream",
          "name": "stdout",
          "text": [
            "tensor(0.0076, dtype=torch.float64, grad_fn=<RsubBackward1>)\n",
            "tensor(0.0037, dtype=torch.float64, grad_fn=<RsubBackward1>)\n",
            "tensor(0.0039, dtype=torch.float64, grad_fn=<RsubBackward1>)\n",
            "tensor(0.0040, dtype=torch.float64, grad_fn=<RsubBackward1>)\n",
            "tensor(0.0047, dtype=torch.float64, grad_fn=<RsubBackward1>)\n",
            "tensor(0.0045, dtype=torch.float64, grad_fn=<RsubBackward1>)\n",
            "tensor(0.0020, dtype=torch.float64, grad_fn=<RsubBackward1>)\n",
            "tensor(0.0027, dtype=torch.float64, grad_fn=<RsubBackward1>)\n",
            "tensor(0.0052, dtype=torch.float64, grad_fn=<RsubBackward1>)\n",
            "tensor(0.0049, dtype=torch.float64, grad_fn=<RsubBackward1>)\n",
            "tensor(0.0017, dtype=torch.float64, grad_fn=<RsubBackward1>)\n",
            "tensor(0.0054, dtype=torch.float64, grad_fn=<RsubBackward1>)\n",
            "tensor(0.0018, dtype=torch.float64, grad_fn=<RsubBackward1>)\n",
            "tensor(0.0055, dtype=torch.float64, grad_fn=<RsubBackward1>)\n",
            "tensor(0.0031, dtype=torch.float64, grad_fn=<RsubBackward1>)\n",
            "tensor(0.0050, dtype=torch.float64, grad_fn=<RsubBackward1>)\n"
          ]
        },
        {
          "output_type": "stream",
          "name": "stderr",
          "text": [
            " 50%|█████     | 504/1000 [00:10<00:06, 72.58it/s]"
          ]
        },
        {
          "output_type": "stream",
          "name": "stdout",
          "text": [
            "tensor(0.0032, dtype=torch.float64, grad_fn=<RsubBackward1>)\n",
            "tensor(0.0038, dtype=torch.float64, grad_fn=<RsubBackward1>)\n",
            "tensor(0.0011, dtype=torch.float64, grad_fn=<RsubBackward1>)\n",
            "tensor(0.0043, dtype=torch.float64, grad_fn=<RsubBackward1>)\n",
            "tensor(0.0032, dtype=torch.float64, grad_fn=<RsubBackward1>)\n",
            "tensor(0.0038, dtype=torch.float64, grad_fn=<RsubBackward1>)\n",
            "tensor(0.0047, dtype=torch.float64, grad_fn=<RsubBackward1>)\n",
            "tensor(0.0032, dtype=torch.float64, grad_fn=<RsubBackward1>)\n",
            "tensor(0.0012, dtype=torch.float64, grad_fn=<RsubBackward1>)\n",
            "tensor(0.0022, dtype=torch.float64, grad_fn=<RsubBackward1>)\n",
            "tensor(0.0022, dtype=torch.float64, grad_fn=<RsubBackward1>)\n",
            "tensor(0.0089, dtype=torch.float64, grad_fn=<RsubBackward1>)\n",
            "tensor(0.0079, dtype=torch.float64, grad_fn=<RsubBackward1>)\n",
            "tensor(0.0043, dtype=torch.float64, grad_fn=<RsubBackward1>)\n",
            "tensor(0.0035, dtype=torch.float64, grad_fn=<RsubBackward1>)\n"
          ]
        },
        {
          "output_type": "stream",
          "name": "stderr",
          "text": [
            " 52%|█████▏    | 520/1000 [00:11<00:06, 75.36it/s]"
          ]
        },
        {
          "output_type": "stream",
          "name": "stdout",
          "text": [
            "tensor(0.0032, dtype=torch.float64, grad_fn=<RsubBackward1>)\n",
            "tensor(0.0019, dtype=torch.float64, grad_fn=<RsubBackward1>)\n",
            "tensor(0.0044, dtype=torch.float64, grad_fn=<RsubBackward1>)\n",
            "tensor(0.0088, dtype=torch.float64, grad_fn=<RsubBackward1>)\n",
            "tensor(0.0091, dtype=torch.float64, grad_fn=<RsubBackward1>)\n",
            "tensor(0.0041, dtype=torch.float64, grad_fn=<RsubBackward1>)\n",
            "tensor(0.0096, dtype=torch.float64, grad_fn=<RsubBackward1>)\n",
            "tensor(0.0046, dtype=torch.float64, grad_fn=<RsubBackward1>)\n",
            "tensor(0.0023, dtype=torch.float64, grad_fn=<RsubBackward1>)\n",
            "tensor(0.0046, dtype=torch.float64, grad_fn=<RsubBackward1>)\n",
            "tensor(0.0021, dtype=torch.float64, grad_fn=<RsubBackward1>)\n",
            "tensor(0.0069, dtype=torch.float64, grad_fn=<RsubBackward1>)\n",
            "tensor(0.0052, dtype=torch.float64, grad_fn=<RsubBackward1>)\n",
            "tensor(0.0033, dtype=torch.float64, grad_fn=<RsubBackward1>)\n",
            "tensor(0.0031, dtype=torch.float64, grad_fn=<RsubBackward1>)\n",
            "tensor(0.0027, dtype=torch.float64, grad_fn=<RsubBackward1>)\n"
          ]
        },
        {
          "output_type": "stream",
          "name": "stderr",
          "text": [
            " 54%|█████▎    | 536/1000 [00:11<00:06, 76.16it/s]"
          ]
        },
        {
          "output_type": "stream",
          "name": "stdout",
          "text": [
            "tensor(0.0074, dtype=torch.float64, grad_fn=<RsubBackward1>)\n",
            "tensor(0.0043, dtype=torch.float64, grad_fn=<RsubBackward1>)\n",
            "tensor(0.0019, dtype=torch.float64, grad_fn=<RsubBackward1>)\n",
            "tensor(0.0022, dtype=torch.float64, grad_fn=<RsubBackward1>)\n",
            "tensor(0.0025, dtype=torch.float64, grad_fn=<RsubBackward1>)\n",
            "tensor(0.0027, dtype=torch.float64, grad_fn=<RsubBackward1>)\n",
            "tensor(0.0069, dtype=torch.float64, grad_fn=<RsubBackward1>)\n",
            "tensor(0.0046, dtype=torch.float64, grad_fn=<RsubBackward1>)\n",
            "tensor(0.0045, dtype=torch.float64, grad_fn=<RsubBackward1>)\n",
            "tensor(0.0045, dtype=torch.float64, grad_fn=<RsubBackward1>)\n",
            "tensor(0.0023, dtype=torch.float64, grad_fn=<RsubBackward1>)\n",
            "tensor(0.0017, dtype=torch.float64, grad_fn=<RsubBackward1>)\n",
            "tensor(0.0044, dtype=torch.float64, grad_fn=<RsubBackward1>)\n",
            "tensor(0.0036, dtype=torch.float64, grad_fn=<RsubBackward1>)\n",
            "tensor(0.0021, dtype=torch.float64, grad_fn=<RsubBackward1>)\n",
            "tensor(0.0038, dtype=torch.float64, grad_fn=<RsubBackward1>)\n"
          ]
        },
        {
          "output_type": "stream",
          "name": "stderr",
          "text": [
            " 55%|█████▌    | 552/1000 [00:11<00:06, 73.93it/s]"
          ]
        },
        {
          "output_type": "stream",
          "name": "stdout",
          "text": [
            "tensor(0.0024, dtype=torch.float64, grad_fn=<RsubBackward1>)\n",
            "tensor(0.0032, dtype=torch.float64, grad_fn=<RsubBackward1>)\n",
            "tensor(0.0029, dtype=torch.float64, grad_fn=<RsubBackward1>)\n",
            "tensor(0.0018, dtype=torch.float64, grad_fn=<RsubBackward1>)\n",
            "tensor(0.0043, dtype=torch.float64, grad_fn=<RsubBackward1>)\n",
            "tensor(0.0025, dtype=torch.float64, grad_fn=<RsubBackward1>)\n",
            "tensor(0.0028, dtype=torch.float64, grad_fn=<RsubBackward1>)\n",
            "tensor(0.0090, dtype=torch.float64, grad_fn=<RsubBackward1>)\n",
            "tensor(0.0064, dtype=torch.float64, grad_fn=<RsubBackward1>)\n",
            "tensor(0.0039, dtype=torch.float64, grad_fn=<RsubBackward1>)\n",
            "tensor(0.0028, dtype=torch.float64, grad_fn=<RsubBackward1>)\n",
            "tensor(0.0055, dtype=torch.float64, grad_fn=<RsubBackward1>)\n",
            "tensor(0.0014, dtype=torch.float64, grad_fn=<RsubBackward1>)\n",
            "tensor(0.0066, dtype=torch.float64, grad_fn=<RsubBackward1>)\n",
            "tensor(0.0020, dtype=torch.float64, grad_fn=<RsubBackward1>)\n"
          ]
        },
        {
          "output_type": "stream",
          "name": "stderr",
          "text": [
            " 57%|█████▋    | 568/1000 [00:11<00:05, 74.91it/s]"
          ]
        },
        {
          "output_type": "stream",
          "name": "stdout",
          "text": [
            "tensor(0.0031, dtype=torch.float64, grad_fn=<RsubBackward1>)\n",
            "tensor(0.0057, dtype=torch.float64, grad_fn=<RsubBackward1>)\n",
            "tensor(0.0085, dtype=torch.float64, grad_fn=<RsubBackward1>)\n",
            "tensor(0.0023, dtype=torch.float64, grad_fn=<RsubBackward1>)\n",
            "tensor(0.0038, dtype=torch.float64, grad_fn=<RsubBackward1>)\n",
            "tensor(0.0040, dtype=torch.float64, grad_fn=<RsubBackward1>)\n",
            "tensor(0.0014, dtype=torch.float64, grad_fn=<RsubBackward1>)\n",
            "tensor(0.0019, dtype=torch.float64, grad_fn=<RsubBackward1>)\n",
            "tensor(0.0063, dtype=torch.float64, grad_fn=<RsubBackward1>)\n",
            "tensor(0.0040, dtype=torch.float64, grad_fn=<RsubBackward1>)\n",
            "tensor(0.0028, dtype=torch.float64, grad_fn=<RsubBackward1>)\n",
            "tensor(0.0029, dtype=torch.float64, grad_fn=<RsubBackward1>)\n",
            "tensor(0.0039, dtype=torch.float64, grad_fn=<RsubBackward1>)\n",
            "tensor(0.0026, dtype=torch.float64, grad_fn=<RsubBackward1>)\n",
            "tensor(0.0021, dtype=torch.float64, grad_fn=<RsubBackward1>)\n",
            "tensor(0.0031, dtype=torch.float64, grad_fn=<RsubBackward1>)\n"
          ]
        },
        {
          "output_type": "stream",
          "name": "stderr",
          "text": [
            "\r 58%|█████▊    | 576/1000 [00:11<00:05, 72.79it/s]"
          ]
        },
        {
          "output_type": "stream",
          "name": "stdout",
          "text": [
            "tensor(0.0017, dtype=torch.float64, grad_fn=<RsubBackward1>)\n",
            "tensor(0.0050, dtype=torch.float64, grad_fn=<RsubBackward1>)\n",
            "tensor(0.0048, dtype=torch.float64, grad_fn=<RsubBackward1>)\n",
            "tensor(0.0024, dtype=torch.float64, grad_fn=<RsubBackward1>)\n",
            "tensor(0.0028, dtype=torch.float64, grad_fn=<RsubBackward1>)\n",
            "tensor(0.0037, dtype=torch.float64, grad_fn=<RsubBackward1>)\n",
            "tensor(0.0030, dtype=torch.float64, grad_fn=<RsubBackward1>)\n",
            "tensor(0.0032, dtype=torch.float64, grad_fn=<RsubBackward1>)\n",
            "tensor(0.0031, dtype=torch.float64, grad_fn=<RsubBackward1>)\n",
            "tensor(0.0069, dtype=torch.float64, grad_fn=<RsubBackward1>)\n",
            "tensor(0.0054, dtype=torch.float64, grad_fn=<RsubBackward1>)\n",
            "tensor(0.0033, dtype=torch.float64, grad_fn=<RsubBackward1>)\n",
            "tensor(0.0040, dtype=torch.float64, grad_fn=<RsubBackward1>)\n",
            "tensor(0.0041, dtype=torch.float64, grad_fn=<RsubBackward1>)\n",
            "tensor(0.0033, dtype=torch.float64, grad_fn=<RsubBackward1>)\n"
          ]
        },
        {
          "output_type": "stream",
          "name": "stderr",
          "text": [
            " 59%|█████▉    | 592/1000 [00:12<00:05, 71.01it/s]"
          ]
        },
        {
          "output_type": "stream",
          "name": "stdout",
          "text": [
            "tensor(0.0032, dtype=torch.float64, grad_fn=<RsubBackward1>)\n",
            "tensor(0.0084, dtype=torch.float64, grad_fn=<RsubBackward1>)\n",
            "tensor(0.0045, dtype=torch.float64, grad_fn=<RsubBackward1>)\n",
            "tensor(0.0040, dtype=torch.float64, grad_fn=<RsubBackward1>)\n",
            "tensor(0.0031, dtype=torch.float64, grad_fn=<RsubBackward1>)\n",
            "tensor(0.0023, dtype=torch.float64, grad_fn=<RsubBackward1>)\n",
            "tensor(0.0016, dtype=torch.float64, grad_fn=<RsubBackward1>)\n",
            "tensor(0.0052, dtype=torch.float64, grad_fn=<RsubBackward1>)\n",
            "tensor(0.0023, dtype=torch.float64, grad_fn=<RsubBackward1>)\n",
            "tensor(0.0022, dtype=torch.float64, grad_fn=<RsubBackward1>)\n",
            "tensor(0.0062, dtype=torch.float64, grad_fn=<RsubBackward1>)\n",
            "tensor(0.0033, dtype=torch.float64, grad_fn=<RsubBackward1>)\n",
            "tensor(0.0020, dtype=torch.float64, grad_fn=<RsubBackward1>)\n",
            "tensor(0.0067, dtype=torch.float64, grad_fn=<RsubBackward1>)\n",
            "tensor(0.0027, dtype=torch.float64, grad_fn=<RsubBackward1>)"
          ]
        },
        {
          "output_type": "stream",
          "name": "stderr",
          "text": [
            " 61%|██████    | 608/1000 [00:12<00:05, 74.53it/s]"
          ]
        },
        {
          "output_type": "stream",
          "name": "stdout",
          "text": [
            "\n",
            "tensor(0.0018, dtype=torch.float64, grad_fn=<RsubBackward1>)\n",
            "tensor(0.0029, dtype=torch.float64, grad_fn=<RsubBackward1>)\n",
            "tensor(0.0080, dtype=torch.float64, grad_fn=<RsubBackward1>)\n",
            "tensor(0.0036, dtype=torch.float64, grad_fn=<RsubBackward1>)\n",
            "tensor(0.0027, dtype=torch.float64, grad_fn=<RsubBackward1>)\n",
            "tensor(0.0043, dtype=torch.float64, grad_fn=<RsubBackward1>)\n",
            "tensor(0.0041, dtype=torch.float64, grad_fn=<RsubBackward1>)\n",
            "tensor(0.0095, dtype=torch.float64, grad_fn=<RsubBackward1>)\n",
            "tensor(0.0008, dtype=torch.float64, grad_fn=<RsubBackward1>)\n",
            "tensor(0.0093, dtype=torch.float64, grad_fn=<RsubBackward1>)\n",
            "tensor(0.0023, dtype=torch.float64, grad_fn=<RsubBackward1>)\n",
            "tensor(0.0041, dtype=torch.float64, grad_fn=<RsubBackward1>)\n",
            "tensor(0.0031, dtype=torch.float64, grad_fn=<RsubBackward1>)\n",
            "tensor(0.0036, dtype=torch.float64, grad_fn=<RsubBackward1>)\n",
            "tensor(0.0015, dtype=torch.float64, grad_fn=<RsubBackward1>)\n"
          ]
        },
        {
          "output_type": "stream",
          "name": "stderr",
          "text": [
            " 62%|██████▏   | 624/1000 [00:12<00:05, 73.14it/s]"
          ]
        },
        {
          "output_type": "stream",
          "name": "stdout",
          "text": [
            "tensor(0.0040, dtype=torch.float64, grad_fn=<RsubBackward1>)\n",
            "tensor(0.0017, dtype=torch.float64, grad_fn=<RsubBackward1>)\n",
            "tensor(0.0026, dtype=torch.float64, grad_fn=<RsubBackward1>)\n",
            "tensor(0.0034, dtype=torch.float64, grad_fn=<RsubBackward1>)\n",
            "tensor(0.0019, dtype=torch.float64, grad_fn=<RsubBackward1>)\n",
            "tensor(0.0034, dtype=torch.float64, grad_fn=<RsubBackward1>)\n",
            "tensor(0.0042, dtype=torch.float64, grad_fn=<RsubBackward1>)\n",
            "tensor(0.0026, dtype=torch.float64, grad_fn=<RsubBackward1>)\n",
            "tensor(0.0029, dtype=torch.float64, grad_fn=<RsubBackward1>)\n",
            "tensor(0.0028, dtype=torch.float64, grad_fn=<RsubBackward1>)\n",
            "tensor(0.0033, dtype=torch.float64, grad_fn=<RsubBackward1>)\n",
            "tensor(0.0022, dtype=torch.float64, grad_fn=<RsubBackward1>)\n",
            "tensor(0.0024, dtype=torch.float64, grad_fn=<RsubBackward1>)\n",
            "tensor(0.0026, dtype=torch.float64, grad_fn=<RsubBackward1>)\n",
            "tensor(0.0042, dtype=torch.float64, grad_fn=<RsubBackward1>)\n"
          ]
        },
        {
          "output_type": "stream",
          "name": "stderr",
          "text": [
            " 64%|██████▍   | 640/1000 [00:12<00:05, 70.96it/s]"
          ]
        },
        {
          "output_type": "stream",
          "name": "stdout",
          "text": [
            "tensor(0.0014, dtype=torch.float64, grad_fn=<RsubBackward1>)\n",
            "tensor(0.0015, dtype=torch.float64, grad_fn=<RsubBackward1>)\n",
            "tensor(0.0023, dtype=torch.float64, grad_fn=<RsubBackward1>)\n",
            "tensor(0.0025, dtype=torch.float64, grad_fn=<RsubBackward1>)\n",
            "tensor(0.0060, dtype=torch.float64, grad_fn=<RsubBackward1>)\n",
            "tensor(0.0058, dtype=torch.float64, grad_fn=<RsubBackward1>)\n",
            "tensor(0.0024, dtype=torch.float64, grad_fn=<RsubBackward1>)\n",
            "tensor(0.0019, dtype=torch.float64, grad_fn=<RsubBackward1>)\n",
            "tensor(0.0029, dtype=torch.float64, grad_fn=<RsubBackward1>)\n",
            "tensor(0.0035, dtype=torch.float64, grad_fn=<RsubBackward1>)\n",
            "tensor(0.0091, dtype=torch.float64, grad_fn=<RsubBackward1>)\n",
            "tensor(0.0017, dtype=torch.float64, grad_fn=<RsubBackward1>)\n",
            "tensor(0.0016, dtype=torch.float64, grad_fn=<RsubBackward1>)\n",
            "tensor(0.0010, dtype=torch.float64, grad_fn=<RsubBackward1>)\n"
          ]
        },
        {
          "output_type": "stream",
          "name": "stderr",
          "text": [
            " 66%|██████▌   | 655/1000 [00:13<00:05, 67.09it/s]"
          ]
        },
        {
          "output_type": "stream",
          "name": "stdout",
          "text": [
            "tensor(0.0056, dtype=torch.float64, grad_fn=<RsubBackward1>)\n",
            "tensor(0.0019, dtype=torch.float64, grad_fn=<RsubBackward1>)\n",
            "tensor(0.0038, dtype=torch.float64, grad_fn=<RsubBackward1>)\n",
            "tensor(0.0015, dtype=torch.float64, grad_fn=<RsubBackward1>)\n",
            "tensor(0.0016, dtype=torch.float64, grad_fn=<RsubBackward1>)\n",
            "tensor(0.0023, dtype=torch.float64, grad_fn=<RsubBackward1>)\n",
            "tensor(0.0032, dtype=torch.float64, grad_fn=<RsubBackward1>)\n",
            "tensor(0.0018, dtype=torch.float64, grad_fn=<RsubBackward1>)\n",
            "tensor(0.0039, dtype=torch.float64, grad_fn=<RsubBackward1>)\n",
            "tensor(0.0028, dtype=torch.float64, grad_fn=<RsubBackward1>)\n",
            "tensor(0.0061, dtype=torch.float64, grad_fn=<RsubBackward1>)\n",
            "tensor(0.0030, dtype=torch.float64, grad_fn=<RsubBackward1>)\n",
            "tensor(0.0053, dtype=torch.float64, grad_fn=<RsubBackward1>)\n"
          ]
        },
        {
          "output_type": "stream",
          "name": "stderr",
          "text": [
            " 67%|██████▋   | 671/1000 [00:13<00:04, 71.93it/s]"
          ]
        },
        {
          "output_type": "stream",
          "name": "stdout",
          "text": [
            "tensor(0.0015, dtype=torch.float64, grad_fn=<RsubBackward1>)\n",
            "tensor(0.0037, dtype=torch.float64, grad_fn=<RsubBackward1>)\n",
            "tensor(0.0021, dtype=torch.float64, grad_fn=<RsubBackward1>)\n",
            "tensor(0.0015, dtype=torch.float64, grad_fn=<RsubBackward1>)\n",
            "tensor(0.0026, dtype=torch.float64, grad_fn=<RsubBackward1>)\n",
            "tensor(0.0029, dtype=torch.float64, grad_fn=<RsubBackward1>)\n",
            "tensor(0.0024, dtype=torch.float64, grad_fn=<RsubBackward1>)\n",
            "tensor(0.0052, dtype=torch.float64, grad_fn=<RsubBackward1>)\n",
            "tensor(0.0043, dtype=torch.float64, grad_fn=<RsubBackward1>)\n",
            "tensor(0.0021, dtype=torch.float64, grad_fn=<RsubBackward1>)\n",
            "tensor(0.0019, dtype=torch.float64, grad_fn=<RsubBackward1>)\n",
            "tensor(0.0033, dtype=torch.float64, grad_fn=<RsubBackward1>)\n",
            "tensor(0.0039, dtype=torch.float64, grad_fn=<RsubBackward1>)\n",
            "tensor(0.0046, dtype=torch.float64, grad_fn=<RsubBackward1>)\n",
            "tensor(0.0018, dtype=torch.float64, grad_fn=<RsubBackward1>)\n",
            "tensor(0.0012, dtype=torch.float64, grad_fn=<RsubBackward1>)\n"
          ]
        },
        {
          "output_type": "stream",
          "name": "stderr",
          "text": [
            " 69%|██████▉   | 692/1000 [00:13<00:03, 85.81it/s]"
          ]
        },
        {
          "output_type": "stream",
          "name": "stdout",
          "text": [
            "tensor(0.0030, dtype=torch.float64, grad_fn=<RsubBackward1>)\n",
            "tensor(0.0027, dtype=torch.float64, grad_fn=<RsubBackward1>)\n",
            "tensor(0.0039, dtype=torch.float64, grad_fn=<RsubBackward1>)\n",
            "tensor(0.0023, dtype=torch.float64, grad_fn=<RsubBackward1>)\n",
            "tensor(0.0010, dtype=torch.float64, grad_fn=<RsubBackward1>)\n",
            "tensor(0.0024, dtype=torch.float64, grad_fn=<RsubBackward1>)\n",
            "tensor(0.0012, dtype=torch.float64, grad_fn=<RsubBackward1>)\n",
            "tensor(0.0031, dtype=torch.float64, grad_fn=<RsubBackward1>)\n",
            "tensor(0.0026, dtype=torch.float64, grad_fn=<RsubBackward1>)\n",
            "tensor(0.0040, dtype=torch.float64, grad_fn=<RsubBackward1>)\n",
            "tensor(0.0055, dtype=torch.float64, grad_fn=<RsubBackward1>)\n",
            "tensor(0.0028, dtype=torch.float64, grad_fn=<RsubBackward1>)\n",
            "tensor(0.0048, dtype=torch.float64, grad_fn=<RsubBackward1>)\n",
            "tensor(0.0018, dtype=torch.float64, grad_fn=<RsubBackward1>)\n",
            "tensor(0.0037, dtype=torch.float64, grad_fn=<RsubBackward1>)\n",
            "tensor(0.0023, dtype=torch.float64, grad_fn=<RsubBackward1>)\n",
            "tensor(0.0011, dtype=torch.float64, grad_fn=<RsubBackward1>)\n",
            "tensor(0.0037, dtype=torch.float64, grad_fn=<RsubBackward1>)\n",
            "tensor(0.0018, dtype=torch.float64, grad_fn=<RsubBackward1>)\n",
            "tensor(0.0020, dtype=torch.float64, grad_fn=<RsubBackward1>)\n",
            "tensor(0.0083, dtype=torch.float64, grad_fn=<RsubBackward1>)\n"
          ]
        },
        {
          "output_type": "stream",
          "name": "stderr",
          "text": [
            " 71%|███████   | 712/1000 [00:13<00:03, 90.76it/s]"
          ]
        },
        {
          "output_type": "stream",
          "name": "stdout",
          "text": [
            "tensor(0.0019, dtype=torch.float64, grad_fn=<RsubBackward1>)\n",
            "tensor(0.0065, dtype=torch.float64, grad_fn=<RsubBackward1>)\n",
            "tensor(0.0029, dtype=torch.float64, grad_fn=<RsubBackward1>)\n",
            "tensor(0.0064, dtype=torch.float64, grad_fn=<RsubBackward1>)\n",
            "tensor(0.0012, dtype=torch.float64, grad_fn=<RsubBackward1>)\n",
            "tensor(0.0019, dtype=torch.float64, grad_fn=<RsubBackward1>)\n",
            "tensor(0.0021, dtype=torch.float64, grad_fn=<RsubBackward1>)\n",
            "tensor(0.0043, dtype=torch.float64, grad_fn=<RsubBackward1>)\n",
            "tensor(0.0016, dtype=torch.float64, grad_fn=<RsubBackward1>)\n",
            "tensor(0.0017, dtype=torch.float64, grad_fn=<RsubBackward1>)\n",
            "tensor(0.0021, dtype=torch.float64, grad_fn=<RsubBackward1>)\n",
            "tensor(0.0010, dtype=torch.float64, grad_fn=<RsubBackward1>)\n",
            "tensor(0.0018, dtype=torch.float64, grad_fn=<RsubBackward1>)\n",
            "tensor(0.0023, dtype=torch.float64, grad_fn=<RsubBackward1>)\n",
            "tensor(0.0021, dtype=torch.float64, grad_fn=<RsubBackward1>)\n",
            "tensor(0.0036, dtype=torch.float64, grad_fn=<RsubBackward1>)\n",
            "tensor(0.0018, dtype=torch.float64, grad_fn=<RsubBackward1>)\n",
            "tensor(0.0042, dtype=torch.float64, grad_fn=<RsubBackward1>)\n",
            "tensor(0.0023, dtype=torch.float64, grad_fn=<RsubBackward1>)\n",
            "tensor(0.0012, dtype=torch.float64, grad_fn=<RsubBackward1>)\n"
          ]
        },
        {
          "output_type": "stream",
          "name": "stderr",
          "text": [
            " 73%|███████▎  | 732/1000 [00:13<00:02, 93.24it/s]"
          ]
        },
        {
          "output_type": "stream",
          "name": "stdout",
          "text": [
            "tensor(0.0040, dtype=torch.float64, grad_fn=<RsubBackward1>)\n",
            "tensor(0.0026, dtype=torch.float64, grad_fn=<RsubBackward1>)\n",
            "tensor(0.0048, dtype=torch.float64, grad_fn=<RsubBackward1>)\n",
            "tensor(0.0016, dtype=torch.float64, grad_fn=<RsubBackward1>)\n",
            "tensor(0.0020, dtype=torch.float64, grad_fn=<RsubBackward1>)\n",
            "tensor(0.0029, dtype=torch.float64, grad_fn=<RsubBackward1>)\n",
            "tensor(0.0038, dtype=torch.float64, grad_fn=<RsubBackward1>)\n",
            "tensor(0.0047, dtype=torch.float64, grad_fn=<RsubBackward1>)\n",
            "tensor(0.0026, dtype=torch.float64, grad_fn=<RsubBackward1>)\n",
            "tensor(0.0039, dtype=torch.float64, grad_fn=<RsubBackward1>)\n",
            "tensor(0.0021, dtype=torch.float64, grad_fn=<RsubBackward1>)\n",
            "tensor(0.0041, dtype=torch.float64, grad_fn=<RsubBackward1>)\n",
            "tensor(0.0015, dtype=torch.float64, grad_fn=<RsubBackward1>)\n",
            "tensor(0.0051, dtype=torch.float64, grad_fn=<RsubBackward1>)\n",
            "tensor(0.0077, dtype=torch.float64, grad_fn=<RsubBackward1>)\n",
            "tensor(0.0065, dtype=torch.float64, grad_fn=<RsubBackward1>)\n",
            "tensor(0.0022, dtype=torch.float64, grad_fn=<RsubBackward1>)\n",
            "tensor(0.0027, dtype=torch.float64, grad_fn=<RsubBackward1>)\n",
            "tensor(0.0021, dtype=torch.float64, grad_fn=<RsubBackward1>)\n",
            "tensor(0.0022, dtype=torch.float64, grad_fn=<RsubBackward1>)\n"
          ]
        },
        {
          "output_type": "stream",
          "name": "stderr",
          "text": [
            " 75%|███████▌  | 753/1000 [00:14<00:02, 94.87it/s]"
          ]
        },
        {
          "output_type": "stream",
          "name": "stdout",
          "text": [
            "tensor(0.0012, dtype=torch.float64, grad_fn=<RsubBackward1>)\n",
            "tensor(0.0009, dtype=torch.float64, grad_fn=<RsubBackward1>)\n",
            "tensor(0.0018, dtype=torch.float64, grad_fn=<RsubBackward1>)\n",
            "tensor(0.0038, dtype=torch.float64, grad_fn=<RsubBackward1>)\n",
            "tensor(0.0034, dtype=torch.float64, grad_fn=<RsubBackward1>)\n",
            "tensor(0.0057, dtype=torch.float64, grad_fn=<RsubBackward1>)\n",
            "tensor(0.0017, dtype=torch.float64, grad_fn=<RsubBackward1>)\n",
            "tensor(0.0028, dtype=torch.float64, grad_fn=<RsubBackward1>)\n",
            "tensor(0.0049, dtype=torch.float64, grad_fn=<RsubBackward1>)\n",
            "tensor(0.0038, dtype=torch.float64, grad_fn=<RsubBackward1>)\n",
            "tensor(0.0019, dtype=torch.float64, grad_fn=<RsubBackward1>)\n",
            "tensor(0.0052, dtype=torch.float64, grad_fn=<RsubBackward1>)\n",
            "tensor(0.0007, dtype=torch.float64, grad_fn=<RsubBackward1>)\n",
            "tensor(0.0012, dtype=torch.float64, grad_fn=<RsubBackward1>)\n",
            "tensor(0.0021, dtype=torch.float64, grad_fn=<RsubBackward1>)\n",
            "tensor(0.0032, dtype=torch.float64, grad_fn=<RsubBackward1>)\n",
            "tensor(0.0014, dtype=torch.float64, grad_fn=<RsubBackward1>)\n",
            "tensor(0.0021, dtype=torch.float64, grad_fn=<RsubBackward1>)\n",
            "tensor(0.0039, dtype=torch.float64, grad_fn=<RsubBackward1>)\n",
            "tensor(0.0014, dtype=torch.float64, grad_fn=<RsubBackward1>)\n",
            "tensor(0.0028, dtype=torch.float64, grad_fn=<RsubBackward1>)\n"
          ]
        },
        {
          "output_type": "stream",
          "name": "stderr",
          "text": [
            " 77%|███████▋  | 773/1000 [00:14<00:02, 94.07it/s]"
          ]
        },
        {
          "output_type": "stream",
          "name": "stdout",
          "text": [
            "tensor(0.0041, dtype=torch.float64, grad_fn=<RsubBackward1>)\n",
            "tensor(0.0023, dtype=torch.float64, grad_fn=<RsubBackward1>)\n",
            "tensor(0.0018, dtype=torch.float64, grad_fn=<RsubBackward1>)\n",
            "tensor(0.0040, dtype=torch.float64, grad_fn=<RsubBackward1>)\n",
            "tensor(0.0049, dtype=torch.float64, grad_fn=<RsubBackward1>)\n",
            "tensor(0.0015, dtype=torch.float64, grad_fn=<RsubBackward1>)\n",
            "tensor(0.0024, dtype=torch.float64, grad_fn=<RsubBackward1>)\n",
            "tensor(0.0020, dtype=torch.float64, grad_fn=<RsubBackward1>)\n",
            "tensor(0.0052, dtype=torch.float64, grad_fn=<RsubBackward1>)\n",
            "tensor(0.0048, dtype=torch.float64, grad_fn=<RsubBackward1>)\n",
            "tensor(0.0023, dtype=torch.float64, grad_fn=<RsubBackward1>)\n",
            "tensor(0.0028, dtype=torch.float64, grad_fn=<RsubBackward1>)\n",
            "tensor(0.0046, dtype=torch.float64, grad_fn=<RsubBackward1>)\n",
            "tensor(0.0040, dtype=torch.float64, grad_fn=<RsubBackward1>)\n",
            "tensor(0.0007, dtype=torch.float64, grad_fn=<RsubBackward1>)\n",
            "tensor(0.0056, dtype=torch.float64, grad_fn=<RsubBackward1>)\n",
            "tensor(0.0042, dtype=torch.float64, grad_fn=<RsubBackward1>)\n",
            "tensor(0.0024, dtype=torch.float64, grad_fn=<RsubBackward1>)\n",
            "tensor(0.0015, dtype=torch.float64, grad_fn=<RsubBackward1>)\n",
            "tensor(0.0035, dtype=torch.float64, grad_fn=<RsubBackward1>)\n"
          ]
        },
        {
          "output_type": "stream",
          "name": "stderr",
          "text": [
            " 79%|███████▉  | 793/1000 [00:14<00:02, 94.85it/s]"
          ]
        },
        {
          "output_type": "stream",
          "name": "stdout",
          "text": [
            "tensor(0.0021, dtype=torch.float64, grad_fn=<RsubBackward1>)\n",
            "tensor(0.0025, dtype=torch.float64, grad_fn=<RsubBackward1>)\n",
            "tensor(0.0013, dtype=torch.float64, grad_fn=<RsubBackward1>)\n",
            "tensor(0.0012, dtype=torch.float64, grad_fn=<RsubBackward1>)\n",
            "tensor(0.0019, dtype=torch.float64, grad_fn=<RsubBackward1>)\n",
            "tensor(0.0025, dtype=torch.float64, grad_fn=<RsubBackward1>)\n",
            "tensor(0.0017, dtype=torch.float64, grad_fn=<RsubBackward1>)\n",
            "tensor(0.0017, dtype=torch.float64, grad_fn=<RsubBackward1>)\n",
            "tensor(0.0016, dtype=torch.float64, grad_fn=<RsubBackward1>)\n",
            "tensor(0.0021, dtype=torch.float64, grad_fn=<RsubBackward1>)\n",
            "tensor(0.0024, dtype=torch.float64, grad_fn=<RsubBackward1>)\n",
            "tensor(0.0095, dtype=torch.float64, grad_fn=<RsubBackward1>)\n",
            "tensor(0.0011, dtype=torch.float64, grad_fn=<RsubBackward1>)\n",
            "tensor(0.0029, dtype=torch.float64, grad_fn=<RsubBackward1>)\n",
            "tensor(0.0026, dtype=torch.float64, grad_fn=<RsubBackward1>)\n",
            "tensor(0.0052, dtype=torch.float64, grad_fn=<RsubBackward1>)\n",
            "tensor(0.0022, dtype=torch.float64, grad_fn=<RsubBackward1>)\n",
            "tensor(0.0010, dtype=torch.float64, grad_fn=<RsubBackward1>)\n",
            "tensor(0.0039, dtype=torch.float64, grad_fn=<RsubBackward1>)\n",
            "tensor(0.0045, dtype=torch.float64, grad_fn=<RsubBackward1>)\n"
          ]
        },
        {
          "output_type": "stream",
          "name": "stderr",
          "text": [
            " 81%|████████▏ | 814/1000 [00:14<00:01, 97.02it/s]"
          ]
        },
        {
          "output_type": "stream",
          "name": "stdout",
          "text": [
            "tensor(0.0018, dtype=torch.float64, grad_fn=<RsubBackward1>)\n",
            "tensor(0.0018, dtype=torch.float64, grad_fn=<RsubBackward1>)\n",
            "tensor(0.0031, dtype=torch.float64, grad_fn=<RsubBackward1>)\n",
            "tensor(0.0021, dtype=torch.float64, grad_fn=<RsubBackward1>)\n",
            "tensor(0.0031, dtype=torch.float64, grad_fn=<RsubBackward1>)\n",
            "tensor(0.0034, dtype=torch.float64, grad_fn=<RsubBackward1>)\n",
            "tensor(0.0080, dtype=torch.float64, grad_fn=<RsubBackward1>)\n",
            "tensor(0.0028, dtype=torch.float64, grad_fn=<RsubBackward1>)\n",
            "tensor(0.0010, dtype=torch.float64, grad_fn=<RsubBackward1>)\n",
            "tensor(0.0010, dtype=torch.float64, grad_fn=<RsubBackward1>)\n",
            "tensor(0.0021, dtype=torch.float64, grad_fn=<RsubBackward1>)\n",
            "tensor(0.0033, dtype=torch.float64, grad_fn=<RsubBackward1>)\n",
            "tensor(0.0030, dtype=torch.float64, grad_fn=<RsubBackward1>)\n",
            "tensor(0.0025, dtype=torch.float64, grad_fn=<RsubBackward1>)\n",
            "tensor(0.0015, dtype=torch.float64, grad_fn=<RsubBackward1>)\n",
            "tensor(0.0016, dtype=torch.float64, grad_fn=<RsubBackward1>)\n",
            "tensor(0.0032, dtype=torch.float64, grad_fn=<RsubBackward1>)\n",
            "tensor(0.0017, dtype=torch.float64, grad_fn=<RsubBackward1>)\n",
            "tensor(0.0013, dtype=torch.float64, grad_fn=<RsubBackward1>)\n",
            "tensor(0.0024, dtype=torch.float64, grad_fn=<RsubBackward1>)\n",
            "tensor(0.0058, dtype=torch.float64, grad_fn=<RsubBackward1>)\n"
          ]
        },
        {
          "output_type": "stream",
          "name": "stderr",
          "text": [
            " 83%|████████▎ | 834/1000 [00:14<00:01, 95.87it/s]"
          ]
        },
        {
          "output_type": "stream",
          "name": "stdout",
          "text": [
            "tensor(0.0014, dtype=torch.float64, grad_fn=<RsubBackward1>)\n",
            "tensor(0.0019, dtype=torch.float64, grad_fn=<RsubBackward1>)\n",
            "tensor(0.0054, dtype=torch.float64, grad_fn=<RsubBackward1>)\n",
            "tensor(0.0023, dtype=torch.float64, grad_fn=<RsubBackward1>)\n",
            "tensor(0.0052, dtype=torch.float64, grad_fn=<RsubBackward1>)\n",
            "tensor(0.0050, dtype=torch.float64, grad_fn=<RsubBackward1>)\n",
            "tensor(0.0017, dtype=torch.float64, grad_fn=<RsubBackward1>)\n",
            "tensor(0.0020, dtype=torch.float64, grad_fn=<RsubBackward1>)\n",
            "tensor(0.0022, dtype=torch.float64, grad_fn=<RsubBackward1>)\n",
            "tensor(0.0013, dtype=torch.float64, grad_fn=<RsubBackward1>)\n",
            "tensor(0.0027, dtype=torch.float64, grad_fn=<RsubBackward1>)\n",
            "tensor(0.0026, dtype=torch.float64, grad_fn=<RsubBackward1>)\n",
            "tensor(0.0010, dtype=torch.float64, grad_fn=<RsubBackward1>)\n",
            "tensor(0.0025, dtype=torch.float64, grad_fn=<RsubBackward1>)\n",
            "tensor(0.0013, dtype=torch.float64, grad_fn=<RsubBackward1>)\n",
            "tensor(0.0034, dtype=torch.float64, grad_fn=<RsubBackward1>)\n",
            "tensor(0.0032, dtype=torch.float64, grad_fn=<RsubBackward1>)\n",
            "tensor(0.0025, dtype=torch.float64, grad_fn=<RsubBackward1>)\n",
            "tensor(0.0018, dtype=torch.float64, grad_fn=<RsubBackward1>)\n",
            "tensor(0.0019, dtype=torch.float64, grad_fn=<RsubBackward1>)\n"
          ]
        },
        {
          "output_type": "stream",
          "name": "stderr",
          "text": [
            "\r 84%|████████▍ | 844/1000 [00:15<00:01, 92.21it/s]"
          ]
        },
        {
          "output_type": "stream",
          "name": "stdout",
          "text": [
            "tensor(0.0011, dtype=torch.float64, grad_fn=<RsubBackward1>)\n",
            "tensor(0.0013, dtype=torch.float64, grad_fn=<RsubBackward1>)\n",
            "tensor(0.0033, dtype=torch.float64, grad_fn=<RsubBackward1>)\n",
            "tensor(0.0014, dtype=torch.float64, grad_fn=<RsubBackward1>)\n",
            "tensor(0.0017, dtype=torch.float64, grad_fn=<RsubBackward1>)\n",
            "tensor(0.0040, dtype=torch.float64, grad_fn=<RsubBackward1>)\n",
            "tensor(0.0015, dtype=torch.float64, grad_fn=<RsubBackward1>)\n",
            "tensor(0.0033, dtype=torch.float64, grad_fn=<RsubBackward1>)\n",
            "tensor(0.0031, dtype=torch.float64, grad_fn=<RsubBackward1>)\n",
            "tensor(0.0029, dtype=torch.float64, grad_fn=<RsubBackward1>)\n",
            "tensor(0.0025, dtype=torch.float64, grad_fn=<RsubBackward1>)\n",
            "tensor(0.0019, dtype=torch.float64, grad_fn=<RsubBackward1>)\n",
            "tensor(0.0027, dtype=torch.float64, grad_fn=<RsubBackward1>)\n",
            "tensor(0.0014, dtype=torch.float64, grad_fn=<RsubBackward1>)\n",
            "tensor(0.0027, dtype=torch.float64, grad_fn=<RsubBackward1>)\n",
            "tensor(0.0015, dtype=torch.float64, grad_fn=<RsubBackward1>)\n",
            "tensor(0.0018, dtype=torch.float64, grad_fn=<RsubBackward1>)\n",
            "tensor(0.0023, dtype=torch.float64, grad_fn=<RsubBackward1>)\n",
            "tensor(0.0023, dtype=torch.float64, grad_fn=<RsubBackward1>)\n",
            "tensor(0.0014, dtype=torch.float64, grad_fn=<RsubBackward1>)\n"
          ]
        },
        {
          "output_type": "stream",
          "name": "stderr",
          "text": [
            " 86%|████████▋ | 865/1000 [00:15<00:01, 96.71it/s]"
          ]
        },
        {
          "output_type": "stream",
          "name": "stdout",
          "text": [
            "tensor(0.0028, dtype=torch.float64, grad_fn=<RsubBackward1>)\n",
            "tensor(0.0014, dtype=torch.float64, grad_fn=<RsubBackward1>)\n",
            "tensor(0.0014, dtype=torch.float64, grad_fn=<RsubBackward1>)\n",
            "tensor(0.0010, dtype=torch.float64, grad_fn=<RsubBackward1>)\n",
            "tensor(0.0020, dtype=torch.float64, grad_fn=<RsubBackward1>)\n",
            "tensor(0.0016, dtype=torch.float64, grad_fn=<RsubBackward1>)\n",
            "tensor(0.0016, dtype=torch.float64, grad_fn=<RsubBackward1>)\n",
            "tensor(0.0035, dtype=torch.float64, grad_fn=<RsubBackward1>)\n",
            "tensor(0.0013, dtype=torch.float64, grad_fn=<RsubBackward1>)\n",
            "tensor(0.0008, dtype=torch.float64, grad_fn=<RsubBackward1>)\n",
            "tensor(0.0019, dtype=torch.float64, grad_fn=<RsubBackward1>)\n",
            "tensor(0.0055, dtype=torch.float64, grad_fn=<RsubBackward1>)\n",
            "tensor(0.0014, dtype=torch.float64, grad_fn=<RsubBackward1>)\n",
            "tensor(0.0048, dtype=torch.float64, grad_fn=<RsubBackward1>)\n",
            "tensor(0.0033, dtype=torch.float64, grad_fn=<RsubBackward1>)\n",
            "tensor(0.0011, dtype=torch.float64, grad_fn=<RsubBackward1>)\n",
            "tensor(0.0012, dtype=torch.float64, grad_fn=<RsubBackward1>)\n",
            "tensor(0.0021, dtype=torch.float64, grad_fn=<RsubBackward1>)\n",
            "tensor(0.0013, dtype=torch.float64, grad_fn=<RsubBackward1>)\n",
            "tensor(0.0015, dtype=torch.float64, grad_fn=<RsubBackward1>)\n",
            "tensor(0.0011, dtype=torch.float64, grad_fn=<RsubBackward1>)\n"
          ]
        },
        {
          "output_type": "stream",
          "name": "stderr",
          "text": [
            " 89%|████████▊ | 887/1000 [00:15<00:01, 98.39it/s]"
          ]
        },
        {
          "output_type": "stream",
          "name": "stdout",
          "text": [
            "tensor(0.0030, dtype=torch.float64, grad_fn=<RsubBackward1>)\n",
            "tensor(0.0019, dtype=torch.float64, grad_fn=<RsubBackward1>)\n",
            "tensor(0.0011, dtype=torch.float64, grad_fn=<RsubBackward1>)\n",
            "tensor(0.0021, dtype=torch.float64, grad_fn=<RsubBackward1>)\n",
            "tensor(0.0030, dtype=torch.float64, grad_fn=<RsubBackward1>)\n",
            "tensor(0.0023, dtype=torch.float64, grad_fn=<RsubBackward1>)\n",
            "tensor(0.0013, dtype=torch.float64, grad_fn=<RsubBackward1>)\n",
            "tensor(0.0039, dtype=torch.float64, grad_fn=<RsubBackward1>)\n",
            "tensor(0.0008, dtype=torch.float64, grad_fn=<RsubBackward1>)\n",
            "tensor(0.0025, dtype=torch.float64, grad_fn=<RsubBackward1>)\n",
            "tensor(0.0020, dtype=torch.float64, grad_fn=<RsubBackward1>)\n",
            "tensor(0.0012, dtype=torch.float64, grad_fn=<RsubBackward1>)\n",
            "tensor(0.0012, dtype=torch.float64, grad_fn=<RsubBackward1>)\n",
            "tensor(0.0038, dtype=torch.float64, grad_fn=<RsubBackward1>)\n",
            "tensor(0.0011, dtype=torch.float64, grad_fn=<RsubBackward1>)\n",
            "tensor(0.0026, dtype=torch.float64, grad_fn=<RsubBackward1>)\n",
            "tensor(0.0034, dtype=torch.float64, grad_fn=<RsubBackward1>)\n",
            "tensor(0.0008, dtype=torch.float64, grad_fn=<RsubBackward1>)\n",
            "tensor(0.0014, dtype=torch.float64, grad_fn=<RsubBackward1>)\n",
            "tensor(0.0027, dtype=torch.float64, grad_fn=<RsubBackward1>)\n"
          ]
        },
        {
          "output_type": "stream",
          "name": "stderr",
          "text": [
            " 91%|█████████ | 907/1000 [00:15<00:00, 96.55it/s]"
          ]
        },
        {
          "output_type": "stream",
          "name": "stdout",
          "text": [
            "tensor(0.0018, dtype=torch.float64, grad_fn=<RsubBackward1>)\n",
            "tensor(0.0016, dtype=torch.float64, grad_fn=<RsubBackward1>)\n",
            "tensor(0.0009, dtype=torch.float64, grad_fn=<RsubBackward1>)\n",
            "tensor(0.0035, dtype=torch.float64, grad_fn=<RsubBackward1>)\n",
            "tensor(0.0030, dtype=torch.float64, grad_fn=<RsubBackward1>)\n",
            "tensor(0.0015, dtype=torch.float64, grad_fn=<RsubBackward1>)\n",
            "tensor(0.0031, dtype=torch.float64, grad_fn=<RsubBackward1>)\n",
            "tensor(0.0015, dtype=torch.float64, grad_fn=<RsubBackward1>)\n",
            "tensor(0.0015, dtype=torch.float64, grad_fn=<RsubBackward1>)\n",
            "tensor(0.0012, dtype=torch.float64, grad_fn=<RsubBackward1>)\n",
            "tensor(0.0013, dtype=torch.float64, grad_fn=<RsubBackward1>)\n",
            "tensor(0.0042, dtype=torch.float64, grad_fn=<RsubBackward1>)\n",
            "tensor(0.0095, dtype=torch.float64, grad_fn=<RsubBackward1>)\n",
            "tensor(0.0020, dtype=torch.float64, grad_fn=<RsubBackward1>)\n",
            "tensor(0.0028, dtype=torch.float64, grad_fn=<RsubBackward1>)\n",
            "tensor(0.0020, dtype=torch.float64, grad_fn=<RsubBackward1>)\n",
            "tensor(0.0025, dtype=torch.float64, grad_fn=<RsubBackward1>)\n",
            "tensor(0.0007, dtype=torch.float64, grad_fn=<RsubBackward1>)\n",
            "tensor(0.0040, dtype=torch.float64, grad_fn=<RsubBackward1>)\n",
            "tensor(0.0014, dtype=torch.float64, grad_fn=<RsubBackward1>)\n"
          ]
        },
        {
          "output_type": "stream",
          "name": "stderr",
          "text": [
            " 93%|█████████▎| 927/1000 [00:15<00:00, 96.39it/s]"
          ]
        },
        {
          "output_type": "stream",
          "name": "stdout",
          "text": [
            "tensor(0.0018, dtype=torch.float64, grad_fn=<RsubBackward1>)\n",
            "tensor(0.0025, dtype=torch.float64, grad_fn=<RsubBackward1>)\n",
            "tensor(0.0018, dtype=torch.float64, grad_fn=<RsubBackward1>)\n",
            "tensor(0.0049, dtype=torch.float64, grad_fn=<RsubBackward1>)\n",
            "tensor(0.0016, dtype=torch.float64, grad_fn=<RsubBackward1>)\n",
            "tensor(0.0012, dtype=torch.float64, grad_fn=<RsubBackward1>)\n",
            "tensor(0.0036, dtype=torch.float64, grad_fn=<RsubBackward1>)\n",
            "tensor(0.0020, dtype=torch.float64, grad_fn=<RsubBackward1>)\n",
            "tensor(0.0017, dtype=torch.float64, grad_fn=<RsubBackward1>)\n",
            "tensor(0.0016, dtype=torch.float64, grad_fn=<RsubBackward1>)\n",
            "tensor(0.0009, dtype=torch.float64, grad_fn=<RsubBackward1>)\n",
            "tensor(0.0020, dtype=torch.float64, grad_fn=<RsubBackward1>)\n",
            "tensor(0.0015, dtype=torch.float64, grad_fn=<RsubBackward1>)\n",
            "tensor(0.0010, dtype=torch.float64, grad_fn=<RsubBackward1>)\n",
            "tensor(0.0066, dtype=torch.float64, grad_fn=<RsubBackward1>)\n",
            "tensor(0.0022, dtype=torch.float64, grad_fn=<RsubBackward1>)\n",
            "tensor(0.0012, dtype=torch.float64, grad_fn=<RsubBackward1>)\n",
            "tensor(0.0017, dtype=torch.float64, grad_fn=<RsubBackward1>)\n",
            "tensor(0.0008, dtype=torch.float64, grad_fn=<RsubBackward1>)\n",
            "tensor(0.0016, dtype=torch.float64, grad_fn=<RsubBackward1>)\n",
            "tensor(0.0009, dtype=torch.float64, grad_fn=<RsubBackward1>)\n"
          ]
        },
        {
          "output_type": "stream",
          "name": "stderr",
          "text": [
            " 95%|█████████▍| 948/1000 [00:16<00:00, 95.97it/s]"
          ]
        },
        {
          "output_type": "stream",
          "name": "stdout",
          "text": [
            "tensor(0.0013, dtype=torch.float64, grad_fn=<RsubBackward1>)\n",
            "tensor(0.0014, dtype=torch.float64, grad_fn=<RsubBackward1>)\n",
            "tensor(0.0017, dtype=torch.float64, grad_fn=<RsubBackward1>)\n",
            "tensor(0.0010, dtype=torch.float64, grad_fn=<RsubBackward1>)\n",
            "tensor(0.0010, dtype=torch.float64, grad_fn=<RsubBackward1>)\n",
            "tensor(0.0009, dtype=torch.float64, grad_fn=<RsubBackward1>)\n",
            "tensor(0.0028, dtype=torch.float64, grad_fn=<RsubBackward1>)\n",
            "tensor(0.0027, dtype=torch.float64, grad_fn=<RsubBackward1>)\n",
            "tensor(0.0006, dtype=torch.float64, grad_fn=<RsubBackward1>)\n",
            "tensor(0.0035, dtype=torch.float64, grad_fn=<RsubBackward1>)\n",
            "tensor(0.0025, dtype=torch.float64, grad_fn=<RsubBackward1>)\n",
            "tensor(0.0010, dtype=torch.float64, grad_fn=<RsubBackward1>)\n",
            "tensor(0.0032, dtype=torch.float64, grad_fn=<RsubBackward1>)\n",
            "tensor(0.0013, dtype=torch.float64, grad_fn=<RsubBackward1>)\n",
            "tensor(0.0020, dtype=torch.float64, grad_fn=<RsubBackward1>)\n",
            "tensor(0.0009, dtype=torch.float64, grad_fn=<RsubBackward1>)\n",
            "tensor(0.0056, dtype=torch.float64, grad_fn=<RsubBackward1>)\n",
            "tensor(0.0011, dtype=torch.float64, grad_fn=<RsubBackward1>)\n",
            "tensor(0.0010, dtype=torch.float64, grad_fn=<RsubBackward1>)\n"
          ]
        },
        {
          "output_type": "stream",
          "name": "stderr",
          "text": [
            " 97%|█████████▋| 968/1000 [00:16<00:00, 96.40it/s]"
          ]
        },
        {
          "output_type": "stream",
          "name": "stdout",
          "text": [
            "tensor(0.0019, dtype=torch.float64, grad_fn=<RsubBackward1>)\n",
            "tensor(0.0014, dtype=torch.float64, grad_fn=<RsubBackward1>)\n",
            "tensor(0.0014, dtype=torch.float64, grad_fn=<RsubBackward1>)\n",
            "tensor(0.0013, dtype=torch.float64, grad_fn=<RsubBackward1>)\n",
            "tensor(0.0017, dtype=torch.float64, grad_fn=<RsubBackward1>)\n",
            "tensor(0.0010, dtype=torch.float64, grad_fn=<RsubBackward1>)\n",
            "tensor(0.0010, dtype=torch.float64, grad_fn=<RsubBackward1>)\n",
            "tensor(0.0050, dtype=torch.float64, grad_fn=<RsubBackward1>)\n",
            "tensor(0.0041, dtype=torch.float64, grad_fn=<RsubBackward1>)\n",
            "tensor(0.0019, dtype=torch.float64, grad_fn=<RsubBackward1>)\n",
            "tensor(0.0018, dtype=torch.float64, grad_fn=<RsubBackward1>)\n",
            "tensor(0.0010, dtype=torch.float64, grad_fn=<RsubBackward1>)\n",
            "tensor(0.0015, dtype=torch.float64, grad_fn=<RsubBackward1>)\n",
            "tensor(0.0035, dtype=torch.float64, grad_fn=<RsubBackward1>)\n",
            "tensor(0.0007, dtype=torch.float64, grad_fn=<RsubBackward1>)\n",
            "tensor(0.0009, dtype=torch.float64, grad_fn=<RsubBackward1>)\n",
            "tensor(0.0014, dtype=torch.float64, grad_fn=<RsubBackward1>)\n",
            "tensor(0.0016, dtype=torch.float64, grad_fn=<RsubBackward1>)\n",
            "tensor(0.0041, dtype=torch.float64, grad_fn=<RsubBackward1>)\n",
            "tensor(0.0015, dtype=torch.float64, grad_fn=<RsubBackward1>)\n"
          ]
        },
        {
          "output_type": "stream",
          "name": "stderr",
          "text": [
            " 99%|█████████▉| 989/1000 [00:16<00:00, 97.91it/s]"
          ]
        },
        {
          "output_type": "stream",
          "name": "stdout",
          "text": [
            "tensor(0.0008, dtype=torch.float64, grad_fn=<RsubBackward1>)\n",
            "tensor(0.0045, dtype=torch.float64, grad_fn=<RsubBackward1>)\n",
            "tensor(0.0045, dtype=torch.float64, grad_fn=<RsubBackward1>)\n",
            "tensor(0.0039, dtype=torch.float64, grad_fn=<RsubBackward1>)\n",
            "tensor(0.0022, dtype=torch.float64, grad_fn=<RsubBackward1>)\n",
            "tensor(0.0015, dtype=torch.float64, grad_fn=<RsubBackward1>)\n",
            "tensor(0.0006, dtype=torch.float64, grad_fn=<RsubBackward1>)\n",
            "tensor(0.0012, dtype=torch.float64, grad_fn=<RsubBackward1>)\n",
            "tensor(0.0029, dtype=torch.float64, grad_fn=<RsubBackward1>)\n",
            "tensor(0.0021, dtype=torch.float64, grad_fn=<RsubBackward1>)\n",
            "tensor(0.0008, dtype=torch.float64, grad_fn=<RsubBackward1>)\n",
            "tensor(0.0033, dtype=torch.float64, grad_fn=<RsubBackward1>)\n",
            "tensor(0.0014, dtype=torch.float64, grad_fn=<RsubBackward1>)\n",
            "tensor(0.0015, dtype=torch.float64, grad_fn=<RsubBackward1>)\n",
            "tensor(0.0010, dtype=torch.float64, grad_fn=<RsubBackward1>)\n",
            "tensor(0.0021, dtype=torch.float64, grad_fn=<RsubBackward1>)\n",
            "tensor(0.0048, dtype=torch.float64, grad_fn=<RsubBackward1>)\n",
            "tensor(0.0017, dtype=torch.float64, grad_fn=<RsubBackward1>)\n",
            "tensor(0.0017, dtype=torch.float64, grad_fn=<RsubBackward1>)\n",
            "tensor(0.0024, dtype=torch.float64, grad_fn=<RsubBackward1>)\n",
            "tensor(0.0011, dtype=torch.float64, grad_fn=<RsubBackward1>)\n"
          ]
        },
        {
          "output_type": "stream",
          "name": "stderr",
          "text": [
            "100%|██████████| 1000/1000 [00:16<00:00, 60.10it/s]"
          ]
        },
        {
          "output_type": "stream",
          "name": "stdout",
          "text": [
            "tensor(0.0014, dtype=torch.float64, grad_fn=<RsubBackward1>)\n",
            "tensor(0.0011, dtype=torch.float64, grad_fn=<RsubBackward1>)\n",
            "tensor(0.0020, dtype=torch.float64, grad_fn=<RsubBackward1>)\n",
            "tensor(0.0010, dtype=torch.float64, grad_fn=<RsubBackward1>)\n"
          ]
        },
        {
          "output_type": "stream",
          "name": "stderr",
          "text": [
            "\n"
          ]
        }
      ],
      "source": [
        "# generate dataset\n",
        "Data = Henon(T=200, dt=0.1,N_sims=1,a=1.4,b=0.3)[0]\n",
        "#train test split\n",
        "observed_data= Data\n",
        "train_data = Data[:600,:].T\n",
        "test_data = Data[600:,:].T\n",
        "#times\n",
        "Times = np.linspace(1,2000-1,2000-1)\n",
        "\n",
        "# Some constants\n",
        "nparameters=24\n",
        "delay = 4\n",
        "regu_lambda = 0.00001\n",
        "\n",
        "# Get scaling factor\n",
        "normalize=np.amax(train_data[:,:])\n",
        "\n",
        "X_train, Y_train = prepare_data_fast(train_data,delay,normalize)\n",
        "X_test, Y_test = prepare_data_fast(test_data,delay,normalize)\n",
        "\n",
        "model= KernelFlows(\"anl3\", nparameters = nparameters, regu_lambda = regu_lambda, dim = 2, metric = \"rho_ratio\", batch_size = 100)\n",
        "model= train_kernel(X_train, Y_train, model, lr = 0.1)"
      ]
    },
    {
      "cell_type": "code",
      "source": [
        "X_train.shape"
      ],
      "metadata": {
        "colab": {
          "base_uri": "https://localhost:8080/"
        },
        "id": "1ALhgpSWMvb-",
        "outputId": "35789fe4-c141-4fea-ad55-b5ba3738745c"
      },
      "id": "1ALhgpSWMvb-",
      "execution_count": null,
      "outputs": [
        {
          "output_type": "execute_result",
          "data": {
            "text/plain": [
              "(596, 8)"
            ]
          },
          "metadata": {},
          "execution_count": 9
        }
      ]
    },
    {
      "cell_type": "code",
      "source": [],
      "metadata": {
        "id": "ZdcETJiEo0KA"
      },
      "id": "ZdcETJiEo0KA",
      "execution_count": null,
      "outputs": []
    },
    {
      "cell_type": "code",
      "execution_count": null,
      "id": "60e8a368",
      "metadata": {
        "id": "60e8a368",
        "outputId": "cd070767-1e2a-494e-929c-8b4d724e39a1",
        "colab": {
          "base_uri": "https://localhost:8080/",
          "height": 240
        }
      },
      "outputs": [
        {
          "output_type": "error",
          "ename": "AttributeError",
          "evalue": "ignored",
          "traceback": [
            "\u001b[0;31m---------------------------------------------------------------------------\u001b[0m",
            "\u001b[0;31mAttributeError\u001b[0m                            Traceback (most recent call last)",
            "\u001b[0;32m<ipython-input-11-48a1a646bee4>\u001b[0m in \u001b[0;36m<cell line: 5>\u001b[0;34m()\u001b[0m\n\u001b[1;32m      3\u001b[0m \u001b[0mhorizon\u001b[0m \u001b[0;34m=\u001b[0m \u001b[0;36m90\u001b[0m\u001b[0;34m\u001b[0m\u001b[0;34m\u001b[0m\u001b[0m\n\u001b[1;32m      4\u001b[0m \u001b[0;34m\u001b[0m\u001b[0m\n\u001b[0;32m----> 5\u001b[0;31m \u001b[0mY_pred\u001b[0m \u001b[0;34m=\u001b[0m \u001b[0mmodel\u001b[0m\u001b[0;34m.\u001b[0m\u001b[0mpredict_ahead\u001b[0m\u001b[0;34m(\u001b[0m\u001b[0mX_test\u001b[0m\u001b[0;34m,\u001b[0m\u001b[0mhorizon\u001b[0m\u001b[0;34m=\u001b[0m\u001b[0mhorizon\u001b[0m\u001b[0;34m,\u001b[0m \u001b[0mdelay\u001b[0m \u001b[0;34m=\u001b[0m \u001b[0mdelay\u001b[0m\u001b[0;34m,\u001b[0m \u001b[0mdelta_t_mode\u001b[0m \u001b[0;34m=\u001b[0m \u001b[0;32mFalse\u001b[0m\u001b[0;34m)\u001b[0m\u001b[0;34m\u001b[0m\u001b[0;34m\u001b[0m\u001b[0m\n\u001b[0m\u001b[1;32m      6\u001b[0m \u001b[0;34m\u001b[0m\u001b[0m\n\u001b[1;32m      7\u001b[0m \u001b[0mmse_pred\u001b[0m \u001b[0;34m=\u001b[0m \u001b[0;34m(\u001b[0m\u001b[0mY_pred\u001b[0m\u001b[0;34m.\u001b[0m\u001b[0mdetach\u001b[0m\u001b[0;34m(\u001b[0m\u001b[0;34m)\u001b[0m\u001b[0;34m-\u001b[0m\u001b[0mY_test\u001b[0m\u001b[0;34m)\u001b[0m\u001b[0;34m.\u001b[0m\u001b[0mpow\u001b[0m\u001b[0;34m(\u001b[0m\u001b[0;36m2\u001b[0m\u001b[0;34m)\u001b[0m\u001b[0;34m.\u001b[0m\u001b[0mmean\u001b[0m\u001b[0;34m(\u001b[0m\u001b[0;34m)\u001b[0m\u001b[0;34m\u001b[0m\u001b[0;34m\u001b[0m\u001b[0m\n",
            "\u001b[0;31mAttributeError\u001b[0m: 'tuple' object has no attribute 'predict_ahead'"
          ]
        }
      ],
      "source": [
        "#model.compute_kernel_and_inverse(regu_lambda = regu_lambda)\n",
        "\n",
        "horizon = 90\n",
        "\n",
        "Y_pred = model.predict_ahead(X_test,horizon=horizon, delay = delay, delta_t_mode = False)\n",
        "\n",
        "mse_pred = (Y_pred.detach()-Y_test).pow(2).mean()\n",
        "\n",
        "print(f\"MSE On test : {mse_pred:.4f}\")"
      ]
    },
    {
      "cell_type": "code",
      "source": [
        "model.compute_kernel_and_inverse(regu_lambda = regu_lambda).shape\n"
      ],
      "metadata": {
        "id": "kt9tJD2MQVQ_"
      },
      "id": "kt9tJD2MQVQ_",
      "execution_count": null,
      "outputs": []
    },
    {
      "cell_type": "code",
      "source": [
        "model.rho_ratio"
      ],
      "metadata": {
        "id": "iUKkbXww6dRb"
      },
      "id": "iUKkbXww6dRb",
      "execution_count": null,
      "outputs": []
    },
    {
      "cell_type": "code",
      "source": [
        "X_test.shape"
      ],
      "metadata": {
        "id": "Rxerm86IiOHU"
      },
      "id": "Rxerm86IiOHU",
      "execution_count": null,
      "outputs": []
    },
    {
      "cell_type": "code",
      "source": [
        "np.shape(Y_pred)"
      ],
      "metadata": {
        "id": "f0swc4CsdqVH"
      },
      "id": "f0swc4CsdqVH",
      "execution_count": null,
      "outputs": []
    },
    {
      "cell_type": "code",
      "execution_count": null,
      "id": "3e1f12ae",
      "metadata": {
        "id": "3e1f12ae"
      },
      "outputs": [],
      "source": [
        "import matplotlib.pyplot as plt\n",
        "from pylab import rcParams\n",
        "#rcParams['figure.figsize'] = 10.5, 10.5\n",
        "\n",
        "plt.scatter(Y_test[:,0],Y_test[:,1], label = \"True\")\n",
        "plt.scatter(Y_pred[:,0].detach(),Y_pred[:,1].detach(), label = f\"Predicted - horizon {horizon}\")\n",
        "plt.title(\"Reconstructed Attractor of Henon Map\")\n",
        "plt.xlabel(\"x\")\n",
        "plt.ylabel(\"y\")\n",
        "plt.legend()\n",
        "plt.show()"
      ]
    },
    {
      "cell_type": "code",
      "source": [
        "plt.plot(Y_test[:,0])\n",
        "plt.plot(Y_pred[:,0].detach().numpy())\n"
      ],
      "metadata": {
        "id": "y0Rii_tmeGrB"
      },
      "id": "y0Rii_tmeGrB",
      "execution_count": null,
      "outputs": []
    },
    {
      "cell_type": "markdown",
      "id": "4fec92b4",
      "metadata": {
        "id": "4fec92b4"
      },
      "source": [
        "### n steps interval"
      ]
    },
    {
      "cell_type": "code",
      "execution_count": null,
      "id": "c846906b",
      "metadata": {
        "id": "c846906b"
      },
      "outputs": [],
      "source": [
        "n = 2\n",
        "\n",
        "# generate dataset\n",
        "Data = Henon(T=200, dt=0.1,N_sims=1,a=1.4,b=0.3)[0]\n",
        "#train test split\n",
        "observed_data= Data[0::n]\n",
        "train_data = observed_data[:600,:].T\n",
        "test_data = observed_data[600:,:].T\n",
        "#times\n",
        "Times = np.linspace(1,2000-1,2000-1)\n",
        "\n",
        "# Some constants\n",
        "nparameters=24\n",
        "delay = 1\n",
        "regu_lambda = 0.00001\n",
        "\n",
        "# Get scaling factor\n",
        "normalize=np.amax(train_data[:,:])\n",
        "\n",
        "X_train, Y_train = prepare_data_fast(train_data,delay,normalize)\n",
        "X_test, Y_test = prepare_data_fast(test_data,delay,normalize)\n",
        "\n",
        "model = KernelFlows(\"anl3\", nparameters = nparameters, regu_lambda = regu_lambda, dim = 2, metric = \"rho_ratio\", batch_size = 100)\n",
        "\n",
        "model = train_kernel(X_train, Y_train, model, lr = 0.1)"
      ]
    },
    {
      "cell_type": "code",
      "execution_count": null,
      "id": "ab45ee1f",
      "metadata": {
        "id": "ab45ee1f"
      },
      "outputs": [],
      "source": [
        "model.compute_kernel_and_inverse(regu_lambda = regu_lambda)\n",
        "\n",
        "horizon = 3\n",
        "\n",
        "Y_pred = model.predict_ahead(X_test,horizon=horizon, delay = delay, delta_t_mode = False)\n",
        "\n",
        "mse_pred = (Y_pred.detach()-Y_test).pow(2).mean()\n",
        "\n",
        "print(f\"MSE On test : {mse_pred:.4f}\")"
      ]
    },
    {
      "cell_type": "code",
      "execution_count": null,
      "id": "14ce04cc",
      "metadata": {
        "scrolled": true,
        "id": "14ce04cc"
      },
      "outputs": [],
      "source": [
        "import matplotlib.pyplot as plt\n",
        "plt.scatter(Y_pred[:,0].detach(),Y_pred[:,1].detach(), label = \"Predicted\")\n",
        "plt.scatter(Y_test[:,0],Y_test[:,1], label = \"True\")\n",
        "plt.title(\"Reconstructed Attractor of Henon Map\")\n",
        "plt.xlabel(\"x\")\n",
        "plt.ylabel(\"y\")\n",
        "plt.legend()\n",
        "plt.show()"
      ]
    },
    {
      "cell_type": "markdown",
      "id": "2737542f",
      "metadata": {
        "id": "2737542f"
      },
      "source": [
        "# Henon Map with irregular sampling"
      ]
    },
    {
      "cell_type": "markdown",
      "id": "59f33a1d",
      "metadata": {
        "id": "59f33a1d"
      },
      "source": [
        "## Data Generation"
      ]
    },
    {
      "cell_type": "code",
      "execution_count": null,
      "id": "5bc594df",
      "metadata": {
        "id": "5bc594df"
      },
      "outputs": [],
      "source": [
        "max_delay = 4\n",
        "N_points = 1000\n",
        "train_n = 600\n",
        "burnin = 200\n",
        "dt = 0.1\n",
        "\n",
        "delays = np.random.randint(max_delay,size=N_points-1)+1\n",
        "indices = np.concatenate((np.zeros(1),np.cumsum(delays))).astype(int)\n",
        "delays = np.concatenate((delays,np.zeros(1))).astype(int)\n",
        "\n",
        "max_idx = indices[-1]\n",
        "T = np.ceil(max_idx*dt)\n",
        "# generate dataset\n",
        "Data = Henon(T=T+burnin*dt, dt=dt,N_sims=1,a=1.4,b=0.3)[0][burnin:]\n",
        "\n",
        "observed_data = Data[indices]\n",
        "\n",
        "train_data = observed_data[:train_n,:].T\n",
        "test_data = observed_data[train_n:,:].T\n",
        "\n",
        "delays_train = delays[:train_n]\n",
        "delays_test = delays[train_n:]"
      ]
    },
    {
      "cell_type": "code",
      "source": [
        "len(indices[:600])"
      ],
      "metadata": {
        "id": "k_Kr01lwqN89",
        "colab": {
          "base_uri": "https://localhost:8080/"
        },
        "outputId": "98add30c-7819-446e-d923-e11ba2e16ec3"
      },
      "id": "k_Kr01lwqN89",
      "execution_count": null,
      "outputs": [
        {
          "output_type": "execute_result",
          "data": {
            "text/plain": [
              "600"
            ]
          },
          "metadata": {},
          "execution_count": 13
        }
      ]
    },
    {
      "cell_type": "code",
      "source": [
        "import matplotlib.pyplot as plt\n",
        "plt.scatter(train_data[0,:],train_data[1,:],color='darkorange')\n",
        "plt.xlabel('x')\n",
        "plt.ylabel('y')\n",
        "plt.title('Training data of Henon attractor')\n",
        "plt.savefig('henon_train_attractor')"
      ],
      "metadata": {
        "id": "FUgVVifhpSNM",
        "colab": {
          "base_uri": "https://localhost:8080/",
          "height": 472
        },
        "outputId": "bd8aaa01-eadf-4be7-ea9b-93f8574c4f9f"
      },
      "id": "FUgVVifhpSNM",
      "execution_count": null,
      "outputs": [
        {
          "output_type": "display_data",
          "data": {
            "text/plain": [
              "<Figure size 640x480 with 1 Axes>"
            ],
            "image/png": "[encoded data removed]"
          },
          "metadata": {}
        }
      ]
    },
    {
      "cell_type": "code",
      "source": [
        "fig, ax = plt.subplots(2,1)\n",
        "#fig.set_size_inches(10.5, 5.5)\n",
        "ax[0].plot(indices[:600],train_data[0,:],color='darkorange')\n",
        "ax[0].set_ylabel('x')\n",
        "ax[0].set_xlabel('Time')\n",
        "ax[0].set_title(\"First Dimension\")\n",
        "\n",
        "\n",
        "ax[1].plot(indices[:600],train_data[1,:],color='darkorange')\n",
        "ax[1].set_ylabel('y')\n",
        "ax[1].set_xlabel('Time')\n",
        "ax[1].set_title(\"Second Dimension\")\n",
        "fig.tight_layout()\n",
        "plt.savefig('henon_train_ts.png',facecolor='white')\n"
      ],
      "metadata": {
        "id": "Ut8cSFhTpuUY",
        "colab": {
          "base_uri": "https://localhost:8080/",
          "height": 486
        },
        "outputId": "b9c9e9de-56c6-4d97-d91c-f8634459db45"
      },
      "id": "Ut8cSFhTpuUY",
      "execution_count": null,
      "outputs": [
        {
          "output_type": "display_data",
          "data": {
            "text/plain": [
              "<Figure size 640x480 with 2 Axes>"
            ],
            "image/png": "[encoded data removed]"
          },
          "metadata": {}
        }
      ]
    },
    {
      "cell_type": "code",
      "source": [
        "plt.plot(indices[:600],train_data[0,:],color='darkorange')"
      ],
      "metadata": {
        "id": "qtBpyev6qSPf",
        "colab": {
          "base_uri": "https://localhost:8080/",
          "height": 448
        },
        "outputId": "d2f3af38-d444-4200-f2a1-b8fd0c95c675"
      },
      "id": "qtBpyev6qSPf",
      "execution_count": null,
      "outputs": [
        {
          "output_type": "execute_result",
          "data": {
            "text/plain": [
              "[<matplotlib.lines.Line2D at 0x7fcdbbe207c0>]"
            ]
          },
          "metadata": {},
          "execution_count": 16
        },
        {
          "output_type": "display_data",
          "data": {
            "text/plain": [
              "<Figure size 640x480 with 1 Axes>"
            ],
            "image/png": "[encoded data removed]"
          },
          "metadata": {}
        }
      ]
    },
    {
      "cell_type": "markdown",
      "source": [
        "# No learning"
      ],
      "metadata": {
        "id": "KRkf0nlW6dUd"
      },
      "id": "KRkf0nlW6dUd"
    },
    {
      "cell_type": "code",
      "source": [
        "# Some constants\n",
        "nparameters=24\n",
        "delay = 1\n",
        "regu_lambda = 0.00001\n",
        "lr = 0.1\n",
        "\n",
        "# Get scaling factor\n",
        "normalize=np.amax(train_data[:,:])\n",
        "\n",
        "X_train, Y_train = prepare_data_fast(train_data,delay,normalize)\n",
        "X_test, Y_test = prepare_data_fast(test_data,delay,normalize)\n",
        "\n",
        "model = KernelFlows(\"anl3\", nparameters = nparameters, regu_lambda = regu_lambda, dim = 2, metric = \"rho_ratio\", batch_size = 100)\n",
        "\n",
        "model= train_kernel(X_train, Y_train, model, lr = lr,epochs=0)"
      ],
      "metadata": {
        "id": "XuirIvq56fFT",
        "outputId": "c613fb15-e4b6-4f15-b03b-3f5a5f8d265f",
        "colab": {
          "base_uri": "https://localhost:8080/"
        }
      },
      "id": "XuirIvq56fFT",
      "execution_count": null,
      "outputs": [
        {
          "output_type": "stream",
          "name": "stderr",
          "text": [
            "0it [00:00, ?it/s]\n"
          ]
        }
      ]
    },
    {
      "cell_type": "code",
      "source": [
        "Y_train.shape"
      ],
      "metadata": {
        "colab": {
          "base_uri": "https://localhost:8080/"
        },
        "id": "trujB8k-9ItY",
        "outputId": "f24638d6-58ef-4788-ca78-3832733c44fe"
      },
      "id": "trujB8k-9ItY",
      "execution_count": null,
      "outputs": [
        {
          "output_type": "execute_result",
          "data": {
            "text/plain": [
              "(599, 2)"
            ]
          },
          "metadata": {},
          "execution_count": 19
        }
      ]
    },
    {
      "cell_type": "code",
      "source": [
        "sample_indices, batch_indices = batch_creation(X_train.shape[0], batch_size= 100, sample_proportion = 0.05)\n",
        "sample_indices"
      ],
      "metadata": {
        "colab": {
          "base_uri": "https://localhost:8080/"
        },
        "id": "qa4RkBOT9aJP",
        "outputId": "5a0013fc-727b-465d-aa1c-a24e3059451b"
      },
      "id": "qa4RkBOT9aJP",
      "execution_count": null,
      "outputs": [
        {
          "output_type": "execute_result",
          "data": {
            "text/plain": [
              "array([37, 64, 86, 87, 91])"
            ]
          },
          "metadata": {},
          "execution_count": 20
        }
      ]
    },
    {
      "cell_type": "code",
      "source": [
        "Y_data=torch.Tensor(Y_train[batch_indices])"
      ],
      "metadata": {
        "id": "vwinxpa7AUoI"
      },
      "id": "vwinxpa7AUoI",
      "execution_count": null,
      "outputs": []
    },
    {
      "cell_type": "code",
      "source": [
        "Y_data.shape"
      ],
      "metadata": {
        "colab": {
          "base_uri": "https://localhost:8080/"
        },
        "id": "AApG7Jtc2kTK",
        "outputId": "54ef999c-35b7-4965-94a2-c28e0512c904"
      },
      "id": "AApG7Jtc2kTK",
      "execution_count": null,
      "outputs": [
        {
          "output_type": "execute_result",
          "data": {
            "text/plain": [
              "torch.Size([100, 2])"
            ]
          },
          "metadata": {},
          "execution_count": 64
        }
      ]
    },
    {
      "cell_type": "code",
      "source": [
        "matrix_data=torch.Tensor(X_train[batch_indices])"
      ],
      "metadata": {
        "id": "dn4M-dfP9qce"
      },
      "id": "dn4M-dfP9qce",
      "execution_count": null,
      "outputs": []
    },
    {
      "cell_type": "code",
      "source": [
        "kernel_matrix=kernel_anl3(torch.Tensor(matrix_data), torch.Tensor(matrix_data), torch.nn.Parameter(torch.ones(nparameters),requires_grad = True))"
      ],
      "metadata": {
        "id": "gU_Vuner-38y"
      },
      "id": "gU_Vuner-38y",
      "execution_count": null,
      "outputs": []
    },
    {
      "cell_type": "code",
      "source": [
        "kernel_matrix.shape"
      ],
      "metadata": {
        "id": "tulZ5pbF0Gf1",
        "colab": {
          "base_uri": "https://localhost:8080/"
        },
        "outputId": "bc117d8f-5e66-4fac-96f3-acbc171e9d26"
      },
      "id": "tulZ5pbF0Gf1",
      "execution_count": null,
      "outputs": [
        {
          "output_type": "execute_result",
          "data": {
            "text/plain": [
              "torch.Size([100, 100])"
            ]
          },
          "metadata": {},
          "execution_count": 67
        }
      ]
    },
    {
      "cell_type": "code",
      "source": [
        "inverse_data = torch.linalg.inv(kernel_matrix + regu_lambda * torch.eye(kernel_matrix.shape[0], device = matrix_data.device))\n"
      ],
      "metadata": {
        "id": "o9EN9I19_jI0"
      },
      "id": "o9EN9I19_jI0",
      "execution_count": null,
      "outputs": []
    },
    {
      "cell_type": "code",
      "source": [
        "Y_data.shape"
      ],
      "metadata": {
        "colab": {
          "base_uri": "https://localhost:8080/"
        },
        "id": "wxKhQ9kR3o6x",
        "outputId": "a2959fe3-e0be-4c29-c754-5f7dc7ddabdd"
      },
      "id": "wxKhQ9kR3o6x",
      "execution_count": null,
      "outputs": [
        {
          "output_type": "execute_result",
          "data": {
            "text/plain": [
              "torch.Size([200, 1])"
            ]
          },
          "metadata": {},
          "execution_count": 60
        }
      ]
    },
    {
      "cell_type": "code",
      "source": [
        "top = torch.tensordot(Y_data,torch.matmul(inverse_data, torch.Tensor(Y_data)))"
      ],
      "metadata": {
        "id": "JDQErue122E5"
      },
      "id": "JDQErue122E5",
      "execution_count": null,
      "outputs": []
    },
    {
      "cell_type": "code",
      "source": [
        "top"
      ],
      "metadata": {
        "colab": {
          "base_uri": "https://localhost:8080/"
        },
        "id": "FsacuTbR3tXB",
        "outputId": "c8139c7d-dce2-46ec-f468-025c068aceee"
      },
      "id": "FsacuTbR3tXB",
      "execution_count": null,
      "outputs": [
        {
          "output_type": "execute_result",
          "data": {
            "text/plain": [
              "tensor(1602762.2500, grad_fn=<ReshapeAliasBackward0>)"
            ]
          },
          "metadata": {},
          "execution_count": 62
        }
      ]
    },
    {
      "cell_type": "code",
      "source": [
        "top = torch.tensordot(torch.Tensor(Y_train), torch.matmul(inverse_data, torch.Tensor(Y_train)))"
      ],
      "metadata": {
        "id": "SiR4xLnGAoAe"
      },
      "id": "SiR4xLnGAoAe",
      "execution_count": null,
      "outputs": []
    },
    {
      "cell_type": "code",
      "source": [
        "torch.Tensor(Y_train[0:2])"
      ],
      "metadata": {
        "colab": {
          "base_uri": "https://localhost:8080/"
        },
        "id": "tAPgQGA1i_h6",
        "outputId": "c03236fc-6c8c-4be0-fe01-28589753e15d"
      },
      "id": "tAPgQGA1i_h6",
      "execution_count": null,
      "outputs": [
        {
          "output_type": "execute_result",
          "data": {
            "text/plain": [
              "tensor([[ 0.7864,  0.0000],\n",
              "        [-0.3145,  0.2359]])"
            ]
          },
          "metadata": {},
          "execution_count": 21
        }
      ]
    },
    {
      "cell_type": "code",
      "source": [
        " torch.matmul(inverse_data[0:2,0:2], torch.Tensor(Y_train[0:2,0:2]))"
      ],
      "metadata": {
        "colab": {
          "base_uri": "https://localhost:8080/"
        },
        "id": "zKyIeU8Zi3-u",
        "outputId": "8bb11ac1-f14e-4806-dcc2-98746d7d50a0"
      },
      "id": "zKyIeU8Zi3-u",
      "execution_count": null,
      "outputs": [
        {
          "output_type": "execute_result",
          "data": {
            "text/plain": [
              "tensor([[  -3.7552,   -2.4664],\n",
              "        [-766.9913,  477.7235]], grad_fn=<MmBackward0>)"
            ]
          },
          "metadata": {},
          "execution_count": 22
        }
      ]
    },
    {
      "cell_type": "code",
      "source": [
        "top = torch.tensordot(torch.Tensor(Y_train[0:2]), torch.matmul(inverse_data[0:2,0:2], torch.Tensor(Y_train[0:2])))\n",
        "top"
      ],
      "metadata": {
        "colab": {
          "base_uri": "https://localhost:8080/"
        },
        "id": "Nsc2ewr_jMQ9",
        "outputId": "aa9698a2-530e-49cb-f8bb-88b0f0c877a9"
      },
      "id": "Nsc2ewr_jMQ9",
      "execution_count": null,
      "outputs": [
        {
          "output_type": "execute_result",
          "data": {
            "text/plain": [
              "tensor(350.9964, grad_fn=<ReshapeAliasBackward0>)"
            ]
          },
          "metadata": {},
          "execution_count": 23
        }
      ]
    },
    {
      "cell_type": "code",
      "source": [
        "Y_train.shape"
      ],
      "metadata": {
        "id": "C9_mHjlIA_ZF",
        "outputId": "2c7d2347-b3c5-414a-8cd7-4013743cf5ae",
        "colab": {
          "base_uri": "https://localhost:8080/"
        }
      },
      "id": "C9_mHjlIA_ZF",
      "execution_count": null,
      "outputs": [
        {
          "output_type": "execute_result",
          "data": {
            "text/plain": [
              "(596, 2)"
            ]
          },
          "metadata": {},
          "execution_count": 67
        }
      ]
    },
    {
      "cell_type": "code",
      "source": [
        "model.compute_kernel_and_inverse(regu_lambda = regu_lambda)\n",
        "\n",
        "horizon = 1\n",
        "\n",
        "Y_pred = model.predict_ahead(X_test,horizon=horizon, delay = delay, delta_t_mode = False)\n",
        "\n",
        "mse_pred = (Y_pred.detach()-Y_test).pow(2).mean()\n",
        "\n",
        "print(f\"MSE On test : {mse_pred:.4f}\")"
      ],
      "metadata": {
        "id": "DWHiD1FT6ltb",
        "outputId": "da1465fc-3bde-4a3d-e288-a44536d9c28c",
        "colab": {
          "base_uri": "https://localhost:8080/",
          "height": 240
        }
      },
      "id": "DWHiD1FT6ltb",
      "execution_count": null,
      "outputs": [
        {
          "output_type": "error",
          "ename": "AttributeError",
          "evalue": "ignored",
          "traceback": [
            "\u001b[0;31m---------------------------------------------------------------------------\u001b[0m",
            "\u001b[0;31mAttributeError\u001b[0m                            Traceback (most recent call last)",
            "\u001b[0;32m<ipython-input-28-14868da4ad40>\u001b[0m in \u001b[0;36m<cell line: 1>\u001b[0;34m()\u001b[0m\n\u001b[0;32m----> 1\u001b[0;31m \u001b[0mmodel\u001b[0m\u001b[0;34m.\u001b[0m\u001b[0mcompute_kernel_and_inverse\u001b[0m\u001b[0;34m(\u001b[0m\u001b[0mregu_lambda\u001b[0m \u001b[0;34m=\u001b[0m \u001b[0mregu_lambda\u001b[0m\u001b[0;34m)\u001b[0m\u001b[0;34m\u001b[0m\u001b[0;34m\u001b[0m\u001b[0m\n\u001b[0m\u001b[1;32m      2\u001b[0m \u001b[0;34m\u001b[0m\u001b[0m\n\u001b[1;32m      3\u001b[0m \u001b[0mhorizon\u001b[0m \u001b[0;34m=\u001b[0m \u001b[0;36m1\u001b[0m\u001b[0;34m\u001b[0m\u001b[0;34m\u001b[0m\u001b[0m\n\u001b[1;32m      4\u001b[0m \u001b[0;34m\u001b[0m\u001b[0m\n\u001b[1;32m      5\u001b[0m \u001b[0mY_pred\u001b[0m \u001b[0;34m=\u001b[0m \u001b[0mmodel\u001b[0m\u001b[0;34m.\u001b[0m\u001b[0mpredict_ahead\u001b[0m\u001b[0;34m(\u001b[0m\u001b[0mX_test\u001b[0m\u001b[0;34m,\u001b[0m\u001b[0mhorizon\u001b[0m\u001b[0;34m=\u001b[0m\u001b[0mhorizon\u001b[0m\u001b[0;34m,\u001b[0m \u001b[0mdelay\u001b[0m \u001b[0;34m=\u001b[0m \u001b[0mdelay\u001b[0m\u001b[0;34m,\u001b[0m \u001b[0mdelta_t_mode\u001b[0m \u001b[0;34m=\u001b[0m \u001b[0;32mFalse\u001b[0m\u001b[0;34m)\u001b[0m\u001b[0;34m\u001b[0m\u001b[0;34m\u001b[0m\u001b[0m\n",
            "\u001b[0;31mAttributeError\u001b[0m: 'tuple' object has no attribute 'compute_kernel_and_inverse'"
          ]
        }
      ]
    },
    {
      "cell_type": "code",
      "source": [
        "import matplotlib.pyplot as plt\n",
        "\n",
        "plt.scatter(Y_pred[:,0].detach(),Y_pred[:,1].detach(), label = \"Predicted\")\n",
        "plt.scatter(Y_test[:,0],Y_test[:,1], label = \"True\")\n",
        "#plt.rcParams[\"figure.figsize\"] = (10.5,5.5)\n",
        "plt.title(\"Reconstructed Attractor of Henon Map\")\n",
        "plt.xlabel(\"x\")\n",
        "plt.ylabel(\"y\")\n",
        "plt.legend()\n",
        "plt.savefig('henon1.png')\n",
        "plt.show()\n",
        "fig, ax = plt.subplots(2,1)\n",
        "#fig.set_size_inches(10.5, 5.5)\n",
        "ax[0].plot(Y_pred[:,0].detach(),label = \"pred\")\n",
        "ax[0].plot(Y_test[:,0], label = \"test\")\n",
        "ax[0].set_ylabel('x')\n",
        "ax[0].set_xlabel('Time')\n",
        "ax[0].set_title(\"First Dimension\")\n",
        "ax[0].legend(loc = \"upper right\")\n",
        "\n",
        "ax[1].plot(Y_pred[:,1].detach(),label = \"pred\")\n",
        "\n",
        "ax[1].plot(Y_test[:,1], label = \"true\")\n",
        "ax[1].set_ylabel('y')\n",
        "ax[1].set_xlabel('Time')\n",
        "ax[1].set_title(\"Second Dimension\")\n",
        "ax[1].legend(loc = \"upper right\")\n",
        "\n",
        "fig.tight_layout()\n",
        "plt.savefig('henon2.png',facecolor='white')\n",
        "\n"
      ],
      "metadata": {
        "id": "FP5_cZyn6nkE",
        "outputId": "88dba569-e1dc-431d-ef19-e2f3dc51f94a",
        "colab": {
          "base_uri": "https://localhost:8080/",
          "height": 240
        }
      },
      "id": "FP5_cZyn6nkE",
      "execution_count": null,
      "outputs": [
        {
          "output_type": "error",
          "ename": "NameError",
          "evalue": "ignored",
          "traceback": [
            "\u001b[0;31m---------------------------------------------------------------------------\u001b[0m",
            "\u001b[0;31mNameError\u001b[0m                                 Traceback (most recent call last)",
            "\u001b[0;32m<ipython-input-24-f918cbe8dce5>\u001b[0m in \u001b[0;36m<cell line: 3>\u001b[0;34m()\u001b[0m\n\u001b[1;32m      1\u001b[0m \u001b[0;32mimport\u001b[0m \u001b[0mmatplotlib\u001b[0m\u001b[0;34m.\u001b[0m\u001b[0mpyplot\u001b[0m \u001b[0;32mas\u001b[0m \u001b[0mplt\u001b[0m\u001b[0;34m\u001b[0m\u001b[0;34m\u001b[0m\u001b[0m\n\u001b[1;32m      2\u001b[0m \u001b[0;34m\u001b[0m\u001b[0m\n\u001b[0;32m----> 3\u001b[0;31m \u001b[0mplt\u001b[0m\u001b[0;34m.\u001b[0m\u001b[0mscatter\u001b[0m\u001b[0;34m(\u001b[0m\u001b[0mY_pred\u001b[0m\u001b[0;34m[\u001b[0m\u001b[0;34m:\u001b[0m\u001b[0;34m,\u001b[0m\u001b[0;36m0\u001b[0m\u001b[0;34m]\u001b[0m\u001b[0;34m.\u001b[0m\u001b[0mdetach\u001b[0m\u001b[0;34m(\u001b[0m\u001b[0;34m)\u001b[0m\u001b[0;34m,\u001b[0m\u001b[0mY_pred\u001b[0m\u001b[0;34m[\u001b[0m\u001b[0;34m:\u001b[0m\u001b[0;34m,\u001b[0m\u001b[0;36m1\u001b[0m\u001b[0;34m]\u001b[0m\u001b[0;34m.\u001b[0m\u001b[0mdetach\u001b[0m\u001b[0;34m(\u001b[0m\u001b[0;34m)\u001b[0m\u001b[0;34m,\u001b[0m \u001b[0mlabel\u001b[0m \u001b[0;34m=\u001b[0m \u001b[0;34m\"Predicted\"\u001b[0m\u001b[0;34m)\u001b[0m\u001b[0;34m\u001b[0m\u001b[0;34m\u001b[0m\u001b[0m\n\u001b[0m\u001b[1;32m      4\u001b[0m \u001b[0mplt\u001b[0m\u001b[0;34m.\u001b[0m\u001b[0mscatter\u001b[0m\u001b[0;34m(\u001b[0m\u001b[0mY_test\u001b[0m\u001b[0;34m[\u001b[0m\u001b[0;34m:\u001b[0m\u001b[0;34m,\u001b[0m\u001b[0;36m0\u001b[0m\u001b[0;34m]\u001b[0m\u001b[0;34m,\u001b[0m\u001b[0mY_test\u001b[0m\u001b[0;34m[\u001b[0m\u001b[0;34m:\u001b[0m\u001b[0;34m,\u001b[0m\u001b[0;36m1\u001b[0m\u001b[0;34m]\u001b[0m\u001b[0;34m,\u001b[0m \u001b[0mlabel\u001b[0m \u001b[0;34m=\u001b[0m \u001b[0;34m\"True\"\u001b[0m\u001b[0;34m)\u001b[0m\u001b[0;34m\u001b[0m\u001b[0;34m\u001b[0m\u001b[0m\n\u001b[1;32m      5\u001b[0m \u001b[0;31m#plt.rcParams[\"figure.figsize\"] = (10.5,5.5)\u001b[0m\u001b[0;34m\u001b[0m\u001b[0;34m\u001b[0m\u001b[0m\n",
            "\u001b[0;31mNameError\u001b[0m: name 'Y_pred' is not defined"
          ]
        }
      ]
    },
    {
      "cell_type": "markdown",
      "id": "f67c04cc",
      "metadata": {
        "id": "f67c04cc"
      },
      "source": [
        "## Classical Kernel Flow"
      ]
    },
    {
      "cell_type": "code",
      "execution_count": null,
      "id": "bd3199cd",
      "metadata": {
        "id": "bd3199cd",
        "outputId": "bf2cc648-8acd-440f-bf0e-edae66384458",
        "colab": {
          "base_uri": "https://localhost:8080/"
        }
      },
      "outputs": [
        {
          "output_type": "stream",
          "name": "stderr",
          "text": [
            "  2%|▏         | 21/1000 [00:00<00:09, 99.58it/s]"
          ]
        },
        {
          "output_type": "stream",
          "name": "stdout",
          "text": [
            "tensor(0.2953, dtype=torch.float64, grad_fn=<RsubBackward1>)\n",
            "tensor(0.6131, dtype=torch.float64, grad_fn=<RsubBackward1>)\n",
            "tensor(0.5978, dtype=torch.float64, grad_fn=<RsubBackward1>)\n",
            "tensor(0.5311, dtype=torch.float64, grad_fn=<RsubBackward1>)\n",
            "tensor(0.6169, dtype=torch.float64, grad_fn=<RsubBackward1>)\n",
            "tensor(0.5295, dtype=torch.float64, grad_fn=<RsubBackward1>)\n",
            "tensor(0.5345, dtype=torch.float64, grad_fn=<RsubBackward1>)\n",
            "tensor(0.5405, dtype=torch.float64, grad_fn=<RsubBackward1>)\n",
            "tensor(0.6199, dtype=torch.float64, grad_fn=<RsubBackward1>)\n",
            "tensor(0.5403, dtype=torch.float64, grad_fn=<RsubBackward1>)\n",
            "tensor(0.4837, dtype=torch.float64, grad_fn=<RsubBackward1>)\n",
            "tensor(0.5613, dtype=torch.float64, grad_fn=<RsubBackward1>)\n",
            "tensor(0.6122, dtype=torch.float64, grad_fn=<RsubBackward1>)\n",
            "tensor(0.7171, dtype=torch.float64, grad_fn=<RsubBackward1>)\n",
            "tensor(0.6168, dtype=torch.float64, grad_fn=<RsubBackward1>)\n",
            "tensor(0.4304, dtype=torch.float64, grad_fn=<RsubBackward1>)\n",
            "tensor(0.5193, dtype=torch.float64, grad_fn=<RsubBackward1>)\n",
            "tensor(0.5331, dtype=torch.float64, grad_fn=<RsubBackward1>)\n",
            "tensor(0.5812, dtype=torch.float64, grad_fn=<RsubBackward1>)\n",
            "tensor(0.5059, dtype=torch.float64, grad_fn=<RsubBackward1>)\n",
            "tensor(0.5620, dtype=torch.float64, grad_fn=<RsubBackward1>)\n"
          ]
        },
        {
          "output_type": "stream",
          "name": "stderr",
          "text": [
            "\r  3%|▎         | 31/1000 [00:00<00:10, 96.60it/s]"
          ]
        },
        {
          "output_type": "stream",
          "name": "stdout",
          "text": [
            "tensor(0.6398, dtype=torch.float64, grad_fn=<RsubBackward1>)\n",
            "tensor(0.5394, dtype=torch.float64, grad_fn=<RsubBackward1>)\n",
            "tensor(0.5453, dtype=torch.float64, grad_fn=<RsubBackward1>)\n",
            "tensor(0.6105, dtype=torch.float64, grad_fn=<RsubBackward1>)\n",
            "tensor(0.5748, dtype=torch.float64, grad_fn=<RsubBackward1>)\n",
            "tensor(0.6199, dtype=torch.float64, grad_fn=<RsubBackward1>)\n",
            "tensor(0.6601, dtype=torch.float64, grad_fn=<RsubBackward1>)\n",
            "tensor(0.6492, dtype=torch.float64, grad_fn=<RsubBackward1>)\n",
            "tensor(0.6140, dtype=torch.float64, grad_fn=<RsubBackward1>)\n",
            "tensor(0.5482, dtype=torch.float64, grad_fn=<RsubBackward1>)\n",
            "tensor(0.6184, dtype=torch.float64, grad_fn=<RsubBackward1>)\n",
            "tensor(0.4688, dtype=torch.float64, grad_fn=<RsubBackward1>)\n",
            "tensor(0.4876, dtype=torch.float64, grad_fn=<RsubBackward1>)\n",
            "tensor(0.4924, dtype=torch.float64, grad_fn=<RsubBackward1>)\n",
            "tensor(0.6328, dtype=torch.float64, grad_fn=<RsubBackward1>)\n",
            "tensor(0.5416, dtype=torch.float64, grad_fn=<RsubBackward1>)\n",
            "tensor(0.6099, dtype=torch.float64, grad_fn=<RsubBackward1>)\n",
            "tensor(0.5389, dtype=torch.float64, grad_fn=<RsubBackward1>)\n"
          ]
        },
        {
          "output_type": "stream",
          "name": "stderr",
          "text": [
            "  5%|▌         | 50/1000 [00:00<00:12, 78.49it/s]"
          ]
        },
        {
          "output_type": "stream",
          "name": "stdout",
          "text": [
            "tensor(0.5748, dtype=torch.float64, grad_fn=<RsubBackward1>)\n",
            "tensor(0.5746, dtype=torch.float64, grad_fn=<RsubBackward1>)\n",
            "tensor(0.6052, dtype=torch.float64, grad_fn=<RsubBackward1>)\n",
            "tensor(0.5115, dtype=torch.float64, grad_fn=<RsubBackward1>)\n",
            "tensor(0.5482, dtype=torch.float64, grad_fn=<RsubBackward1>)\n",
            "tensor(0.4973, dtype=torch.float64, grad_fn=<RsubBackward1>)\n",
            "tensor(0.5606, dtype=torch.float64, grad_fn=<RsubBackward1>)\n",
            "tensor(0.5243, dtype=torch.float64, grad_fn=<RsubBackward1>)\n",
            "tensor(0.5224, dtype=torch.float64, grad_fn=<RsubBackward1>)\n",
            "tensor(0.6268, dtype=torch.float64, grad_fn=<RsubBackward1>)\n",
            "tensor(0.4487, dtype=torch.float64, grad_fn=<RsubBackward1>)\n",
            "tensor(0.6036, dtype=torch.float64, grad_fn=<RsubBackward1>)\n",
            "tensor(0.4529, dtype=torch.float64, grad_fn=<RsubBackward1>)\n",
            "tensor(0.6913, dtype=torch.float64, grad_fn=<RsubBackward1>)\n"
          ]
        },
        {
          "output_type": "stream",
          "name": "stderr",
          "text": [
            "  7%|▋         | 66/1000 [00:00<00:12, 72.46it/s]"
          ]
        },
        {
          "output_type": "stream",
          "name": "stdout",
          "text": [
            "tensor(0.5547, dtype=torch.float64, grad_fn=<RsubBackward1>)\n",
            "tensor(0.5354, dtype=torch.float64, grad_fn=<RsubBackward1>)\n",
            "tensor(0.6505, dtype=torch.float64, grad_fn=<RsubBackward1>)\n",
            "tensor(0.6406, dtype=torch.float64, grad_fn=<RsubBackward1>)\n",
            "tensor(0.5110, dtype=torch.float64, grad_fn=<RsubBackward1>)\n",
            "tensor(0.5448, dtype=torch.float64, grad_fn=<RsubBackward1>)\n",
            "tensor(0.5420, dtype=torch.float64, grad_fn=<RsubBackward1>)\n",
            "tensor(0.4863, dtype=torch.float64, grad_fn=<RsubBackward1>)\n",
            "tensor(0.6037, dtype=torch.float64, grad_fn=<RsubBackward1>)\n",
            "tensor(0.5589, dtype=torch.float64, grad_fn=<RsubBackward1>)\n",
            "tensor(0.5701, dtype=torch.float64, grad_fn=<RsubBackward1>)\n",
            "tensor(0.5682, dtype=torch.float64, grad_fn=<RsubBackward1>)\n",
            "tensor(0.5886, dtype=torch.float64, grad_fn=<RsubBackward1>)\n",
            "tensor(0.4888, dtype=torch.float64, grad_fn=<RsubBackward1>)\n"
          ]
        },
        {
          "output_type": "stream",
          "name": "stderr",
          "text": [
            "  8%|▊         | 82/1000 [00:01<00:12, 72.47it/s]"
          ]
        },
        {
          "output_type": "stream",
          "name": "stdout",
          "text": [
            "tensor(0.5341, dtype=torch.float64, grad_fn=<RsubBackward1>)\n",
            "tensor(0.5293, dtype=torch.float64, grad_fn=<RsubBackward1>)\n",
            "tensor(0.5649, dtype=torch.float64, grad_fn=<RsubBackward1>)\n",
            "tensor(0.5581, dtype=torch.float64, grad_fn=<RsubBackward1>)\n",
            "tensor(0.5878, dtype=torch.float64, grad_fn=<RsubBackward1>)\n",
            "tensor(0.6016, dtype=torch.float64, grad_fn=<RsubBackward1>)\n",
            "tensor(0.5327, dtype=torch.float64, grad_fn=<RsubBackward1>)\n",
            "tensor(0.6139, dtype=torch.float64, grad_fn=<RsubBackward1>)\n",
            "tensor(0.5902, dtype=torch.float64, grad_fn=<RsubBackward1>)\n",
            "tensor(0.5652, dtype=torch.float64, grad_fn=<RsubBackward1>)\n",
            "tensor(0.5775, dtype=torch.float64, grad_fn=<RsubBackward1>)\n",
            "tensor(0.6292, dtype=torch.float64, grad_fn=<RsubBackward1>)\n",
            "tensor(0.6073, dtype=torch.float64, grad_fn=<RsubBackward1>)\n",
            "tensor(0.4917, dtype=torch.float64, grad_fn=<RsubBackward1>)\n",
            "tensor(0.5032, dtype=torch.float64, grad_fn=<RsubBackward1>)\n"
          ]
        },
        {
          "output_type": "stream",
          "name": "stderr",
          "text": [
            " 10%|▉         | 98/1000 [00:01<00:12, 73.86it/s]"
          ]
        },
        {
          "output_type": "stream",
          "name": "stdout",
          "text": [
            "tensor(0.6028, dtype=torch.float64, grad_fn=<RsubBackward1>)\n",
            "tensor(0.7182, dtype=torch.float64, grad_fn=<RsubBackward1>)\n",
            "tensor(0.5239, dtype=torch.float64, grad_fn=<RsubBackward1>)\n",
            "tensor(0.4773, dtype=torch.float64, grad_fn=<RsubBackward1>)\n",
            "tensor(0.5588, dtype=torch.float64, grad_fn=<RsubBackward1>)\n",
            "tensor(0.5672, dtype=torch.float64, grad_fn=<RsubBackward1>)\n",
            "tensor(0.6309, dtype=torch.float64, grad_fn=<RsubBackward1>)\n",
            "tensor(0.5526, dtype=torch.float64, grad_fn=<RsubBackward1>)\n",
            "tensor(0.4848, dtype=torch.float64, grad_fn=<RsubBackward1>)\n",
            "tensor(0.5897, dtype=torch.float64, grad_fn=<RsubBackward1>)\n",
            "tensor(0.5591, dtype=torch.float64, grad_fn=<RsubBackward1>)\n",
            "tensor(0.5321, dtype=torch.float64, grad_fn=<RsubBackward1>)\n",
            "tensor(0.5433, dtype=torch.float64, grad_fn=<RsubBackward1>)\n",
            "tensor(0.5304, dtype=torch.float64, grad_fn=<RsubBackward1>)\n",
            "tensor(0.5513, dtype=torch.float64, grad_fn=<RsubBackward1>)\n",
            "tensor(0.6226, dtype=torch.float64, grad_fn=<RsubBackward1>)\n"
          ]
        },
        {
          "output_type": "stream",
          "name": "stderr",
          "text": [
            " 11%|█▏        | 114/1000 [00:01<00:11, 74.11it/s]"
          ]
        },
        {
          "output_type": "stream",
          "name": "stdout",
          "text": [
            "tensor(0.4531, dtype=torch.float64, grad_fn=<RsubBackward1>)\n",
            "tensor(0.5418, dtype=torch.float64, grad_fn=<RsubBackward1>)\n",
            "tensor(0.5865, dtype=torch.float64, grad_fn=<RsubBackward1>)\n",
            "tensor(0.6483, dtype=torch.float64, grad_fn=<RsubBackward1>)\n",
            "tensor(0.4406, dtype=torch.float64, grad_fn=<RsubBackward1>)\n",
            "tensor(0.6142, dtype=torch.float64, grad_fn=<RsubBackward1>)\n",
            "tensor(0.5994, dtype=torch.float64, grad_fn=<RsubBackward1>)\n",
            "tensor(0.6168, dtype=torch.float64, grad_fn=<RsubBackward1>)\n",
            "tensor(0.5301, dtype=torch.float64, grad_fn=<RsubBackward1>)\n",
            "tensor(0.5625, dtype=torch.float64, grad_fn=<RsubBackward1>)\n",
            "tensor(0.5700, dtype=torch.float64, grad_fn=<RsubBackward1>)\n",
            "tensor(0.5814, dtype=torch.float64, grad_fn=<RsubBackward1>)\n",
            "tensor(0.6500, dtype=torch.float64, grad_fn=<RsubBackward1>)\n",
            "tensor(0.5943, dtype=torch.float64, grad_fn=<RsubBackward1>)\n",
            "tensor(0.5355, dtype=torch.float64, grad_fn=<RsubBackward1>)\n",
            "tensor(0.5769, dtype=torch.float64, grad_fn=<RsubBackward1>)\n"
          ]
        },
        {
          "output_type": "stream",
          "name": "stderr",
          "text": [
            "\r 12%|█▏        | 122/1000 [00:01<00:12, 71.12it/s]"
          ]
        },
        {
          "output_type": "stream",
          "name": "stdout",
          "text": [
            "tensor(0.6404, dtype=torch.float64, grad_fn=<RsubBackward1>)\n",
            "tensor(0.6043, dtype=torch.float64, grad_fn=<RsubBackward1>)\n",
            "tensor(0.5261, dtype=torch.float64, grad_fn=<RsubBackward1>)\n",
            "tensor(0.6426, dtype=torch.float64, grad_fn=<RsubBackward1>)\n",
            "tensor(0.5909, dtype=torch.float64, grad_fn=<RsubBackward1>)\n",
            "tensor(0.6566, dtype=torch.float64, grad_fn=<RsubBackward1>)\n",
            "tensor(0.5335, dtype=torch.float64, grad_fn=<RsubBackward1>)\n",
            "tensor(0.6153, dtype=torch.float64, grad_fn=<RsubBackward1>)\n",
            "tensor(0.6853, dtype=torch.float64, grad_fn=<RsubBackward1>)\n",
            "tensor(0.5201, dtype=torch.float64, grad_fn=<RsubBackward1>)\n",
            "tensor(0.5578, dtype=torch.float64, grad_fn=<RsubBackward1>)\n",
            "tensor(0.5161, dtype=torch.float64, grad_fn=<RsubBackward1>)\n",
            "tensor(0.5379, dtype=torch.float64, grad_fn=<RsubBackward1>)\n",
            "tensor(0.5296, dtype=torch.float64, grad_fn=<RsubBackward1>)\n",
            "tensor(0.6107, dtype=torch.float64, grad_fn=<RsubBackward1>)\n"
          ]
        },
        {
          "output_type": "stream",
          "name": "stderr",
          "text": [
            " 14%|█▍        | 138/1000 [00:01<00:11, 72.19it/s]"
          ]
        },
        {
          "output_type": "stream",
          "name": "stdout",
          "text": [
            "tensor(0.5516, dtype=torch.float64, grad_fn=<RsubBackward1>)\n",
            "tensor(0.7209, dtype=torch.float64, grad_fn=<RsubBackward1>)\n",
            "tensor(0.5793, dtype=torch.float64, grad_fn=<RsubBackward1>)\n",
            "tensor(0.5732, dtype=torch.float64, grad_fn=<RsubBackward1>)\n",
            "tensor(0.5723, dtype=torch.float64, grad_fn=<RsubBackward1>)\n",
            "tensor(0.5337, dtype=torch.float64, grad_fn=<RsubBackward1>)\n",
            "tensor(0.5684, dtype=torch.float64, grad_fn=<RsubBackward1>)\n",
            "tensor(0.5191, dtype=torch.float64, grad_fn=<RsubBackward1>)\n",
            "tensor(0.6158, dtype=torch.float64, grad_fn=<RsubBackward1>)\n",
            "tensor(0.6238, dtype=torch.float64, grad_fn=<RsubBackward1>)\n",
            "tensor(0.5575, dtype=torch.float64, grad_fn=<RsubBackward1>)\n",
            "tensor(0.6106, dtype=torch.float64, grad_fn=<RsubBackward1>)\n",
            "tensor(0.6566, dtype=torch.float64, grad_fn=<RsubBackward1>)\n",
            "tensor(0.4718, dtype=torch.float64, grad_fn=<RsubBackward1>)\n"
          ]
        },
        {
          "output_type": "stream",
          "name": "stderr",
          "text": [
            " 15%|█▌        | 154/1000 [00:02<00:11, 72.45it/s]"
          ]
        },
        {
          "output_type": "stream",
          "name": "stdout",
          "text": [
            "tensor(0.6473, dtype=torch.float64, grad_fn=<RsubBackward1>)\n",
            "tensor(0.5786, dtype=torch.float64, grad_fn=<RsubBackward1>)\n",
            "tensor(0.6122, dtype=torch.float64, grad_fn=<RsubBackward1>)\n",
            "tensor(0.4667, dtype=torch.float64, grad_fn=<RsubBackward1>)\n",
            "tensor(0.5966, dtype=torch.float64, grad_fn=<RsubBackward1>)\n",
            "tensor(0.4711, dtype=torch.float64, grad_fn=<RsubBackward1>)\n",
            "tensor(0.5575, dtype=torch.float64, grad_fn=<RsubBackward1>)\n",
            "tensor(0.6246, dtype=torch.float64, grad_fn=<RsubBackward1>)\n",
            "tensor(0.5072, dtype=torch.float64, grad_fn=<RsubBackward1>)\n",
            "tensor(0.4783, dtype=torch.float64, grad_fn=<RsubBackward1>)\n",
            "tensor(0.5921, dtype=torch.float64, grad_fn=<RsubBackward1>)\n",
            "tensor(0.6030, dtype=torch.float64, grad_fn=<RsubBackward1>)\n",
            "tensor(0.4991, dtype=torch.float64, grad_fn=<RsubBackward1>)\n",
            "tensor(0.5570, dtype=torch.float64, grad_fn=<RsubBackward1>)\n",
            "tensor(0.5202, dtype=torch.float64, grad_fn=<RsubBackward1>)\n"
          ]
        },
        {
          "output_type": "stream",
          "name": "stderr",
          "text": [
            " 17%|█▋        | 170/1000 [00:02<00:11, 71.84it/s]"
          ]
        },
        {
          "output_type": "stream",
          "name": "stdout",
          "text": [
            "tensor(0.4490, dtype=torch.float64, grad_fn=<RsubBackward1>)\n",
            "tensor(0.6717, dtype=torch.float64, grad_fn=<RsubBackward1>)\n",
            "tensor(0.6747, dtype=torch.float64, grad_fn=<RsubBackward1>)\n",
            "tensor(0.5089, dtype=torch.float64, grad_fn=<RsubBackward1>)\n",
            "tensor(0.7623, dtype=torch.float64, grad_fn=<RsubBackward1>)\n",
            "tensor(0.5371, dtype=torch.float64, grad_fn=<RsubBackward1>)\n",
            "tensor(0.5682, dtype=torch.float64, grad_fn=<RsubBackward1>)\n",
            "tensor(0.6286, dtype=torch.float64, grad_fn=<RsubBackward1>)\n",
            "tensor(0.6183, dtype=torch.float64, grad_fn=<RsubBackward1>)\n",
            "tensor(0.6134, dtype=torch.float64, grad_fn=<RsubBackward1>)\n",
            "tensor(0.4971, dtype=torch.float64, grad_fn=<RsubBackward1>)\n",
            "tensor(0.4873, dtype=torch.float64, grad_fn=<RsubBackward1>)\n",
            "tensor(0.4967, dtype=torch.float64, grad_fn=<RsubBackward1>)\n",
            "tensor(0.5713, dtype=torch.float64, grad_fn=<RsubBackward1>)\n",
            "tensor(0.5929, dtype=torch.float64, grad_fn=<RsubBackward1>)\n",
            "tensor(0.5604, dtype=torch.float64, grad_fn=<RsubBackward1>)\n"
          ]
        },
        {
          "output_type": "stream",
          "name": "stderr",
          "text": [
            " 19%|█▊        | 186/1000 [00:02<00:11, 71.61it/s]"
          ]
        },
        {
          "output_type": "stream",
          "name": "stdout",
          "text": [
            "tensor(0.5541, dtype=torch.float64, grad_fn=<RsubBackward1>)\n",
            "tensor(0.5550, dtype=torch.float64, grad_fn=<RsubBackward1>)\n",
            "tensor(0.7111, dtype=torch.float64, grad_fn=<RsubBackward1>)\n",
            "tensor(0.5805, dtype=torch.float64, grad_fn=<RsubBackward1>)\n",
            "tensor(0.6159, dtype=torch.float64, grad_fn=<RsubBackward1>)\n",
            "tensor(0.6764, dtype=torch.float64, grad_fn=<RsubBackward1>)\n",
            "tensor(0.5856, dtype=torch.float64, grad_fn=<RsubBackward1>)\n",
            "tensor(0.6633, dtype=torch.float64, grad_fn=<RsubBackward1>)\n",
            "tensor(0.5893, dtype=torch.float64, grad_fn=<RsubBackward1>)\n",
            "tensor(0.6096, dtype=torch.float64, grad_fn=<RsubBackward1>)\n",
            "tensor(0.4784, dtype=torch.float64, grad_fn=<RsubBackward1>)\n",
            "tensor(0.5686, dtype=torch.float64, grad_fn=<RsubBackward1>)\n",
            "tensor(0.5413, dtype=torch.float64, grad_fn=<RsubBackward1>)\n",
            "tensor(0.4193, dtype=torch.float64, grad_fn=<RsubBackward1>)\n",
            "tensor(0.5920, dtype=torch.float64, grad_fn=<RsubBackward1>)\n"
          ]
        },
        {
          "output_type": "stream",
          "name": "stderr",
          "text": [
            " 20%|██        | 202/1000 [00:02<00:11, 67.31it/s]"
          ]
        },
        {
          "output_type": "stream",
          "name": "stdout",
          "text": [
            "tensor(0.5997, dtype=torch.float64, grad_fn=<RsubBackward1>)\n",
            "tensor(0.6533, dtype=torch.float64, grad_fn=<RsubBackward1>)\n",
            "tensor(0.5816, dtype=torch.float64, grad_fn=<RsubBackward1>)\n",
            "tensor(0.5331, dtype=torch.float64, grad_fn=<RsubBackward1>)\n",
            "tensor(0.5736, dtype=torch.float64, grad_fn=<RsubBackward1>)\n",
            "tensor(0.6315, dtype=torch.float64, grad_fn=<RsubBackward1>)\n",
            "tensor(0.6259, dtype=torch.float64, grad_fn=<RsubBackward1>)\n",
            "tensor(0.5890, dtype=torch.float64, grad_fn=<RsubBackward1>)\n",
            "tensor(0.5864, dtype=torch.float64, grad_fn=<RsubBackward1>)\n",
            "tensor(0.5916, dtype=torch.float64, grad_fn=<RsubBackward1>)\n",
            "tensor(0.6242, dtype=torch.float64, grad_fn=<RsubBackward1>)\n",
            "tensor(0.5563, dtype=torch.float64, grad_fn=<RsubBackward1>)\n",
            "tensor(0.5554, dtype=torch.float64, grad_fn=<RsubBackward1>)\n"
          ]
        },
        {
          "output_type": "stream",
          "name": "stderr",
          "text": [
            " 22%|██▏       | 216/1000 [00:02<00:11, 66.74it/s]"
          ]
        },
        {
          "output_type": "stream",
          "name": "stdout",
          "text": [
            "tensor(0.6447, dtype=torch.float64, grad_fn=<RsubBackward1>)\n",
            "tensor(0.6229, dtype=torch.float64, grad_fn=<RsubBackward1>)\n",
            "tensor(0.5832, dtype=torch.float64, grad_fn=<RsubBackward1>)\n",
            "tensor(0.5687, dtype=torch.float64, grad_fn=<RsubBackward1>)\n",
            "tensor(0.5623, dtype=torch.float64, grad_fn=<RsubBackward1>)\n",
            "tensor(0.5786, dtype=torch.float64, grad_fn=<RsubBackward1>)\n",
            "tensor(0.6651, dtype=torch.float64, grad_fn=<RsubBackward1>)\n",
            "tensor(0.5807, dtype=torch.float64, grad_fn=<RsubBackward1>)\n",
            "tensor(0.6379, dtype=torch.float64, grad_fn=<RsubBackward1>)\n",
            "tensor(0.6118, dtype=torch.float64, grad_fn=<RsubBackward1>)\n",
            "tensor(0.5234, dtype=torch.float64, grad_fn=<RsubBackward1>)\n",
            "tensor(0.5606, dtype=torch.float64, grad_fn=<RsubBackward1>)\n",
            "tensor(0.5206, dtype=torch.float64, grad_fn=<RsubBackward1>)\n"
          ]
        },
        {
          "output_type": "stream",
          "name": "stderr",
          "text": [
            " 23%|██▎       | 230/1000 [00:03<00:11, 65.43it/s]"
          ]
        },
        {
          "output_type": "stream",
          "name": "stdout",
          "text": [
            "tensor(0.6009, dtype=torch.float64, grad_fn=<RsubBackward1>)\n",
            "tensor(0.5703, dtype=torch.float64, grad_fn=<RsubBackward1>)\n",
            "tensor(0.5149, dtype=torch.float64, grad_fn=<RsubBackward1>)\n",
            "tensor(0.5451, dtype=torch.float64, grad_fn=<RsubBackward1>)\n",
            "tensor(0.6536, dtype=torch.float64, grad_fn=<RsubBackward1>)\n",
            "tensor(0.5529, dtype=torch.float64, grad_fn=<RsubBackward1>)\n",
            "tensor(0.5317, dtype=torch.float64, grad_fn=<RsubBackward1>)\n",
            "tensor(0.6428, dtype=torch.float64, grad_fn=<RsubBackward1>)\n",
            "tensor(0.6641, dtype=torch.float64, grad_fn=<RsubBackward1>)\n",
            "tensor(0.6223, dtype=torch.float64, grad_fn=<RsubBackward1>)\n",
            "tensor(0.5913, dtype=torch.float64, grad_fn=<RsubBackward1>)\n",
            "tensor(0.6365, dtype=torch.float64, grad_fn=<RsubBackward1>)\n",
            "tensor(0.6165, dtype=torch.float64, grad_fn=<RsubBackward1>)\n",
            "tensor(0.5602, dtype=torch.float64, grad_fn=<RsubBackward1>)\n"
          ]
        },
        {
          "output_type": "stream",
          "name": "stderr",
          "text": [
            "\r 24%|██▍       | 238/1000 [00:03<00:11, 66.89it/s]"
          ]
        },
        {
          "output_type": "stream",
          "name": "stdout",
          "text": [
            "tensor(0.5173, dtype=torch.float64, grad_fn=<RsubBackward1>)\n",
            "tensor(0.6601, dtype=torch.float64, grad_fn=<RsubBackward1>)\n",
            "tensor(0.5663, dtype=torch.float64, grad_fn=<RsubBackward1>)\n",
            "tensor(0.5962, dtype=torch.float64, grad_fn=<RsubBackward1>)\n",
            "tensor(0.5445, dtype=torch.float64, grad_fn=<RsubBackward1>)\n",
            "tensor(0.5469, dtype=torch.float64, grad_fn=<RsubBackward1>)\n",
            "tensor(0.4643, dtype=torch.float64, grad_fn=<RsubBackward1>)\n",
            "tensor(0.4854, dtype=torch.float64, grad_fn=<RsubBackward1>)\n",
            "tensor(0.6299, dtype=torch.float64, grad_fn=<RsubBackward1>)\n",
            "tensor(0.6799, dtype=torch.float64, grad_fn=<RsubBackward1>)\n",
            "tensor(0.6307, dtype=torch.float64, grad_fn=<RsubBackward1>)\n",
            "tensor(0.6209, dtype=torch.float64, grad_fn=<RsubBackward1>)\n",
            "tensor(0.6723, dtype=torch.float64, grad_fn=<RsubBackward1>)\n",
            "tensor(0.5293, dtype=torch.float64, grad_fn=<RsubBackward1>)\n",
            "tensor(0.6504, dtype=torch.float64, grad_fn=<RsubBackward1>)\n",
            "tensor(0.5536, dtype=torch.float64, grad_fn=<RsubBackward1>)"
          ]
        },
        {
          "output_type": "stream",
          "name": "stderr",
          "text": [
            " 25%|██▌       | 253/1000 [00:03<00:10, 69.28it/s]"
          ]
        },
        {
          "output_type": "stream",
          "name": "stdout",
          "text": [
            "\n",
            "tensor(0.6951, dtype=torch.float64, grad_fn=<RsubBackward1>)\n",
            "tensor(0.6423, dtype=torch.float64, grad_fn=<RsubBackward1>)\n",
            "tensor(0.5587, dtype=torch.float64, grad_fn=<RsubBackward1>)\n",
            "tensor(0.5805, dtype=torch.float64, grad_fn=<RsubBackward1>)\n",
            "tensor(0.5455, dtype=torch.float64, grad_fn=<RsubBackward1>)\n",
            "tensor(0.5899, dtype=torch.float64, grad_fn=<RsubBackward1>)\n",
            "tensor(0.5568, dtype=torch.float64, grad_fn=<RsubBackward1>)\n",
            "tensor(0.5672, dtype=torch.float64, grad_fn=<RsubBackward1>)\n",
            "tensor(0.5485, dtype=torch.float64, grad_fn=<RsubBackward1>)\n",
            "tensor(0.5648, dtype=torch.float64, grad_fn=<RsubBackward1>)\n",
            "tensor(0.4261, dtype=torch.float64, grad_fn=<RsubBackward1>)\n",
            "tensor(0.5010, dtype=torch.float64, grad_fn=<RsubBackward1>)\n",
            "tensor(0.5008, dtype=torch.float64, grad_fn=<RsubBackward1>)\n"
          ]
        },
        {
          "output_type": "stream",
          "name": "stderr",
          "text": [
            " 27%|██▋       | 268/1000 [00:03<00:10, 70.50it/s]"
          ]
        },
        {
          "output_type": "stream",
          "name": "stdout",
          "text": [
            "tensor(0.5956, dtype=torch.float64, grad_fn=<RsubBackward1>)\n",
            "tensor(0.6760, dtype=torch.float64, grad_fn=<RsubBackward1>)\n",
            "tensor(0.5765, dtype=torch.float64, grad_fn=<RsubBackward1>)\n",
            "tensor(0.6484, dtype=torch.float64, grad_fn=<RsubBackward1>)\n",
            "tensor(0.5199, dtype=torch.float64, grad_fn=<RsubBackward1>)\n",
            "tensor(0.5676, dtype=torch.float64, grad_fn=<RsubBackward1>)\n",
            "tensor(0.5515, dtype=torch.float64, grad_fn=<RsubBackward1>)\n",
            "tensor(0.5591, dtype=torch.float64, grad_fn=<RsubBackward1>)\n",
            "tensor(0.5256, dtype=torch.float64, grad_fn=<RsubBackward1>)\n",
            "tensor(0.4814, dtype=torch.float64, grad_fn=<RsubBackward1>)\n",
            "tensor(0.5839, dtype=torch.float64, grad_fn=<RsubBackward1>)\n",
            "tensor(0.5647, dtype=torch.float64, grad_fn=<RsubBackward1>)\n",
            "tensor(0.5283, dtype=torch.float64, grad_fn=<RsubBackward1>)\n",
            "tensor(0.4508, dtype=torch.float64, grad_fn=<RsubBackward1>)\n",
            "tensor(0.5795, dtype=torch.float64, grad_fn=<RsubBackward1>)\n",
            "tensor(0.5755, dtype=torch.float64, grad_fn=<RsubBackward1>)\n"
          ]
        },
        {
          "output_type": "stream",
          "name": "stderr",
          "text": [
            " 29%|██▊       | 286/1000 [00:03<00:08, 79.66it/s]"
          ]
        },
        {
          "output_type": "stream",
          "name": "stdout",
          "text": [
            "tensor(0.4933, dtype=torch.float64, grad_fn=<RsubBackward1>)\n",
            "tensor(0.6158, dtype=torch.float64, grad_fn=<RsubBackward1>)\n",
            "tensor(0.5958, dtype=torch.float64, grad_fn=<RsubBackward1>)\n",
            "tensor(0.5489, dtype=torch.float64, grad_fn=<RsubBackward1>)\n",
            "tensor(0.6133, dtype=torch.float64, grad_fn=<RsubBackward1>)\n",
            "tensor(0.5453, dtype=torch.float64, grad_fn=<RsubBackward1>)\n",
            "tensor(0.6259, dtype=torch.float64, grad_fn=<RsubBackward1>)\n",
            "tensor(0.5659, dtype=torch.float64, grad_fn=<RsubBackward1>)\n",
            "tensor(0.5618, dtype=torch.float64, grad_fn=<RsubBackward1>)\n",
            "tensor(0.5600, dtype=torch.float64, grad_fn=<RsubBackward1>)\n",
            "tensor(0.5605, dtype=torch.float64, grad_fn=<RsubBackward1>)\n",
            "tensor(0.4945, dtype=torch.float64, grad_fn=<RsubBackward1>)\n",
            "tensor(0.5610, dtype=torch.float64, grad_fn=<RsubBackward1>)\n",
            "tensor(0.4990, dtype=torch.float64, grad_fn=<RsubBackward1>)\n",
            "tensor(0.7213, dtype=torch.float64, grad_fn=<RsubBackward1>)\n",
            "tensor(0.5824, dtype=torch.float64, grad_fn=<RsubBackward1>)\n",
            "tensor(0.4911, dtype=torch.float64, grad_fn=<RsubBackward1>)\n",
            "tensor(0.6006, dtype=torch.float64, grad_fn=<RsubBackward1>)\n",
            "tensor(0.5340, dtype=torch.float64, grad_fn=<RsubBackward1>)\n",
            "tensor(0.5619, dtype=torch.float64, grad_fn=<RsubBackward1>)\n"
          ]
        },
        {
          "output_type": "stream",
          "name": "stderr",
          "text": [
            " 31%|███       | 306/1000 [00:04<00:08, 86.00it/s]"
          ]
        },
        {
          "output_type": "stream",
          "name": "stdout",
          "text": [
            "tensor(0.5496, dtype=torch.float64, grad_fn=<RsubBackward1>)\n",
            "tensor(0.4917, dtype=torch.float64, grad_fn=<RsubBackward1>)\n",
            "tensor(0.5635, dtype=torch.float64, grad_fn=<RsubBackward1>)\n",
            "tensor(0.5752, dtype=torch.float64, grad_fn=<RsubBackward1>)\n",
            "tensor(0.5902, dtype=torch.float64, grad_fn=<RsubBackward1>)\n",
            "tensor(0.6085, dtype=torch.float64, grad_fn=<RsubBackward1>)\n",
            "tensor(0.6137, dtype=torch.float64, grad_fn=<RsubBackward1>)\n",
            "tensor(0.5371, dtype=torch.float64, grad_fn=<RsubBackward1>)\n",
            "tensor(0.5636, dtype=torch.float64, grad_fn=<RsubBackward1>)\n",
            "tensor(0.5384, dtype=torch.float64, grad_fn=<RsubBackward1>)\n",
            "tensor(0.5138, dtype=torch.float64, grad_fn=<RsubBackward1>)\n",
            "tensor(0.5775, dtype=torch.float64, grad_fn=<RsubBackward1>)\n",
            "tensor(0.6096, dtype=torch.float64, grad_fn=<RsubBackward1>)\n",
            "tensor(0.5828, dtype=torch.float64, grad_fn=<RsubBackward1>)\n",
            "tensor(0.5743, dtype=torch.float64, grad_fn=<RsubBackward1>)\n",
            "tensor(0.6277, dtype=torch.float64, grad_fn=<RsubBackward1>)\n",
            "tensor(0.5895, dtype=torch.float64, grad_fn=<RsubBackward1>)\n",
            "tensor(0.4701, dtype=torch.float64, grad_fn=<RsubBackward1>)\n",
            "tensor(0.5650, dtype=torch.float64, grad_fn=<RsubBackward1>)\n"
          ]
        },
        {
          "output_type": "stream",
          "name": "stderr",
          "text": [
            " 33%|███▎      | 327/1000 [00:04<00:07, 91.60it/s]"
          ]
        },
        {
          "output_type": "stream",
          "name": "stdout",
          "text": [
            "tensor(0.5154, dtype=torch.float64, grad_fn=<RsubBackward1>)\n",
            "tensor(0.5679, dtype=torch.float64, grad_fn=<RsubBackward1>)\n",
            "tensor(0.5426, dtype=torch.float64, grad_fn=<RsubBackward1>)\n",
            "tensor(0.5998, dtype=torch.float64, grad_fn=<RsubBackward1>)\n",
            "tensor(0.4915, dtype=torch.float64, grad_fn=<RsubBackward1>)\n",
            "tensor(0.5728, dtype=torch.float64, grad_fn=<RsubBackward1>)\n",
            "tensor(0.4961, dtype=torch.float64, grad_fn=<RsubBackward1>)\n",
            "tensor(0.5924, dtype=torch.float64, grad_fn=<RsubBackward1>)\n",
            "tensor(0.5694, dtype=torch.float64, grad_fn=<RsubBackward1>)\n",
            "tensor(0.6925, dtype=torch.float64, grad_fn=<RsubBackward1>)\n",
            "tensor(0.5253, dtype=torch.float64, grad_fn=<RsubBackward1>)\n",
            "tensor(0.5595, dtype=torch.float64, grad_fn=<RsubBackward1>)\n",
            "tensor(0.6677, dtype=torch.float64, grad_fn=<RsubBackward1>)\n",
            "tensor(0.5534, dtype=torch.float64, grad_fn=<RsubBackward1>)\n",
            "tensor(0.4822, dtype=torch.float64, grad_fn=<RsubBackward1>)\n",
            "tensor(0.6337, dtype=torch.float64, grad_fn=<RsubBackward1>)\n",
            "tensor(0.5017, dtype=torch.float64, grad_fn=<RsubBackward1>)\n",
            "tensor(0.4253, dtype=torch.float64, grad_fn=<RsubBackward1>)\n",
            "tensor(0.5789, dtype=torch.float64, grad_fn=<RsubBackward1>)\n",
            "tensor(0.5715, dtype=torch.float64, grad_fn=<RsubBackward1>)\n",
            "tensor(0.6011, dtype=torch.float64, grad_fn=<RsubBackward1>)\n"
          ]
        },
        {
          "output_type": "stream",
          "name": "stderr",
          "text": [
            " 35%|███▍      | 347/1000 [00:04<00:06, 95.00it/s]"
          ]
        },
        {
          "output_type": "stream",
          "name": "stdout",
          "text": [
            "tensor(0.5813, dtype=torch.float64, grad_fn=<RsubBackward1>)\n",
            "tensor(0.5230, dtype=torch.float64, grad_fn=<RsubBackward1>)\n",
            "tensor(0.4591, dtype=torch.float64, grad_fn=<RsubBackward1>)\n",
            "tensor(0.4551, dtype=torch.float64, grad_fn=<RsubBackward1>)\n",
            "tensor(0.5731, dtype=torch.float64, grad_fn=<RsubBackward1>)\n",
            "tensor(0.5217, dtype=torch.float64, grad_fn=<RsubBackward1>)\n",
            "tensor(0.4944, dtype=torch.float64, grad_fn=<RsubBackward1>)\n",
            "tensor(0.6562, dtype=torch.float64, grad_fn=<RsubBackward1>)\n",
            "tensor(0.5175, dtype=torch.float64, grad_fn=<RsubBackward1>)\n",
            "tensor(0.6151, dtype=torch.float64, grad_fn=<RsubBackward1>)\n",
            "tensor(0.5249, dtype=torch.float64, grad_fn=<RsubBackward1>)\n",
            "tensor(0.4831, dtype=torch.float64, grad_fn=<RsubBackward1>)\n",
            "tensor(0.6252, dtype=torch.float64, grad_fn=<RsubBackward1>)\n",
            "tensor(0.5830, dtype=torch.float64, grad_fn=<RsubBackward1>)\n",
            "tensor(0.5403, dtype=torch.float64, grad_fn=<RsubBackward1>)\n",
            "tensor(0.4946, dtype=torch.float64, grad_fn=<RsubBackward1>)\n",
            "tensor(0.4750, dtype=torch.float64, grad_fn=<RsubBackward1>)\n",
            "tensor(0.5424, dtype=torch.float64, grad_fn=<RsubBackward1>)\n",
            "tensor(0.4614, dtype=torch.float64, grad_fn=<RsubBackward1>)\n",
            "tensor(0.4358, dtype=torch.float64, grad_fn=<RsubBackward1>)\n"
          ]
        },
        {
          "output_type": "stream",
          "name": "stderr",
          "text": [
            " 37%|███▋      | 367/1000 [00:04<00:06, 92.62it/s]"
          ]
        },
        {
          "output_type": "stream",
          "name": "stdout",
          "text": [
            "tensor(0.6002, dtype=torch.float64, grad_fn=<RsubBackward1>)\n",
            "tensor(0.5920, dtype=torch.float64, grad_fn=<RsubBackward1>)\n",
            "tensor(0.5082, dtype=torch.float64, grad_fn=<RsubBackward1>)\n",
            "tensor(0.6347, dtype=torch.float64, grad_fn=<RsubBackward1>)\n",
            "tensor(0.6876, dtype=torch.float64, grad_fn=<RsubBackward1>)\n",
            "tensor(0.6118, dtype=torch.float64, grad_fn=<RsubBackward1>)\n",
            "tensor(0.5293, dtype=torch.float64, grad_fn=<RsubBackward1>)\n",
            "tensor(0.5935, dtype=torch.float64, grad_fn=<RsubBackward1>)\n",
            "tensor(0.4474, dtype=torch.float64, grad_fn=<RsubBackward1>)\n",
            "tensor(0.5314, dtype=torch.float64, grad_fn=<RsubBackward1>)\n",
            "tensor(0.5994, dtype=torch.float64, grad_fn=<RsubBackward1>)\n",
            "tensor(0.5468, dtype=torch.float64, grad_fn=<RsubBackward1>)\n",
            "tensor(0.4685, dtype=torch.float64, grad_fn=<RsubBackward1>)\n",
            "tensor(0.5601, dtype=torch.float64, grad_fn=<RsubBackward1>)\n",
            "tensor(0.5079, dtype=torch.float64, grad_fn=<RsubBackward1>)\n",
            "tensor(0.5129, dtype=torch.float64, grad_fn=<RsubBackward1>)\n",
            "tensor(0.5121, dtype=torch.float64, grad_fn=<RsubBackward1>)\n",
            "tensor(0.5386, dtype=torch.float64, grad_fn=<RsubBackward1>)\n",
            "tensor(0.5093, dtype=torch.float64, grad_fn=<RsubBackward1>)\n"
          ]
        },
        {
          "output_type": "stream",
          "name": "stderr",
          "text": [
            " 39%|███▊      | 387/1000 [00:05<00:06, 90.60it/s]"
          ]
        },
        {
          "output_type": "stream",
          "name": "stdout",
          "text": [
            "tensor(0.5449, dtype=torch.float64, grad_fn=<RsubBackward1>)\n",
            "tensor(0.5428, dtype=torch.float64, grad_fn=<RsubBackward1>)\n",
            "tensor(0.5662, dtype=torch.float64, grad_fn=<RsubBackward1>)\n",
            "tensor(0.5906, dtype=torch.float64, grad_fn=<RsubBackward1>)\n",
            "tensor(0.5793, dtype=torch.float64, grad_fn=<RsubBackward1>)\n",
            "tensor(0.4485, dtype=torch.float64, grad_fn=<RsubBackward1>)\n",
            "tensor(0.5619, dtype=torch.float64, grad_fn=<RsubBackward1>)\n",
            "tensor(0.4522, dtype=torch.float64, grad_fn=<RsubBackward1>)\n",
            "tensor(0.5806, dtype=torch.float64, grad_fn=<RsubBackward1>)\n",
            "tensor(0.6292, dtype=torch.float64, grad_fn=<RsubBackward1>)\n",
            "tensor(0.5827, dtype=torch.float64, grad_fn=<RsubBackward1>)\n",
            "tensor(0.5625, dtype=torch.float64, grad_fn=<RsubBackward1>)\n",
            "tensor(0.5837, dtype=torch.float64, grad_fn=<RsubBackward1>)\n",
            "tensor(0.3143, dtype=torch.float64, grad_fn=<RsubBackward1>)\n",
            "tensor(0.4820, dtype=torch.float64, grad_fn=<RsubBackward1>)\n",
            "tensor(0.5678, dtype=torch.float64, grad_fn=<RsubBackward1>)\n",
            "tensor(0.4870, dtype=torch.float64, grad_fn=<RsubBackward1>)\n",
            "tensor(0.4696, dtype=torch.float64, grad_fn=<RsubBackward1>)\n",
            "tensor(0.5655, dtype=torch.float64, grad_fn=<RsubBackward1>)"
          ]
        },
        {
          "output_type": "stream",
          "name": "stderr",
          "text": [
            " 41%|████      | 407/1000 [00:05<00:06, 92.16it/s]"
          ]
        },
        {
          "output_type": "stream",
          "name": "stdout",
          "text": [
            "\n",
            "tensor(0.5185, dtype=torch.float64, grad_fn=<RsubBackward1>)\n",
            "tensor(0.6599, dtype=torch.float64, grad_fn=<RsubBackward1>)\n",
            "tensor(0.5466, dtype=torch.float64, grad_fn=<RsubBackward1>)\n",
            "tensor(0.6033, dtype=torch.float64, grad_fn=<RsubBackward1>)\n",
            "tensor(0.6743, dtype=torch.float64, grad_fn=<RsubBackward1>)\n",
            "tensor(0.5202, dtype=torch.float64, grad_fn=<RsubBackward1>)\n",
            "tensor(0.6360, dtype=torch.float64, grad_fn=<RsubBackward1>)\n",
            "tensor(0.5768, dtype=torch.float64, grad_fn=<RsubBackward1>)\n",
            "tensor(0.6314, dtype=torch.float64, grad_fn=<RsubBackward1>)\n",
            "tensor(0.5477, dtype=torch.float64, grad_fn=<RsubBackward1>)\n",
            "tensor(0.5965, dtype=torch.float64, grad_fn=<RsubBackward1>)\n",
            "tensor(0.5853, dtype=torch.float64, grad_fn=<RsubBackward1>)\n",
            "tensor(0.5165, dtype=torch.float64, grad_fn=<RsubBackward1>)\n",
            "tensor(0.5489, dtype=torch.float64, grad_fn=<RsubBackward1>)\n",
            "tensor(0.5121, dtype=torch.float64, grad_fn=<RsubBackward1>)\n",
            "tensor(0.5823, dtype=torch.float64, grad_fn=<RsubBackward1>)\n",
            "tensor(0.5312, dtype=torch.float64, grad_fn=<RsubBackward1>)\n",
            "tensor(0.5827, dtype=torch.float64, grad_fn=<RsubBackward1>)\n",
            "tensor(0.5514, dtype=torch.float64, grad_fn=<RsubBackward1>)\n"
          ]
        },
        {
          "output_type": "stream",
          "name": "stderr",
          "text": [
            " 43%|████▎     | 427/1000 [00:05<00:06, 93.40it/s]"
          ]
        },
        {
          "output_type": "stream",
          "name": "stdout",
          "text": [
            "tensor(0.5712, dtype=torch.float64, grad_fn=<RsubBackward1>)\n",
            "tensor(0.5333, dtype=torch.float64, grad_fn=<RsubBackward1>)\n",
            "tensor(0.6372, dtype=torch.float64, grad_fn=<RsubBackward1>)\n",
            "tensor(0.5810, dtype=torch.float64, grad_fn=<RsubBackward1>)\n",
            "tensor(0.5189, dtype=torch.float64, grad_fn=<RsubBackward1>)\n",
            "tensor(0.5655, dtype=torch.float64, grad_fn=<RsubBackward1>)\n",
            "tensor(0.5830, dtype=torch.float64, grad_fn=<RsubBackward1>)\n",
            "tensor(0.5295, dtype=torch.float64, grad_fn=<RsubBackward1>)\n",
            "tensor(0.4448, dtype=torch.float64, grad_fn=<RsubBackward1>)\n",
            "tensor(0.5996, dtype=torch.float64, grad_fn=<RsubBackward1>)\n",
            "tensor(0.6167, dtype=torch.float64, grad_fn=<RsubBackward1>)\n",
            "tensor(0.5958, dtype=torch.float64, grad_fn=<RsubBackward1>)\n",
            "tensor(0.6743, dtype=torch.float64, grad_fn=<RsubBackward1>)\n",
            "tensor(0.6264, dtype=torch.float64, grad_fn=<RsubBackward1>)\n",
            "tensor(0.5739, dtype=torch.float64, grad_fn=<RsubBackward1>)\n",
            "tensor(0.5845, dtype=torch.float64, grad_fn=<RsubBackward1>)\n",
            "tensor(0.5981, dtype=torch.float64, grad_fn=<RsubBackward1>)\n",
            "tensor(0.4515, dtype=torch.float64, grad_fn=<RsubBackward1>)\n",
            "tensor(0.6032, dtype=torch.float64, grad_fn=<RsubBackward1>)\n"
          ]
        },
        {
          "output_type": "stream",
          "name": "stderr",
          "text": [
            " 45%|████▍     | 447/1000 [00:05<00:06, 90.49it/s]"
          ]
        },
        {
          "output_type": "stream",
          "name": "stdout",
          "text": [
            "tensor(0.6205, dtype=torch.float64, grad_fn=<RsubBackward1>)\n",
            "tensor(0.6549, dtype=torch.float64, grad_fn=<RsubBackward1>)\n",
            "tensor(0.6042, dtype=torch.float64, grad_fn=<RsubBackward1>)\n",
            "tensor(0.5380, dtype=torch.float64, grad_fn=<RsubBackward1>)\n",
            "tensor(0.4570, dtype=torch.float64, grad_fn=<RsubBackward1>)\n",
            "tensor(0.5893, dtype=torch.float64, grad_fn=<RsubBackward1>)\n",
            "tensor(0.5448, dtype=torch.float64, grad_fn=<RsubBackward1>)\n",
            "tensor(0.5203, dtype=torch.float64, grad_fn=<RsubBackward1>)\n",
            "tensor(0.6188, dtype=torch.float64, grad_fn=<RsubBackward1>)\n",
            "tensor(0.6421, dtype=torch.float64, grad_fn=<RsubBackward1>)\n",
            "tensor(0.4792, dtype=torch.float64, grad_fn=<RsubBackward1>)\n",
            "tensor(0.5903, dtype=torch.float64, grad_fn=<RsubBackward1>)\n",
            "tensor(0.6452, dtype=torch.float64, grad_fn=<RsubBackward1>)\n",
            "tensor(0.4944, dtype=torch.float64, grad_fn=<RsubBackward1>)\n",
            "tensor(0.5824, dtype=torch.float64, grad_fn=<RsubBackward1>)\n",
            "tensor(0.6285, dtype=torch.float64, grad_fn=<RsubBackward1>)\n",
            "tensor(0.6026, dtype=torch.float64, grad_fn=<RsubBackward1>)\n",
            "tensor(0.6313, dtype=torch.float64, grad_fn=<RsubBackward1>)\n",
            "tensor(0.4462, dtype=torch.float64, grad_fn=<RsubBackward1>)\n"
          ]
        },
        {
          "output_type": "stream",
          "name": "stderr",
          "text": [
            " 47%|████▋     | 466/1000 [00:05<00:06, 86.79it/s]"
          ]
        },
        {
          "output_type": "stream",
          "name": "stdout",
          "text": [
            "tensor(0.5984, dtype=torch.float64, grad_fn=<RsubBackward1>)\n",
            "tensor(0.5669, dtype=torch.float64, grad_fn=<RsubBackward1>)\n",
            "tensor(0.5300, dtype=torch.float64, grad_fn=<RsubBackward1>)\n",
            "tensor(0.5726, dtype=torch.float64, grad_fn=<RsubBackward1>)\n",
            "tensor(0.5290, dtype=torch.float64, grad_fn=<RsubBackward1>)\n",
            "tensor(0.5362, dtype=torch.float64, grad_fn=<RsubBackward1>)\n",
            "tensor(0.6373, dtype=torch.float64, grad_fn=<RsubBackward1>)\n",
            "tensor(0.7084, dtype=torch.float64, grad_fn=<RsubBackward1>)\n",
            "tensor(0.6010, dtype=torch.float64, grad_fn=<RsubBackward1>)\n",
            "tensor(0.5340, dtype=torch.float64, grad_fn=<RsubBackward1>)\n",
            "tensor(0.6550, dtype=torch.float64, grad_fn=<RsubBackward1>)\n",
            "tensor(0.6475, dtype=torch.float64, grad_fn=<RsubBackward1>)\n",
            "tensor(0.4968, dtype=torch.float64, grad_fn=<RsubBackward1>)\n",
            "tensor(0.5942, dtype=torch.float64, grad_fn=<RsubBackward1>)\n",
            "tensor(0.5406, dtype=torch.float64, grad_fn=<RsubBackward1>)\n",
            "tensor(0.4574, dtype=torch.float64, grad_fn=<RsubBackward1>)\n",
            "tensor(0.6350, dtype=torch.float64, grad_fn=<RsubBackward1>)\n",
            "tensor(0.5797, dtype=torch.float64, grad_fn=<RsubBackward1>)\n"
          ]
        },
        {
          "output_type": "stream",
          "name": "stderr",
          "text": [
            " 48%|████▊     | 485/1000 [00:06<00:05, 89.54it/s]"
          ]
        },
        {
          "output_type": "stream",
          "name": "stdout",
          "text": [
            "tensor(0.5044, dtype=torch.float64, grad_fn=<RsubBackward1>)\n",
            "tensor(0.6267, dtype=torch.float64, grad_fn=<RsubBackward1>)\n",
            "tensor(0.6399, dtype=torch.float64, grad_fn=<RsubBackward1>)\n",
            "tensor(0.5651, dtype=torch.float64, grad_fn=<RsubBackward1>)\n",
            "tensor(0.5089, dtype=torch.float64, grad_fn=<RsubBackward1>)\n",
            "tensor(0.5616, dtype=torch.float64, grad_fn=<RsubBackward1>)\n",
            "tensor(0.6275, dtype=torch.float64, grad_fn=<RsubBackward1>)\n",
            "tensor(0.5658, dtype=torch.float64, grad_fn=<RsubBackward1>)\n",
            "tensor(0.5170, dtype=torch.float64, grad_fn=<RsubBackward1>)\n",
            "tensor(0.5358, dtype=torch.float64, grad_fn=<RsubBackward1>)\n",
            "tensor(0.4792, dtype=torch.float64, grad_fn=<RsubBackward1>)\n",
            "tensor(0.6253, dtype=torch.float64, grad_fn=<RsubBackward1>)\n",
            "tensor(0.5604, dtype=torch.float64, grad_fn=<RsubBackward1>)\n",
            "tensor(0.6279, dtype=torch.float64, grad_fn=<RsubBackward1>)\n",
            "tensor(0.5294, dtype=torch.float64, grad_fn=<RsubBackward1>)\n",
            "tensor(0.5863, dtype=torch.float64, grad_fn=<RsubBackward1>)\n",
            "tensor(0.5864, dtype=torch.float64, grad_fn=<RsubBackward1>)\n",
            "tensor(0.5456, dtype=torch.float64, grad_fn=<RsubBackward1>)\n",
            "tensor(0.5166, dtype=torch.float64, grad_fn=<RsubBackward1>)\n"
          ]
        },
        {
          "output_type": "stream",
          "name": "stderr",
          "text": [
            " 50%|█████     | 505/1000 [00:06<00:05, 91.71it/s]"
          ]
        },
        {
          "output_type": "stream",
          "name": "stdout",
          "text": [
            "tensor(0.4755, dtype=torch.float64, grad_fn=<RsubBackward1>)\n",
            "tensor(0.4889, dtype=torch.float64, grad_fn=<RsubBackward1>)\n",
            "tensor(0.6011, dtype=torch.float64, grad_fn=<RsubBackward1>)\n",
            "tensor(0.6045, dtype=torch.float64, grad_fn=<RsubBackward1>)\n",
            "tensor(0.5698, dtype=torch.float64, grad_fn=<RsubBackward1>)\n",
            "tensor(0.5369, dtype=torch.float64, grad_fn=<RsubBackward1>)\n",
            "tensor(0.6188, dtype=torch.float64, grad_fn=<RsubBackward1>)\n",
            "tensor(0.5374, dtype=torch.float64, grad_fn=<RsubBackward1>)\n",
            "tensor(0.5645, dtype=torch.float64, grad_fn=<RsubBackward1>)\n",
            "tensor(0.5929, dtype=torch.float64, grad_fn=<RsubBackward1>)\n",
            "tensor(0.5039, dtype=torch.float64, grad_fn=<RsubBackward1>)\n",
            "tensor(0.5827, dtype=torch.float64, grad_fn=<RsubBackward1>)\n",
            "tensor(0.5811, dtype=torch.float64, grad_fn=<RsubBackward1>)\n",
            "tensor(0.5900, dtype=torch.float64, grad_fn=<RsubBackward1>)\n",
            "tensor(0.5669, dtype=torch.float64, grad_fn=<RsubBackward1>)\n",
            "tensor(0.6267, dtype=torch.float64, grad_fn=<RsubBackward1>)\n",
            "tensor(0.5950, dtype=torch.float64, grad_fn=<RsubBackward1>)\n",
            "tensor(0.5981, dtype=torch.float64, grad_fn=<RsubBackward1>)\n",
            "tensor(0.6506, dtype=torch.float64, grad_fn=<RsubBackward1>)\n"
          ]
        },
        {
          "output_type": "stream",
          "name": "stderr",
          "text": [
            " 52%|█████▎    | 525/1000 [00:06<00:05, 92.60it/s]"
          ]
        },
        {
          "output_type": "stream",
          "name": "stdout",
          "text": [
            "tensor(0.5524, dtype=torch.float64, grad_fn=<RsubBackward1>)\n",
            "tensor(0.5792, dtype=torch.float64, grad_fn=<RsubBackward1>)\n",
            "tensor(0.4939, dtype=torch.float64, grad_fn=<RsubBackward1>)\n",
            "tensor(0.5482, dtype=torch.float64, grad_fn=<RsubBackward1>)\n",
            "tensor(0.5660, dtype=torch.float64, grad_fn=<RsubBackward1>)\n",
            "tensor(0.5515, dtype=torch.float64, grad_fn=<RsubBackward1>)\n",
            "tensor(0.6192, dtype=torch.float64, grad_fn=<RsubBackward1>)\n",
            "tensor(0.4752, dtype=torch.float64, grad_fn=<RsubBackward1>)\n",
            "tensor(0.6703, dtype=torch.float64, grad_fn=<RsubBackward1>)\n",
            "tensor(0.6545, dtype=torch.float64, grad_fn=<RsubBackward1>)\n",
            "tensor(0.5118, dtype=torch.float64, grad_fn=<RsubBackward1>)\n",
            "tensor(0.6077, dtype=torch.float64, grad_fn=<RsubBackward1>)\n",
            "tensor(0.6200, dtype=torch.float64, grad_fn=<RsubBackward1>)\n",
            "tensor(0.4967, dtype=torch.float64, grad_fn=<RsubBackward1>)\n",
            "tensor(0.5674, dtype=torch.float64, grad_fn=<RsubBackward1>)\n",
            "tensor(0.5627, dtype=torch.float64, grad_fn=<RsubBackward1>)\n",
            "tensor(0.5886, dtype=torch.float64, grad_fn=<RsubBackward1>)\n",
            "tensor(0.4978, dtype=torch.float64, grad_fn=<RsubBackward1>)\n",
            "tensor(0.5900, dtype=torch.float64, grad_fn=<RsubBackward1>)\n"
          ]
        },
        {
          "output_type": "stream",
          "name": "stderr",
          "text": [
            "\r 54%|█████▎    | 535/1000 [00:06<00:08, 52.77it/s]"
          ]
        },
        {
          "output_type": "stream",
          "name": "stdout",
          "text": [
            "tensor(0.5938, dtype=torch.float64, grad_fn=<RsubBackward1>)\n",
            "tensor(0.5276, dtype=torch.float64, grad_fn=<RsubBackward1>)\n",
            "tensor(0.5716, dtype=torch.float64, grad_fn=<RsubBackward1>)\n",
            "tensor(0.3712, dtype=torch.float64, grad_fn=<RsubBackward1>)\n",
            "tensor(0.5142, dtype=torch.float64, grad_fn=<RsubBackward1>)\n",
            "tensor(0.5182, dtype=torch.float64, grad_fn=<RsubBackward1>)\n",
            "tensor(0.6177, dtype=torch.float64, grad_fn=<RsubBackward1>)\n",
            "tensor(0.4551, dtype=torch.float64, grad_fn=<RsubBackward1>)\n",
            "tensor(0.4635, dtype=torch.float64, grad_fn=<RsubBackward1>)\n",
            "tensor(0.6810, dtype=torch.float64, grad_fn=<RsubBackward1>)\n",
            "tensor(0.5390, dtype=torch.float64, grad_fn=<RsubBackward1>)\n",
            "tensor(0.6066, dtype=torch.float64, grad_fn=<RsubBackward1>)\n",
            "tensor(0.5412, dtype=torch.float64, grad_fn=<RsubBackward1>)\n",
            "tensor(0.5097, dtype=torch.float64, grad_fn=<RsubBackward1>)\n",
            "tensor(0.5051, dtype=torch.float64, grad_fn=<RsubBackward1>)\n",
            "tensor(0.5489, dtype=torch.float64, grad_fn=<RsubBackward1>)\n",
            "tensor(0.6382, dtype=torch.float64, grad_fn=<RsubBackward1>)\n",
            "tensor(0.6339, dtype=torch.float64, grad_fn=<RsubBackward1>)\n",
            "tensor(0.5622, dtype=torch.float64, grad_fn=<RsubBackward1>)\n"
          ]
        },
        {
          "output_type": "stream",
          "name": "stderr",
          "text": [
            " 55%|█████▌    | 554/1000 [00:07<00:06, 65.78it/s]"
          ]
        },
        {
          "output_type": "stream",
          "name": "stdout",
          "text": [
            "tensor(0.5864, dtype=torch.float64, grad_fn=<RsubBackward1>)\n",
            "tensor(0.5227, dtype=torch.float64, grad_fn=<RsubBackward1>)\n",
            "tensor(0.5639, dtype=torch.float64, grad_fn=<RsubBackward1>)\n",
            "tensor(0.5404, dtype=torch.float64, grad_fn=<RsubBackward1>)\n",
            "tensor(0.6977, dtype=torch.float64, grad_fn=<RsubBackward1>)\n",
            "tensor(0.6178, dtype=torch.float64, grad_fn=<RsubBackward1>)\n",
            "tensor(0.5373, dtype=torch.float64, grad_fn=<RsubBackward1>)\n",
            "tensor(0.6587, dtype=torch.float64, grad_fn=<RsubBackward1>)\n",
            "tensor(0.6302, dtype=torch.float64, grad_fn=<RsubBackward1>)\n",
            "tensor(0.5523, dtype=torch.float64, grad_fn=<RsubBackward1>)\n",
            "tensor(0.4985, dtype=torch.float64, grad_fn=<RsubBackward1>)\n",
            "tensor(0.6888, dtype=torch.float64, grad_fn=<RsubBackward1>)\n",
            "tensor(0.5911, dtype=torch.float64, grad_fn=<RsubBackward1>)\n",
            "tensor(0.5788, dtype=torch.float64, grad_fn=<RsubBackward1>)\n",
            "tensor(0.5725, dtype=torch.float64, grad_fn=<RsubBackward1>)\n",
            "tensor(0.5532, dtype=torch.float64, grad_fn=<RsubBackward1>)\n",
            "tensor(0.6267, dtype=torch.float64, grad_fn=<RsubBackward1>)\n",
            "tensor(0.5211, dtype=torch.float64, grad_fn=<RsubBackward1>)\n"
          ]
        },
        {
          "output_type": "stream",
          "name": "stderr",
          "text": [
            " 57%|█████▋    | 573/1000 [00:07<00:05, 75.23it/s]"
          ]
        },
        {
          "output_type": "stream",
          "name": "stdout",
          "text": [
            "tensor(0.5893, dtype=torch.float64, grad_fn=<RsubBackward1>)\n",
            "tensor(0.5530, dtype=torch.float64, grad_fn=<RsubBackward1>)\n",
            "tensor(0.5551, dtype=torch.float64, grad_fn=<RsubBackward1>)\n",
            "tensor(0.5987, dtype=torch.float64, grad_fn=<RsubBackward1>)\n",
            "tensor(0.6377, dtype=torch.float64, grad_fn=<RsubBackward1>)\n",
            "tensor(0.5380, dtype=torch.float64, grad_fn=<RsubBackward1>)\n",
            "tensor(0.6168, dtype=torch.float64, grad_fn=<RsubBackward1>)\n",
            "tensor(0.4801, dtype=torch.float64, grad_fn=<RsubBackward1>)\n",
            "tensor(0.5735, dtype=torch.float64, grad_fn=<RsubBackward1>)\n",
            "tensor(0.6945, dtype=torch.float64, grad_fn=<RsubBackward1>)\n",
            "tensor(0.4548, dtype=torch.float64, grad_fn=<RsubBackward1>)\n",
            "tensor(0.4689, dtype=torch.float64, grad_fn=<RsubBackward1>)\n",
            "tensor(0.4750, dtype=torch.float64, grad_fn=<RsubBackward1>)\n",
            "tensor(0.6404, dtype=torch.float64, grad_fn=<RsubBackward1>)\n",
            "tensor(0.5529, dtype=torch.float64, grad_fn=<RsubBackward1>)\n",
            "tensor(0.7751, dtype=torch.float64, grad_fn=<RsubBackward1>)\n",
            "tensor(0.6326, dtype=torch.float64, grad_fn=<RsubBackward1>)\n",
            "tensor(0.6162, dtype=torch.float64, grad_fn=<RsubBackward1>)\n",
            "tensor(0.6796, dtype=torch.float64, grad_fn=<RsubBackward1>)\n"
          ]
        },
        {
          "output_type": "stream",
          "name": "stderr",
          "text": [
            " 59%|█████▉    | 593/1000 [00:07<00:04, 84.63it/s]"
          ]
        },
        {
          "output_type": "stream",
          "name": "stdout",
          "text": [
            "tensor(0.5942, dtype=torch.float64, grad_fn=<RsubBackward1>)\n",
            "tensor(0.6729, dtype=torch.float64, grad_fn=<RsubBackward1>)\n",
            "tensor(0.5751, dtype=torch.float64, grad_fn=<RsubBackward1>)\n",
            "tensor(0.6295, dtype=torch.float64, grad_fn=<RsubBackward1>)\n",
            "tensor(0.5258, dtype=torch.float64, grad_fn=<RsubBackward1>)\n",
            "tensor(0.6029, dtype=torch.float64, grad_fn=<RsubBackward1>)\n",
            "tensor(0.6410, dtype=torch.float64, grad_fn=<RsubBackward1>)\n",
            "tensor(0.4670, dtype=torch.float64, grad_fn=<RsubBackward1>)\n",
            "tensor(0.6168, dtype=torch.float64, grad_fn=<RsubBackward1>)\n",
            "tensor(0.5562, dtype=torch.float64, grad_fn=<RsubBackward1>)\n",
            "tensor(0.5217, dtype=torch.float64, grad_fn=<RsubBackward1>)\n",
            "tensor(0.6202, dtype=torch.float64, grad_fn=<RsubBackward1>)\n",
            "tensor(0.5670, dtype=torch.float64, grad_fn=<RsubBackward1>)\n",
            "tensor(0.6499, dtype=torch.float64, grad_fn=<RsubBackward1>)\n",
            "tensor(0.6152, dtype=torch.float64, grad_fn=<RsubBackward1>)\n",
            "tensor(0.5320, dtype=torch.float64, grad_fn=<RsubBackward1>)\n",
            "tensor(0.6115, dtype=torch.float64, grad_fn=<RsubBackward1>)\n",
            "tensor(0.5913, dtype=torch.float64, grad_fn=<RsubBackward1>)\n",
            "tensor(0.5389, dtype=torch.float64, grad_fn=<RsubBackward1>)\n",
            "tensor(0.5675, dtype=torch.float64, grad_fn=<RsubBackward1>)\n"
          ]
        },
        {
          "output_type": "stream",
          "name": "stderr",
          "text": [
            " 61%|██████▏   | 613/1000 [00:07<00:04, 88.30it/s]"
          ]
        },
        {
          "output_type": "stream",
          "name": "stdout",
          "text": [
            "tensor(0.5883, dtype=torch.float64, grad_fn=<RsubBackward1>)\n",
            "tensor(0.5143, dtype=torch.float64, grad_fn=<RsubBackward1>)\n",
            "tensor(0.6288, dtype=torch.float64, grad_fn=<RsubBackward1>)\n",
            "tensor(0.6031, dtype=torch.float64, grad_fn=<RsubBackward1>)\n",
            "tensor(0.6764, dtype=torch.float64, grad_fn=<RsubBackward1>)\n",
            "tensor(0.6245, dtype=torch.float64, grad_fn=<RsubBackward1>)\n",
            "tensor(0.6457, dtype=torch.float64, grad_fn=<RsubBackward1>)\n",
            "tensor(0.6413, dtype=torch.float64, grad_fn=<RsubBackward1>)\n",
            "tensor(0.6702, dtype=torch.float64, grad_fn=<RsubBackward1>)\n",
            "tensor(0.5562, dtype=torch.float64, grad_fn=<RsubBackward1>)\n",
            "tensor(0.6259, dtype=torch.float64, grad_fn=<RsubBackward1>)\n",
            "tensor(0.5745, dtype=torch.float64, grad_fn=<RsubBackward1>)\n",
            "tensor(0.6393, dtype=torch.float64, grad_fn=<RsubBackward1>)\n",
            "tensor(0.5363, dtype=torch.float64, grad_fn=<RsubBackward1>)\n",
            "tensor(0.5811, dtype=torch.float64, grad_fn=<RsubBackward1>)\n",
            "tensor(0.6362, dtype=torch.float64, grad_fn=<RsubBackward1>)\n",
            "tensor(0.6256, dtype=torch.float64, grad_fn=<RsubBackward1>)\n",
            "tensor(0.4994, dtype=torch.float64, grad_fn=<RsubBackward1>)\n",
            "tensor(0.5310, dtype=torch.float64, grad_fn=<RsubBackward1>)\n"
          ]
        },
        {
          "output_type": "stream",
          "name": "stderr",
          "text": [
            " 63%|██████▎   | 633/1000 [00:07<00:04, 90.01it/s]"
          ]
        },
        {
          "output_type": "stream",
          "name": "stdout",
          "text": [
            "tensor(0.5609, dtype=torch.float64, grad_fn=<RsubBackward1>)\n",
            "tensor(0.6634, dtype=torch.float64, grad_fn=<RsubBackward1>)\n",
            "tensor(0.6652, dtype=torch.float64, grad_fn=<RsubBackward1>)\n",
            "tensor(0.6202, dtype=torch.float64, grad_fn=<RsubBackward1>)\n",
            "tensor(0.5292, dtype=torch.float64, grad_fn=<RsubBackward1>)\n",
            "tensor(0.6454, dtype=torch.float64, grad_fn=<RsubBackward1>)\n",
            "tensor(0.5872, dtype=torch.float64, grad_fn=<RsubBackward1>)\n",
            "tensor(0.5915, dtype=torch.float64, grad_fn=<RsubBackward1>)\n",
            "tensor(0.5957, dtype=torch.float64, grad_fn=<RsubBackward1>)\n",
            "tensor(0.6192, dtype=torch.float64, grad_fn=<RsubBackward1>)\n",
            "tensor(0.6400, dtype=torch.float64, grad_fn=<RsubBackward1>)\n",
            "tensor(0.6112, dtype=torch.float64, grad_fn=<RsubBackward1>)\n",
            "tensor(0.5305, dtype=torch.float64, grad_fn=<RsubBackward1>)\n",
            "tensor(0.6518, dtype=torch.float64, grad_fn=<RsubBackward1>)\n",
            "tensor(0.6741, dtype=torch.float64, grad_fn=<RsubBackward1>)\n",
            "tensor(0.5193, dtype=torch.float64, grad_fn=<RsubBackward1>)\n",
            "tensor(0.5416, dtype=torch.float64, grad_fn=<RsubBackward1>)\n",
            "tensor(0.5168, dtype=torch.float64, grad_fn=<RsubBackward1>)\n",
            "tensor(0.5484, dtype=torch.float64, grad_fn=<RsubBackward1>)\n"
          ]
        },
        {
          "output_type": "stream",
          "name": "stderr",
          "text": [
            " 65%|██████▌   | 653/1000 [00:08<00:03, 90.00it/s]"
          ]
        },
        {
          "output_type": "stream",
          "name": "stdout",
          "text": [
            "tensor(0.5430, dtype=torch.float64, grad_fn=<RsubBackward1>)\n",
            "tensor(0.4902, dtype=torch.float64, grad_fn=<RsubBackward1>)\n",
            "tensor(0.6365, dtype=torch.float64, grad_fn=<RsubBackward1>)\n",
            "tensor(0.6577, dtype=torch.float64, grad_fn=<RsubBackward1>)\n",
            "tensor(0.5261, dtype=torch.float64, grad_fn=<RsubBackward1>)\n",
            "tensor(0.5850, dtype=torch.float64, grad_fn=<RsubBackward1>)\n",
            "tensor(0.5606, dtype=torch.float64, grad_fn=<RsubBackward1>)\n",
            "tensor(0.6072, dtype=torch.float64, grad_fn=<RsubBackward1>)\n",
            "tensor(0.5501, dtype=torch.float64, grad_fn=<RsubBackward1>)\n",
            "tensor(0.4820, dtype=torch.float64, grad_fn=<RsubBackward1>)\n",
            "tensor(0.4997, dtype=torch.float64, grad_fn=<RsubBackward1>)\n",
            "tensor(0.6797, dtype=torch.float64, grad_fn=<RsubBackward1>)\n",
            "tensor(0.6245, dtype=torch.float64, grad_fn=<RsubBackward1>)\n",
            "tensor(0.6305, dtype=torch.float64, grad_fn=<RsubBackward1>)\n",
            "tensor(0.6759, dtype=torch.float64, grad_fn=<RsubBackward1>)\n",
            "tensor(0.6970, dtype=torch.float64, grad_fn=<RsubBackward1>)\n",
            "tensor(0.6041, dtype=torch.float64, grad_fn=<RsubBackward1>)\n",
            "tensor(0.5983, dtype=torch.float64, grad_fn=<RsubBackward1>)\n",
            "tensor(0.6421, dtype=torch.float64, grad_fn=<RsubBackward1>)\n",
            "tensor(0.5838, dtype=torch.float64, grad_fn=<RsubBackward1>)\n"
          ]
        },
        {
          "output_type": "stream",
          "name": "stderr",
          "text": [
            " 67%|██████▋   | 673/1000 [00:08<00:03, 92.25it/s]"
          ]
        },
        {
          "output_type": "stream",
          "name": "stdout",
          "text": [
            "tensor(0.5130, dtype=torch.float64, grad_fn=<RsubBackward1>)\n",
            "tensor(0.5462, dtype=torch.float64, grad_fn=<RsubBackward1>)\n",
            "tensor(0.5627, dtype=torch.float64, grad_fn=<RsubBackward1>)\n",
            "tensor(0.6412, dtype=torch.float64, grad_fn=<RsubBackward1>)\n",
            "tensor(0.5646, dtype=torch.float64, grad_fn=<RsubBackward1>)\n",
            "tensor(0.5642, dtype=torch.float64, grad_fn=<RsubBackward1>)\n",
            "tensor(0.6622, dtype=torch.float64, grad_fn=<RsubBackward1>)\n",
            "tensor(0.5431, dtype=torch.float64, grad_fn=<RsubBackward1>)\n",
            "tensor(0.5103, dtype=torch.float64, grad_fn=<RsubBackward1>)\n",
            "tensor(0.6899, dtype=torch.float64, grad_fn=<RsubBackward1>)\n",
            "tensor(0.4880, dtype=torch.float64, grad_fn=<RsubBackward1>)\n",
            "tensor(0.5379, dtype=torch.float64, grad_fn=<RsubBackward1>)\n",
            "tensor(0.6205, dtype=torch.float64, grad_fn=<RsubBackward1>)\n",
            "tensor(0.6622, dtype=torch.float64, grad_fn=<RsubBackward1>)\n",
            "tensor(0.6331, dtype=torch.float64, grad_fn=<RsubBackward1>)\n",
            "tensor(0.6429, dtype=torch.float64, grad_fn=<RsubBackward1>)\n",
            "tensor(0.6384, dtype=torch.float64, grad_fn=<RsubBackward1>)\n",
            "tensor(0.6967, dtype=torch.float64, grad_fn=<RsubBackward1>)\n",
            "tensor(0.7389, dtype=torch.float64, grad_fn=<RsubBackward1>)\n",
            "tensor(0.5440, dtype=torch.float64, grad_fn=<RsubBackward1>)\n"
          ]
        },
        {
          "output_type": "stream",
          "name": "stderr",
          "text": [
            " 69%|██████▉   | 693/1000 [00:08<00:03, 91.71it/s]"
          ]
        },
        {
          "output_type": "stream",
          "name": "stdout",
          "text": [
            "tensor(0.6703, dtype=torch.float64, grad_fn=<RsubBackward1>)\n",
            "tensor(0.6261, dtype=torch.float64, grad_fn=<RsubBackward1>)\n",
            "tensor(0.5467, dtype=torch.float64, grad_fn=<RsubBackward1>)\n",
            "tensor(0.6183, dtype=torch.float64, grad_fn=<RsubBackward1>)\n",
            "tensor(0.4659, dtype=torch.float64, grad_fn=<RsubBackward1>)\n",
            "tensor(0.5428, dtype=torch.float64, grad_fn=<RsubBackward1>)\n",
            "tensor(0.5437, dtype=torch.float64, grad_fn=<RsubBackward1>)\n",
            "tensor(0.5615, dtype=torch.float64, grad_fn=<RsubBackward1>)\n",
            "tensor(0.6473, dtype=torch.float64, grad_fn=<RsubBackward1>)\n",
            "tensor(0.6275, dtype=torch.float64, grad_fn=<RsubBackward1>)\n",
            "tensor(0.5557, dtype=torch.float64, grad_fn=<RsubBackward1>)\n",
            "tensor(0.6381, dtype=torch.float64, grad_fn=<RsubBackward1>)\n",
            "tensor(0.7234, dtype=torch.float64, grad_fn=<RsubBackward1>)\n",
            "tensor(0.5376, dtype=torch.float64, grad_fn=<RsubBackward1>)\n",
            "tensor(0.5850, dtype=torch.float64, grad_fn=<RsubBackward1>)\n",
            "tensor(0.5601, dtype=torch.float64, grad_fn=<RsubBackward1>)\n",
            "tensor(0.5701, dtype=torch.float64, grad_fn=<RsubBackward1>)\n",
            "tensor(0.5787, dtype=torch.float64, grad_fn=<RsubBackward1>)\n",
            "tensor(0.5820, dtype=torch.float64, grad_fn=<RsubBackward1>)\n"
          ]
        },
        {
          "output_type": "stream",
          "name": "stderr",
          "text": [
            " 71%|███████▏  | 713/1000 [00:08<00:03, 90.54it/s]"
          ]
        },
        {
          "output_type": "stream",
          "name": "stdout",
          "text": [
            "tensor(0.6257, dtype=torch.float64, grad_fn=<RsubBackward1>)\n",
            "tensor(0.6053, dtype=torch.float64, grad_fn=<RsubBackward1>)\n",
            "tensor(0.5250, dtype=torch.float64, grad_fn=<RsubBackward1>)\n",
            "tensor(0.5585, dtype=torch.float64, grad_fn=<RsubBackward1>)\n",
            "tensor(0.4860, dtype=torch.float64, grad_fn=<RsubBackward1>)\n",
            "tensor(0.5654, dtype=torch.float64, grad_fn=<RsubBackward1>)\n",
            "tensor(0.5931, dtype=torch.float64, grad_fn=<RsubBackward1>)\n",
            "tensor(0.5436, dtype=torch.float64, grad_fn=<RsubBackward1>)\n",
            "tensor(0.6703, dtype=torch.float64, grad_fn=<RsubBackward1>)\n",
            "tensor(0.6566, dtype=torch.float64, grad_fn=<RsubBackward1>)\n",
            "tensor(0.5539, dtype=torch.float64, grad_fn=<RsubBackward1>)\n",
            "tensor(0.5244, dtype=torch.float64, grad_fn=<RsubBackward1>)\n",
            "tensor(0.6160, dtype=torch.float64, grad_fn=<RsubBackward1>)\n",
            "tensor(0.5377, dtype=torch.float64, grad_fn=<RsubBackward1>)\n",
            "tensor(0.5801, dtype=torch.float64, grad_fn=<RsubBackward1>)\n",
            "tensor(0.5573, dtype=torch.float64, grad_fn=<RsubBackward1>)\n",
            "tensor(0.6638, dtype=torch.float64, grad_fn=<RsubBackward1>)\n",
            "tensor(0.5540, dtype=torch.float64, grad_fn=<RsubBackward1>)\n"
          ]
        },
        {
          "output_type": "stream",
          "name": "stderr",
          "text": [
            " 73%|███████▎  | 733/1000 [00:09<00:02, 89.27it/s]"
          ]
        },
        {
          "output_type": "stream",
          "name": "stdout",
          "text": [
            "tensor(0.5644, dtype=torch.float64, grad_fn=<RsubBackward1>)\n",
            "tensor(0.6157, dtype=torch.float64, grad_fn=<RsubBackward1>)\n",
            "tensor(0.5772, dtype=torch.float64, grad_fn=<RsubBackward1>)\n",
            "tensor(0.5202, dtype=torch.float64, grad_fn=<RsubBackward1>)\n",
            "tensor(0.5202, dtype=torch.float64, grad_fn=<RsubBackward1>)\n",
            "tensor(0.4992, dtype=torch.float64, grad_fn=<RsubBackward1>)\n",
            "tensor(0.5567, dtype=torch.float64, grad_fn=<RsubBackward1>)\n",
            "tensor(0.6196, dtype=torch.float64, grad_fn=<RsubBackward1>)\n",
            "tensor(0.6046, dtype=torch.float64, grad_fn=<RsubBackward1>)\n",
            "tensor(0.6231, dtype=torch.float64, grad_fn=<RsubBackward1>)\n",
            "tensor(0.6104, dtype=torch.float64, grad_fn=<RsubBackward1>)\n",
            "tensor(0.6009, dtype=torch.float64, grad_fn=<RsubBackward1>)\n",
            "tensor(0.6220, dtype=torch.float64, grad_fn=<RsubBackward1>)\n",
            "tensor(0.5885, dtype=torch.float64, grad_fn=<RsubBackward1>)\n",
            "tensor(0.6165, dtype=torch.float64, grad_fn=<RsubBackward1>)\n",
            "tensor(0.5335, dtype=torch.float64, grad_fn=<RsubBackward1>)\n",
            "tensor(0.5613, dtype=torch.float64, grad_fn=<RsubBackward1>)\n",
            "tensor(0.5884, dtype=torch.float64, grad_fn=<RsubBackward1>)\n",
            "tensor(0.6399, dtype=torch.float64, grad_fn=<RsubBackward1>)\n"
          ]
        },
        {
          "output_type": "stream",
          "name": "stderr",
          "text": [
            " 75%|███████▌  | 751/1000 [00:09<00:02, 87.93it/s]"
          ]
        },
        {
          "output_type": "stream",
          "name": "stdout",
          "text": [
            "tensor(0.6528, dtype=torch.float64, grad_fn=<RsubBackward1>)\n",
            "tensor(0.6112, dtype=torch.float64, grad_fn=<RsubBackward1>)\n",
            "tensor(0.5780, dtype=torch.float64, grad_fn=<RsubBackward1>)\n",
            "tensor(0.7105, dtype=torch.float64, grad_fn=<RsubBackward1>)\n",
            "tensor(0.5199, dtype=torch.float64, grad_fn=<RsubBackward1>)\n",
            "tensor(0.5229, dtype=torch.float64, grad_fn=<RsubBackward1>)\n",
            "tensor(0.5299, dtype=torch.float64, grad_fn=<RsubBackward1>)\n",
            "tensor(0.5070, dtype=torch.float64, grad_fn=<RsubBackward1>)\n",
            "tensor(0.4763, dtype=torch.float64, grad_fn=<RsubBackward1>)\n",
            "tensor(0.4948, dtype=torch.float64, grad_fn=<RsubBackward1>)\n",
            "tensor(0.5778, dtype=torch.float64, grad_fn=<RsubBackward1>)\n",
            "tensor(0.5606, dtype=torch.float64, grad_fn=<RsubBackward1>)\n",
            "tensor(0.5530, dtype=torch.float64, grad_fn=<RsubBackward1>)\n",
            "tensor(0.5929, dtype=torch.float64, grad_fn=<RsubBackward1>)\n",
            "tensor(0.5585, dtype=torch.float64, grad_fn=<RsubBackward1>)\n",
            "tensor(0.5347, dtype=torch.float64, grad_fn=<RsubBackward1>)\n",
            "tensor(0.4525, dtype=torch.float64, grad_fn=<RsubBackward1>)\n",
            "tensor(0.4429, dtype=torch.float64, grad_fn=<RsubBackward1>)\n"
          ]
        },
        {
          "output_type": "stream",
          "name": "stderr",
          "text": [
            " 77%|███████▋  | 771/1000 [00:09<00:02, 91.67it/s]"
          ]
        },
        {
          "output_type": "stream",
          "name": "stdout",
          "text": [
            "tensor(0.5309, dtype=torch.float64, grad_fn=<RsubBackward1>)\n",
            "tensor(0.4698, dtype=torch.float64, grad_fn=<RsubBackward1>)\n",
            "tensor(0.5682, dtype=torch.float64, grad_fn=<RsubBackward1>)\n",
            "tensor(0.4831, dtype=torch.float64, grad_fn=<RsubBackward1>)\n",
            "tensor(0.3138, dtype=torch.float64, grad_fn=<RsubBackward1>)\n",
            "tensor(0.5337, dtype=torch.float64, grad_fn=<RsubBackward1>)\n",
            "tensor(0.4865, dtype=torch.float64, grad_fn=<RsubBackward1>)\n",
            "tensor(0.5298, dtype=torch.float64, grad_fn=<RsubBackward1>)\n",
            "tensor(0.5404, dtype=torch.float64, grad_fn=<RsubBackward1>)\n",
            "tensor(0.5185, dtype=torch.float64, grad_fn=<RsubBackward1>)\n",
            "tensor(0.4711, dtype=torch.float64, grad_fn=<RsubBackward1>)\n",
            "tensor(0.6041, dtype=torch.float64, grad_fn=<RsubBackward1>)\n",
            "tensor(0.6229, dtype=torch.float64, grad_fn=<RsubBackward1>)\n",
            "tensor(0.4683, dtype=torch.float64, grad_fn=<RsubBackward1>)\n",
            "tensor(0.5437, dtype=torch.float64, grad_fn=<RsubBackward1>)\n",
            "tensor(0.6223, dtype=torch.float64, grad_fn=<RsubBackward1>)\n",
            "tensor(0.5105, dtype=torch.float64, grad_fn=<RsubBackward1>)\n",
            "tensor(0.4748, dtype=torch.float64, grad_fn=<RsubBackward1>)\n",
            "tensor(0.6262, dtype=torch.float64, grad_fn=<RsubBackward1>)\n"
          ]
        },
        {
          "output_type": "stream",
          "name": "stderr",
          "text": [
            " 79%|███████▉  | 790/1000 [00:09<00:02, 89.70it/s]"
          ]
        },
        {
          "output_type": "stream",
          "name": "stdout",
          "text": [
            "tensor(0.5709, dtype=torch.float64, grad_fn=<RsubBackward1>)\n",
            "tensor(0.5670, dtype=torch.float64, grad_fn=<RsubBackward1>)\n",
            "tensor(0.5723, dtype=torch.float64, grad_fn=<RsubBackward1>)\n",
            "tensor(0.5699, dtype=torch.float64, grad_fn=<RsubBackward1>)\n",
            "tensor(0.5257, dtype=torch.float64, grad_fn=<RsubBackward1>)\n",
            "tensor(0.4916, dtype=torch.float64, grad_fn=<RsubBackward1>)\n",
            "tensor(0.5994, dtype=torch.float64, grad_fn=<RsubBackward1>)\n",
            "tensor(0.5577, dtype=torch.float64, grad_fn=<RsubBackward1>)\n",
            "tensor(0.4893, dtype=torch.float64, grad_fn=<RsubBackward1>)\n",
            "tensor(0.5968, dtype=torch.float64, grad_fn=<RsubBackward1>)\n",
            "tensor(0.5918, dtype=torch.float64, grad_fn=<RsubBackward1>)\n",
            "tensor(0.6420, dtype=torch.float64, grad_fn=<RsubBackward1>)\n",
            "tensor(0.6486, dtype=torch.float64, grad_fn=<RsubBackward1>)\n",
            "tensor(0.6316, dtype=torch.float64, grad_fn=<RsubBackward1>)\n",
            "tensor(0.6589, dtype=torch.float64, grad_fn=<RsubBackward1>)\n",
            "tensor(0.5873, dtype=torch.float64, grad_fn=<RsubBackward1>)\n",
            "tensor(0.6101, dtype=torch.float64, grad_fn=<RsubBackward1>)\n",
            "tensor(0.6474, dtype=torch.float64, grad_fn=<RsubBackward1>)\n",
            "tensor(0.6048, dtype=torch.float64, grad_fn=<RsubBackward1>)\n"
          ]
        },
        {
          "output_type": "stream",
          "name": "stderr",
          "text": [
            " 81%|████████  | 809/1000 [00:09<00:02, 88.87it/s]"
          ]
        },
        {
          "output_type": "stream",
          "name": "stdout",
          "text": [
            "tensor(0.6766, dtype=torch.float64, grad_fn=<RsubBackward1>)\n",
            "tensor(0.5931, dtype=torch.float64, grad_fn=<RsubBackward1>)\n",
            "tensor(0.5625, dtype=torch.float64, grad_fn=<RsubBackward1>)\n",
            "tensor(0.5385, dtype=torch.float64, grad_fn=<RsubBackward1>)\n",
            "tensor(0.5147, dtype=torch.float64, grad_fn=<RsubBackward1>)\n",
            "tensor(0.5312, dtype=torch.float64, grad_fn=<RsubBackward1>)\n",
            "tensor(0.5300, dtype=torch.float64, grad_fn=<RsubBackward1>)\n",
            "tensor(0.6127, dtype=torch.float64, grad_fn=<RsubBackward1>)\n",
            "tensor(0.5297, dtype=torch.float64, grad_fn=<RsubBackward1>)\n",
            "tensor(0.5849, dtype=torch.float64, grad_fn=<RsubBackward1>)\n",
            "tensor(0.5520, dtype=torch.float64, grad_fn=<RsubBackward1>)\n",
            "tensor(0.5409, dtype=torch.float64, grad_fn=<RsubBackward1>)\n",
            "tensor(0.5789, dtype=torch.float64, grad_fn=<RsubBackward1>)\n",
            "tensor(0.5964, dtype=torch.float64, grad_fn=<RsubBackward1>)\n",
            "tensor(0.5839, dtype=torch.float64, grad_fn=<RsubBackward1>)\n",
            "tensor(0.6348, dtype=torch.float64, grad_fn=<RsubBackward1>)\n",
            "tensor(0.5832, dtype=torch.float64, grad_fn=<RsubBackward1>)\n",
            "tensor(0.6661, dtype=torch.float64, grad_fn=<RsubBackward1>)\n"
          ]
        },
        {
          "output_type": "stream",
          "name": "stderr",
          "text": [
            " 83%|████████▎ | 828/1000 [00:10<00:01, 90.06it/s]"
          ]
        },
        {
          "output_type": "stream",
          "name": "stdout",
          "text": [
            "tensor(0.6526, dtype=torch.float64, grad_fn=<RsubBackward1>)\n",
            "tensor(0.5939, dtype=torch.float64, grad_fn=<RsubBackward1>)\n",
            "tensor(0.6281, dtype=torch.float64, grad_fn=<RsubBackward1>)\n",
            "tensor(0.6648, dtype=torch.float64, grad_fn=<RsubBackward1>)\n",
            "tensor(0.6127, dtype=torch.float64, grad_fn=<RsubBackward1>)\n",
            "tensor(0.6422, dtype=torch.float64, grad_fn=<RsubBackward1>)\n",
            "tensor(0.6267, dtype=torch.float64, grad_fn=<RsubBackward1>)\n",
            "tensor(0.6906, dtype=torch.float64, grad_fn=<RsubBackward1>)\n",
            "tensor(0.6146, dtype=torch.float64, grad_fn=<RsubBackward1>)\n",
            "tensor(0.5226, dtype=torch.float64, grad_fn=<RsubBackward1>)\n",
            "tensor(0.5616, dtype=torch.float64, grad_fn=<RsubBackward1>)\n",
            "tensor(0.5161, dtype=torch.float64, grad_fn=<RsubBackward1>)\n",
            "tensor(0.5700, dtype=torch.float64, grad_fn=<RsubBackward1>)\n",
            "tensor(0.6180, dtype=torch.float64, grad_fn=<RsubBackward1>)\n",
            "tensor(0.7203, dtype=torch.float64, grad_fn=<RsubBackward1>)\n",
            "tensor(0.5895, dtype=torch.float64, grad_fn=<RsubBackward1>)\n",
            "tensor(0.5139, dtype=torch.float64, grad_fn=<RsubBackward1>)\n",
            "tensor(0.6250, dtype=torch.float64, grad_fn=<RsubBackward1>)\n",
            "tensor(0.7054, dtype=torch.float64, grad_fn=<RsubBackward1>)\n"
          ]
        },
        {
          "output_type": "stream",
          "name": "stderr",
          "text": [
            " 85%|████████▍ | 848/1000 [00:10<00:01, 92.56it/s]"
          ]
        },
        {
          "output_type": "stream",
          "name": "stdout",
          "text": [
            "tensor(0.5884, dtype=torch.float64, grad_fn=<RsubBackward1>)\n",
            "tensor(0.6340, dtype=torch.float64, grad_fn=<RsubBackward1>)\n",
            "tensor(0.6330, dtype=torch.float64, grad_fn=<RsubBackward1>)\n",
            "tensor(0.7029, dtype=torch.float64, grad_fn=<RsubBackward1>)\n",
            "tensor(0.6487, dtype=torch.float64, grad_fn=<RsubBackward1>)\n",
            "tensor(0.4059, dtype=torch.float64, grad_fn=<RsubBackward1>)\n",
            "tensor(0.6957, dtype=torch.float64, grad_fn=<RsubBackward1>)\n",
            "tensor(0.5232, dtype=torch.float64, grad_fn=<RsubBackward1>)\n",
            "tensor(0.5662, dtype=torch.float64, grad_fn=<RsubBackward1>)\n",
            "tensor(0.6377, dtype=torch.float64, grad_fn=<RsubBackward1>)\n",
            "tensor(0.6679, dtype=torch.float64, grad_fn=<RsubBackward1>)\n",
            "tensor(0.6409, dtype=torch.float64, grad_fn=<RsubBackward1>)\n",
            "tensor(0.5624, dtype=torch.float64, grad_fn=<RsubBackward1>)\n",
            "tensor(0.6217, dtype=torch.float64, grad_fn=<RsubBackward1>)\n",
            "tensor(0.5609, dtype=torch.float64, grad_fn=<RsubBackward1>)\n",
            "tensor(0.5149, dtype=torch.float64, grad_fn=<RsubBackward1>)\n",
            "tensor(0.6035, dtype=torch.float64, grad_fn=<RsubBackward1>)\n",
            "tensor(0.6494, dtype=torch.float64, grad_fn=<RsubBackward1>)\n",
            "tensor(0.6296, dtype=torch.float64, grad_fn=<RsubBackward1>)\n"
          ]
        },
        {
          "output_type": "stream",
          "name": "stderr",
          "text": [
            " 87%|████████▋ | 868/1000 [00:10<00:01, 92.03it/s]"
          ]
        },
        {
          "output_type": "stream",
          "name": "stdout",
          "text": [
            "tensor(0.6325, dtype=torch.float64, grad_fn=<RsubBackward1>)\n",
            "tensor(0.5573, dtype=torch.float64, grad_fn=<RsubBackward1>)\n",
            "tensor(0.5990, dtype=torch.float64, grad_fn=<RsubBackward1>)\n",
            "tensor(0.6397, dtype=torch.float64, grad_fn=<RsubBackward1>)\n",
            "tensor(0.6917, dtype=torch.float64, grad_fn=<RsubBackward1>)\n",
            "tensor(0.6720, dtype=torch.float64, grad_fn=<RsubBackward1>)\n",
            "tensor(0.6179, dtype=torch.float64, grad_fn=<RsubBackward1>)\n",
            "tensor(0.4306, dtype=torch.float64, grad_fn=<RsubBackward1>)\n",
            "tensor(0.5394, dtype=torch.float64, grad_fn=<RsubBackward1>)\n",
            "tensor(0.6941, dtype=torch.float64, grad_fn=<RsubBackward1>)\n",
            "tensor(0.5754, dtype=torch.float64, grad_fn=<RsubBackward1>)\n",
            "tensor(0.5155, dtype=torch.float64, grad_fn=<RsubBackward1>)\n",
            "tensor(0.6187, dtype=torch.float64, grad_fn=<RsubBackward1>)\n",
            "tensor(0.5690, dtype=torch.float64, grad_fn=<RsubBackward1>)\n",
            "tensor(0.6267, dtype=torch.float64, grad_fn=<RsubBackward1>)\n",
            "tensor(0.5746, dtype=torch.float64, grad_fn=<RsubBackward1>)\n",
            "tensor(0.6114, dtype=torch.float64, grad_fn=<RsubBackward1>)\n",
            "tensor(0.6631, dtype=torch.float64, grad_fn=<RsubBackward1>)\n",
            "tensor(0.6767, dtype=torch.float64, grad_fn=<RsubBackward1>)\n",
            "tensor(0.6984, dtype=torch.float64, grad_fn=<RsubBackward1>)\n"
          ]
        },
        {
          "output_type": "stream",
          "name": "stderr",
          "text": [
            "\r 88%|████████▊ | 878/1000 [00:10<00:01, 91.34it/s]"
          ]
        },
        {
          "output_type": "stream",
          "name": "stdout",
          "text": [
            "tensor(0.7150, dtype=torch.float64, grad_fn=<RsubBackward1>)\n",
            "tensor(0.4973, dtype=torch.float64, grad_fn=<RsubBackward1>)\n",
            "tensor(0.5494, dtype=torch.float64, grad_fn=<RsubBackward1>)\n",
            "tensor(0.5841, dtype=torch.float64, grad_fn=<RsubBackward1>)\n",
            "tensor(0.6646, dtype=torch.float64, grad_fn=<RsubBackward1>)\n",
            "tensor(0.5332, dtype=torch.float64, grad_fn=<RsubBackward1>)\n",
            "tensor(0.6811, dtype=torch.float64, grad_fn=<RsubBackward1>)\n",
            "tensor(0.5756, dtype=torch.float64, grad_fn=<RsubBackward1>)\n",
            "tensor(0.6095, dtype=torch.float64, grad_fn=<RsubBackward1>)\n",
            "tensor(0.5770, dtype=torch.float64, grad_fn=<RsubBackward1>)\n",
            "tensor(0.5742, dtype=torch.float64, grad_fn=<RsubBackward1>)\n",
            "tensor(0.5352, dtype=torch.float64, grad_fn=<RsubBackward1>)\n",
            "tensor(0.5457, dtype=torch.float64, grad_fn=<RsubBackward1>)\n",
            "tensor(0.5095, dtype=torch.float64, grad_fn=<RsubBackward1>)\n",
            "tensor(0.4994, dtype=torch.float64, grad_fn=<RsubBackward1>)\n",
            "tensor(0.5201, dtype=torch.float64, grad_fn=<RsubBackward1>)\n",
            "tensor(0.5605, dtype=torch.float64, grad_fn=<RsubBackward1>)\n",
            "tensor(0.6177, dtype=torch.float64, grad_fn=<RsubBackward1>)\n",
            "tensor(0.5969, dtype=torch.float64, grad_fn=<RsubBackward1>)\n",
            "tensor(0.5908, dtype=torch.float64, grad_fn=<RsubBackward1>)"
          ]
        },
        {
          "output_type": "stream",
          "name": "stderr",
          "text": [
            " 90%|████████▉ | 898/1000 [00:10<00:01, 92.66it/s]"
          ]
        },
        {
          "output_type": "stream",
          "name": "stdout",
          "text": [
            "\n",
            "tensor(0.6201, dtype=torch.float64, grad_fn=<RsubBackward1>)\n",
            "tensor(0.6153, dtype=torch.float64, grad_fn=<RsubBackward1>)\n",
            "tensor(0.5336, dtype=torch.float64, grad_fn=<RsubBackward1>)\n",
            "tensor(0.6469, dtype=torch.float64, grad_fn=<RsubBackward1>)\n",
            "tensor(0.6083, dtype=torch.float64, grad_fn=<RsubBackward1>)\n",
            "tensor(0.4746, dtype=torch.float64, grad_fn=<RsubBackward1>)\n",
            "tensor(0.5757, dtype=torch.float64, grad_fn=<RsubBackward1>)\n",
            "tensor(0.6178, dtype=torch.float64, grad_fn=<RsubBackward1>)\n",
            "tensor(0.7183, dtype=torch.float64, grad_fn=<RsubBackward1>)\n",
            "tensor(0.6209, dtype=torch.float64, grad_fn=<RsubBackward1>)\n",
            "tensor(0.4229, dtype=torch.float64, grad_fn=<RsubBackward1>)\n",
            "tensor(0.5814, dtype=torch.float64, grad_fn=<RsubBackward1>)\n",
            "tensor(0.6499, dtype=torch.float64, grad_fn=<RsubBackward1>)\n",
            "tensor(0.5626, dtype=torch.float64, grad_fn=<RsubBackward1>)\n",
            "tensor(0.5775, dtype=torch.float64, grad_fn=<RsubBackward1>)\n",
            "tensor(0.5071, dtype=torch.float64, grad_fn=<RsubBackward1>)\n",
            "tensor(0.6232, dtype=torch.float64, grad_fn=<RsubBackward1>)\n"
          ]
        },
        {
          "output_type": "stream",
          "name": "stderr",
          "text": [
            " 92%|█████████▏| 918/1000 [00:11<00:00, 89.62it/s]"
          ]
        },
        {
          "output_type": "stream",
          "name": "stdout",
          "text": [
            "tensor(0.5965, dtype=torch.float64, grad_fn=<RsubBackward1>)\n",
            "tensor(0.5518, dtype=torch.float64, grad_fn=<RsubBackward1>)\n",
            "tensor(0.5325, dtype=torch.float64, grad_fn=<RsubBackward1>)\n",
            "tensor(0.5643, dtype=torch.float64, grad_fn=<RsubBackward1>)\n",
            "tensor(0.6126, dtype=torch.float64, grad_fn=<RsubBackward1>)\n",
            "tensor(0.5999, dtype=torch.float64, grad_fn=<RsubBackward1>)\n",
            "tensor(0.5484, dtype=torch.float64, grad_fn=<RsubBackward1>)\n",
            "tensor(0.5867, dtype=torch.float64, grad_fn=<RsubBackward1>)\n",
            "tensor(0.6376, dtype=torch.float64, grad_fn=<RsubBackward1>)\n",
            "tensor(0.7433, dtype=torch.float64, grad_fn=<RsubBackward1>)\n",
            "tensor(0.4988, dtype=torch.float64, grad_fn=<RsubBackward1>)\n",
            "tensor(0.7123, dtype=torch.float64, grad_fn=<RsubBackward1>)\n",
            "tensor(0.5553, dtype=torch.float64, grad_fn=<RsubBackward1>)\n",
            "tensor(0.5780, dtype=torch.float64, grad_fn=<RsubBackward1>)\n",
            "tensor(0.6544, dtype=torch.float64, grad_fn=<RsubBackward1>)\n",
            "tensor(0.5100, dtype=torch.float64, grad_fn=<RsubBackward1>)\n",
            "tensor(0.5945, dtype=torch.float64, grad_fn=<RsubBackward1>)\n",
            "tensor(0.6508, dtype=torch.float64, grad_fn=<RsubBackward1>)\n",
            "tensor(0.6787, dtype=torch.float64, grad_fn=<RsubBackward1>)\n",
            "tensor(0.5922, dtype=torch.float64, grad_fn=<RsubBackward1>)\n"
          ]
        },
        {
          "output_type": "stream",
          "name": "stderr",
          "text": [
            " 94%|█████████▍| 938/1000 [00:11<00:00, 88.36it/s]"
          ]
        },
        {
          "output_type": "stream",
          "name": "stdout",
          "text": [
            "tensor(0.5611, dtype=torch.float64, grad_fn=<RsubBackward1>)\n",
            "tensor(0.5843, dtype=torch.float64, grad_fn=<RsubBackward1>)\n",
            "tensor(0.5346, dtype=torch.float64, grad_fn=<RsubBackward1>)\n",
            "tensor(0.5978, dtype=torch.float64, grad_fn=<RsubBackward1>)\n",
            "tensor(0.6814, dtype=torch.float64, grad_fn=<RsubBackward1>)\n",
            "tensor(0.6035, dtype=torch.float64, grad_fn=<RsubBackward1>)\n",
            "tensor(0.5996, dtype=torch.float64, grad_fn=<RsubBackward1>)\n",
            "tensor(0.5109, dtype=torch.float64, grad_fn=<RsubBackward1>)\n",
            "tensor(0.6423, dtype=torch.float64, grad_fn=<RsubBackward1>)\n",
            "tensor(0.5122, dtype=torch.float64, grad_fn=<RsubBackward1>)\n",
            "tensor(0.5810, dtype=torch.float64, grad_fn=<RsubBackward1>)\n",
            "tensor(0.6178, dtype=torch.float64, grad_fn=<RsubBackward1>)\n",
            "tensor(0.7059, dtype=torch.float64, grad_fn=<RsubBackward1>)\n",
            "tensor(0.6012, dtype=torch.float64, grad_fn=<RsubBackward1>)\n",
            "tensor(0.5027, dtype=torch.float64, grad_fn=<RsubBackward1>)\n",
            "tensor(0.6476, dtype=torch.float64, grad_fn=<RsubBackward1>)\n",
            "tensor(0.5713, dtype=torch.float64, grad_fn=<RsubBackward1>)\n",
            "tensor(0.7431, dtype=torch.float64, grad_fn=<RsubBackward1>)\n"
          ]
        },
        {
          "output_type": "stream",
          "name": "stderr",
          "text": [
            " 96%|█████████▌| 958/1000 [00:11<00:00, 91.75it/s]"
          ]
        },
        {
          "output_type": "stream",
          "name": "stdout",
          "text": [
            "tensor(0.6428, dtype=torch.float64, grad_fn=<RsubBackward1>)\n",
            "tensor(0.6250, dtype=torch.float64, grad_fn=<RsubBackward1>)\n",
            "tensor(0.6244, dtype=torch.float64, grad_fn=<RsubBackward1>)\n",
            "tensor(0.4978, dtype=torch.float64, grad_fn=<RsubBackward1>)\n",
            "tensor(0.7018, dtype=torch.float64, grad_fn=<RsubBackward1>)\n",
            "tensor(0.6304, dtype=torch.float64, grad_fn=<RsubBackward1>)\n",
            "tensor(0.5522, dtype=torch.float64, grad_fn=<RsubBackward1>)\n",
            "tensor(0.5478, dtype=torch.float64, grad_fn=<RsubBackward1>)\n",
            "tensor(0.5462, dtype=torch.float64, grad_fn=<RsubBackward1>)\n",
            "tensor(0.5181, dtype=torch.float64, grad_fn=<RsubBackward1>)\n",
            "tensor(0.6385, dtype=torch.float64, grad_fn=<RsubBackward1>)\n",
            "tensor(0.6042, dtype=torch.float64, grad_fn=<RsubBackward1>)\n",
            "tensor(0.5591, dtype=torch.float64, grad_fn=<RsubBackward1>)\n",
            "tensor(0.5951, dtype=torch.float64, grad_fn=<RsubBackward1>)\n",
            "tensor(0.6005, dtype=torch.float64, grad_fn=<RsubBackward1>)\n",
            "tensor(0.5290, dtype=torch.float64, grad_fn=<RsubBackward1>)\n",
            "tensor(0.5769, dtype=torch.float64, grad_fn=<RsubBackward1>)\n",
            "tensor(0.5548, dtype=torch.float64, grad_fn=<RsubBackward1>)\n",
            "tensor(0.5638, dtype=torch.float64, grad_fn=<RsubBackward1>)\n",
            "tensor(0.5535, dtype=torch.float64, grad_fn=<RsubBackward1>)\n"
          ]
        },
        {
          "output_type": "stream",
          "name": "stderr",
          "text": [
            " 98%|█████████▊| 978/1000 [00:11<00:00, 89.91it/s]"
          ]
        },
        {
          "output_type": "stream",
          "name": "stdout",
          "text": [
            "tensor(0.5423, dtype=torch.float64, grad_fn=<RsubBackward1>)\n",
            "tensor(0.6387, dtype=torch.float64, grad_fn=<RsubBackward1>)\n",
            "tensor(0.6303, dtype=torch.float64, grad_fn=<RsubBackward1>)\n",
            "tensor(0.5476, dtype=torch.float64, grad_fn=<RsubBackward1>)\n",
            "tensor(0.5517, dtype=torch.float64, grad_fn=<RsubBackward1>)\n",
            "tensor(0.6175, dtype=torch.float64, grad_fn=<RsubBackward1>)\n",
            "tensor(0.6159, dtype=torch.float64, grad_fn=<RsubBackward1>)\n",
            "tensor(0.5588, dtype=torch.float64, grad_fn=<RsubBackward1>)\n",
            "tensor(0.5537, dtype=torch.float64, grad_fn=<RsubBackward1>)\n",
            "tensor(0.5291, dtype=torch.float64, grad_fn=<RsubBackward1>)\n",
            "tensor(0.5675, dtype=torch.float64, grad_fn=<RsubBackward1>)\n",
            "tensor(0.6086, dtype=torch.float64, grad_fn=<RsubBackward1>)\n",
            "tensor(0.6291, dtype=torch.float64, grad_fn=<RsubBackward1>)\n",
            "tensor(0.5359, dtype=torch.float64, grad_fn=<RsubBackward1>)\n",
            "tensor(0.5199, dtype=torch.float64, grad_fn=<RsubBackward1>)\n",
            "tensor(0.6144, dtype=torch.float64, grad_fn=<RsubBackward1>)\n",
            "tensor(0.5348, dtype=torch.float64, grad_fn=<RsubBackward1>)\n",
            "tensor(0.5314, dtype=torch.float64, grad_fn=<RsubBackward1>)\n"
          ]
        },
        {
          "output_type": "stream",
          "name": "stderr",
          "text": [
            "100%|██████████| 1000/1000 [00:12<00:00, 82.98it/s]"
          ]
        },
        {
          "output_type": "stream",
          "name": "stdout",
          "text": [
            "tensor(0.6119, dtype=torch.float64, grad_fn=<RsubBackward1>)\n",
            "tensor(0.5640, dtype=torch.float64, grad_fn=<RsubBackward1>)\n",
            "tensor(0.6421, dtype=torch.float64, grad_fn=<RsubBackward1>)\n",
            "tensor(0.5237, dtype=torch.float64, grad_fn=<RsubBackward1>)\n",
            "tensor(0.4719, dtype=torch.float64, grad_fn=<RsubBackward1>)\n",
            "tensor(0.6201, dtype=torch.float64, grad_fn=<RsubBackward1>)\n",
            "tensor(0.6069, dtype=torch.float64, grad_fn=<RsubBackward1>)\n",
            "tensor(0.5269, dtype=torch.float64, grad_fn=<RsubBackward1>)\n",
            "tensor(0.4411, dtype=torch.float64, grad_fn=<RsubBackward1>)\n",
            "tensor(0.6236, dtype=torch.float64, grad_fn=<RsubBackward1>)\n",
            "tensor(0.5622, dtype=torch.float64, grad_fn=<RsubBackward1>)\n",
            "tensor(0.5605, dtype=torch.float64, grad_fn=<RsubBackward1>)\n",
            "tensor(0.5389, dtype=torch.float64, grad_fn=<RsubBackward1>)\n",
            "tensor(0.6373, dtype=torch.float64, grad_fn=<RsubBackward1>)\n",
            "tensor(0.5348, dtype=torch.float64, grad_fn=<RsubBackward1>)\n",
            "tensor(0.5550, dtype=torch.float64, grad_fn=<RsubBackward1>)\n",
            "tensor(0.5560, dtype=torch.float64, grad_fn=<RsubBackward1>)\n",
            "tensor(0.5282, dtype=torch.float64, grad_fn=<RsubBackward1>)\n",
            "tensor(0.5756, dtype=torch.float64, grad_fn=<RsubBackward1>)\n"
          ]
        },
        {
          "output_type": "stream",
          "name": "stderr",
          "text": [
            "\n"
          ]
        }
      ],
      "source": [
        "# Some constants\n",
        "nparameters=24\n",
        "delay = 4\n",
        "regu_lambda = 0.00001\n",
        "lr = 0.1\n",
        "\n",
        "# Get scaling factor\n",
        "normalize=np.amax(train_data[:,:])\n",
        "\n",
        "X_train, Y_train = prepare_data_fast(train_data,delay,normalize)\n",
        "X_test, Y_test = prepare_data_fast(test_data,delay,normalize)\n",
        "\n",
        "model = KernelFlows(\"anl3\", nparameters = nparameters, regu_lambda = regu_lambda, dim = 2, metric = \"rho_ratio\", batch_size = 100)\n",
        "\n",
        "model= train_kernel(X_train, Y_train, model, lr = lr)"
      ]
    },
    {
      "cell_type": "code",
      "source": [
        "plt.plot(Y_train)"
      ],
      "metadata": {
        "id": "Jhp2gIaICC8r"
      },
      "id": "Jhp2gIaICC8r",
      "execution_count": null,
      "outputs": []
    },
    {
      "cell_type": "code",
      "execution_count": null,
      "id": "d641cd0f",
      "metadata": {
        "id": "d641cd0f",
        "outputId": "dcda8d97-8d8a-4526-b229-3fd76109024e",
        "colab": {
          "base_uri": "https://localhost:8080/",
          "height": 240
        }
      },
      "outputs": [
        {
          "output_type": "error",
          "ename": "AttributeError",
          "evalue": "ignored",
          "traceback": [
            "\u001b[0;31m---------------------------------------------------------------------------\u001b[0m",
            "\u001b[0;31mAttributeError\u001b[0m                            Traceback (most recent call last)",
            "\u001b[0;32m<ipython-input-26-14868da4ad40>\u001b[0m in \u001b[0;36m<cell line: 1>\u001b[0;34m()\u001b[0m\n\u001b[0;32m----> 1\u001b[0;31m \u001b[0mmodel\u001b[0m\u001b[0;34m.\u001b[0m\u001b[0mcompute_kernel_and_inverse\u001b[0m\u001b[0;34m(\u001b[0m\u001b[0mregu_lambda\u001b[0m \u001b[0;34m=\u001b[0m \u001b[0mregu_lambda\u001b[0m\u001b[0;34m)\u001b[0m\u001b[0;34m\u001b[0m\u001b[0;34m\u001b[0m\u001b[0m\n\u001b[0m\u001b[1;32m      2\u001b[0m \u001b[0;34m\u001b[0m\u001b[0m\n\u001b[1;32m      3\u001b[0m \u001b[0mhorizon\u001b[0m \u001b[0;34m=\u001b[0m \u001b[0;36m1\u001b[0m\u001b[0;34m\u001b[0m\u001b[0;34m\u001b[0m\u001b[0m\n\u001b[1;32m      4\u001b[0m \u001b[0;34m\u001b[0m\u001b[0m\n\u001b[1;32m      5\u001b[0m \u001b[0mY_pred\u001b[0m \u001b[0;34m=\u001b[0m \u001b[0mmodel\u001b[0m\u001b[0;34m.\u001b[0m\u001b[0mpredict_ahead\u001b[0m\u001b[0;34m(\u001b[0m\u001b[0mX_test\u001b[0m\u001b[0;34m,\u001b[0m\u001b[0mhorizon\u001b[0m\u001b[0;34m=\u001b[0m\u001b[0mhorizon\u001b[0m\u001b[0;34m,\u001b[0m \u001b[0mdelay\u001b[0m \u001b[0;34m=\u001b[0m \u001b[0mdelay\u001b[0m\u001b[0;34m,\u001b[0m \u001b[0mdelta_t_mode\u001b[0m \u001b[0;34m=\u001b[0m \u001b[0;32mFalse\u001b[0m\u001b[0;34m)\u001b[0m\u001b[0;34m\u001b[0m\u001b[0;34m\u001b[0m\u001b[0m\n",
            "\u001b[0;31mAttributeError\u001b[0m: 'tuple' object has no attribute 'compute_kernel_and_inverse'"
          ]
        }
      ],
      "source": [
        "model.compute_kernel_and_inverse(regu_lambda = regu_lambda)\n",
        "\n",
        "horizon = 1\n",
        "\n",
        "Y_pred = model.predict_ahead(X_test,horizon=horizon, delay = delay, delta_t_mode = False)\n",
        "\n",
        "mse_pred = (Y_pred.detach()-Y_test).pow(2).mean()\n",
        "\n",
        "print(f\"MSE On test : {mse_pred:.4f}\")"
      ]
    },
    {
      "cell_type": "code",
      "execution_count": null,
      "id": "08891717",
      "metadata": {
        "scrolled": true,
        "id": "08891717"
      },
      "outputs": [],
      "source": [
        "import matplotlib.pyplot as plt\n",
        "\n",
        "plt.scatter(Y_pred[:,0].detach(),Y_pred[:,1].detach(), label = \"Predicted\")\n",
        "plt.scatter(Y_test[:,0],Y_test[:,1], label = \"True\")\n",
        "#plt.rcParams[\"figure.figsize\"] = (10.5,5.5)\n",
        "plt.title(\"Reconstructed Attractor of Henon Map\")\n",
        "plt.xlabel(\"x\")\n",
        "plt.ylabel(\"y\")\n",
        "plt.legend()\n",
        "plt.savefig('Henon3.png')\n",
        "plt.show()\n",
        "fig, ax = plt.subplots(2,1)\n",
        "#fig.set_size_inches(10.5, 5.5)\n",
        "plt.title('Time series of Henon map, regular KF')\n",
        "ax[0].plot(Y_pred[:,0].detach(),label = \"pred\")\n",
        "ax[0].plot(Y_test[:,0], label = \"test\")\n",
        "ax[0].set_ylabel('x')\n",
        "ax[0].set_xlabel('Time')\n",
        "ax[0].set_title(\"First Dimension\")\n",
        "ax[0].legend(loc = \"upper right\")\n",
        "\n",
        "ax[1].plot(Y_pred[:,1].detach(),label = \"pred\")\n",
        "\n",
        "ax[1].plot(Y_test[:,1], label = \"true\")\n",
        "ax[1].set_ylabel('y')\n",
        "ax[1].set_xlabel('Time')\n",
        "ax[1].set_title(\"Second Dimension\")\n",
        "ax[1].legend(loc = \"upper right\")\n",
        "fig.tight_layout()\n",
        "plt.savefig('henon5.png',facecolor='white')\n",
        "\n"
      ]
    },
    {
      "cell_type": "code",
      "source": [],
      "metadata": {
        "id": "qMMPJKteudov"
      },
      "id": "qMMPJKteudov",
      "execution_count": null,
      "outputs": []
    },
    {
      "cell_type": "markdown",
      "id": "3ee5adb2",
      "metadata": {
        "id": "3ee5adb2"
      },
      "source": [
        "## With irregular kernel flow"
      ]
    },
    {
      "cell_type": "code",
      "execution_count": null,
      "id": "9986b7e9",
      "metadata": {
        "id": "9986b7e9"
      },
      "outputs": [],
      "source": [
        "# Some constants\n",
        "nparameters=24\n",
        "delay = 1\n",
        "regu_lambda = 0.00001\n",
        "lr = 0.1\n",
        "\n",
        "# Get scaling factor\n",
        "normalize=np.amax(train_data[:,:])\n",
        "\n",
        "X_train, Y_train = prepare_data_fast(train_data,delay,normalize, delays_train)\n",
        "X_test, Y_test = prepare_data_fast(test_data,delay,normalize, delays_test)\n",
        "\n",
        "model = KernelFlows(\"anl3\", nparameters = nparameters, regu_lambda = regu_lambda, dim = 2, metric = \"rho_ratio\", batch_size = 100)\n",
        "\n",
        "model, rho_list= train_kernel(X_train, Y_train, model, lr = lr,epochs=1000)"
      ]
    },
    {
      "cell_type": "code",
      "source": [
        "plt.plot(rho_list)"
      ],
      "metadata": {
        "id": "4nRsVZpYHAy0"
      },
      "id": "4nRsVZpYHAy0",
      "execution_count": null,
      "outputs": []
    },
    {
      "cell_type": "code",
      "execution_count": null,
      "id": "dbfb7275",
      "metadata": {
        "id": "dbfb7275"
      },
      "outputs": [],
      "source": [
        "model.compute_kernel_and_inverse(regu_lambda = regu_lambda)\n",
        "horizon = 10\n",
        "Y_pred = model.predict_ahead(X_test,horizon=horizon, delay = delay, delta_t_mode = True)\n",
        "\n",
        "mse_pred = (Y_pred.detach()-Y_test).pow(2).mean()\n",
        "\n",
        "print(f\"MSE On test : {mse_pred:.4f}\")"
      ]
    },
    {
      "cell_type": "code",
      "execution_count": null,
      "id": "712d3c5e",
      "metadata": {
        "id": "712d3c5e"
      },
      "outputs": [],
      "source": [
        "import matplotlib.pyplot as plt\n",
        "plt.scatter(Y_pred[:,0].detach(),Y_pred[:,1].detach(), label = \"Predicted\")\n",
        "plt.scatter(Y_test[:,0],Y_test[:,1], label = \"True\")\n",
        "plt.title(\"Reconstructed Attractor of Henon Map\")\n",
        "plt.xlabel(\"x\")\n",
        "plt.ylabel(\"y\")\n",
        "plt.legend()\n",
        "plt.savefig('Henon4.png')\n",
        "plt.show()\n",
        "\n",
        "plt.figure()\n",
        "plt.plot(Y_pred[:,0].detach()-Y_test[:,0])\n",
        "plt.plot(Y_pred[:,1].detach()-Y_test[:,1])\n",
        "plt.title(\"Errors\")\n",
        "plt.show()\n",
        "fig, ax = plt.subplots(2,1)\n",
        "ax[0].plot(Y_pred[:,0].detach(),label = \"pred\")\n",
        "ax[0].plot(Y_test[:,0], label = \"test\")\n",
        "ax[0].set_ylabel('x')\n",
        "ax[0].set_xlabel('Time')\n",
        "ax[0].set_title(\"First Dimension\")\n",
        "ax[0].legend(loc = \"upper right\")\n",
        "\n",
        "ax[1].plot(Y_pred[:,1].detach(),label = \"pred\")\n",
        "\n",
        "ax[1].plot(Y_test[:,1], label = \"true\")\n",
        "ax[1].set_ylabel('y')\n",
        "ax[1].set_xlabel('Time')\n",
        "ax[1].set_title(\"Second Dimension\")\n",
        "ax[1].legend(loc = \"upper right\")\n",
        "\n",
        "fig.tight_layout()\n",
        "fig.savefig('henon6.png',facecolor='white')"
      ]
    },
    {
      "cell_type": "code",
      "execution_count": null,
      "id": "767deff4",
      "metadata": {
        "id": "767deff4"
      },
      "outputs": [],
      "source": []
    },
    {
      "cell_type": "markdown",
      "id": "0cae114a",
      "metadata": {
        "id": "0cae114a"
      },
      "source": [
        "# Enforcing the semi-group property\n",
        "\n",
        "This is outdated."
      ]
    },
    {
      "cell_type": "code",
      "execution_count": null,
      "id": "b4b821b8",
      "metadata": {
        "id": "b4b821b8"
      },
      "outputs": [],
      "source": [
        "max_delay = 3\n",
        "N_points = 1000\n",
        "dt = 0.1\n",
        "\n",
        "delays = np.random.randint(max_delay,size=N_points-1)+1\n",
        "indices = np.concatenate((np.zeros(1),np.cumsum(delays))).astype(int)\n",
        "delays = np.concatenate((delays,np.zeros(1))).astype(int)\n",
        "\n",
        "max_idx = indices[-1]\n",
        "T = np.ceil(max_idx/dt)\n",
        "# generate dataset\n",
        "Data = Henon(T=T, dt=dt,N_sims=1,a=1.4,b=0.3)[0]\n",
        "#train test split\n",
        "\n",
        "observed_data = Data[indices]\n",
        "\n",
        "train_data = observed_data[:600,:].T\n",
        "test_data = observed_data[600:,:].T\n",
        "delays_train = delays[:600]\n",
        "delays_test = delays[600:]\n",
        "\n",
        "# Some constants\n",
        "nparameters=24\n",
        "delay = 1\n",
        "regu_lambda = 0.00001\n",
        "\n",
        "# Get scaling factor\n",
        "normalize=np.amax(train_data[:,:])\n",
        "\n",
        "X_train, Y_train = prepare_data_fast(train_data,delay,normalize, delays_train)\n",
        "X_test, Y_test = prepare_data_fast(test_data,delay,normalize, delays_test)\n",
        "\n",
        "model = KernelFlows(\"anl3\", nparameters = nparameters, regu_lambda = regu_lambda, dim = 2, metric = \"rho_ratio\", batch_size = 100)\n",
        "\n",
        "model.set_training_data(torch.Tensor(X_train).double(),torch.Tensor(Y_train).double())"
      ]
    },
    {
      "cell_type": "code",
      "execution_count": null,
      "id": "0100f284",
      "metadata": {
        "id": "0100f284"
      },
      "outputs": [],
      "source": [
        "model.prepare_semi_group_simple(n_z = 50, delays_train = torch.Tensor(delays_train))"
      ]
    },
    {
      "cell_type": "code",
      "execution_count": null,
      "id": "041e447f",
      "metadata": {
        "scrolled": true,
        "id": "041e447f"
      },
      "outputs": [],
      "source": [
        "optimizer = torch.optim.SGD(model.parameters(), lr = 0.1)\n",
        "verbose = False\n",
        "#print(model.z_tensor)\n",
        "params_list = []\n",
        "rho_list = []\n",
        "for i in tqdm.tqdm(range(1000)):\n",
        "    optimizer.zero_grad()\n",
        "    rho = model.forward()\n",
        "    if rho>=0 and rho<=1:\n",
        "        rho.backward()\n",
        "        optimizer.step()\n",
        "        params_list.append(model.kernel_params.clone())\n",
        "        rho_list.append(rho)\n",
        "        if verbose:\n",
        "            print(rho)\n",
        "#print(model.z_tensor)"
      ]
    },
    {
      "cell_type": "code",
      "execution_count": null,
      "id": "9a1f729a",
      "metadata": {
        "id": "9a1f729a"
      },
      "outputs": [],
      "source": [
        "model.compute_kernel_and_inverse(regu_lambda = regu_lambda)\n",
        "\n",
        "horizon = 1\n",
        "\n",
        "Y_pred = model.predict_ahead(X_test,horizon=horizon, delay = delay, delta_t_mode = False)\n",
        "\n",
        "mse_pred = (Y_pred.detach()-Y_test).pow(2).mean()\n",
        "\n",
        "print(f\"MSE On test : {mse_pred:.4f}\")"
      ]
    },
    {
      "cell_type": "code",
      "execution_count": null,
      "id": "5d96af7c",
      "metadata": {
        "id": "5d96af7c"
      },
      "outputs": [],
      "source": [
        "import matplotlib.pyplot as plt\n",
        "plt.scatter(Y_pred[:,0].detach(),Y_pred[:,1].detach(), label = \"Predicted\")\n",
        "plt.scatter(Y_test[:,0],Y_test[:,1], label = \"True\")\n",
        "plt.title(\"Reconstructed Attractor of Henon Map\")\n",
        "plt.xlabel(\"x\")\n",
        "plt.ylabel(\"y\")\n",
        "plt.legend()\n",
        "plt.show()\n"
      ]
    },
    {
      "cell_type": "code",
      "execution_count": null,
      "id": "df192090",
      "metadata": {
        "id": "df192090"
      },
      "outputs": [],
      "source": []
    }
  ],
  "metadata": {
    "kernelspec": {
      "display_name": "Python 3 (ipykernel)",
      "language": "python",
      "name": "python3"
    },
    "language_info": {
      "codemirror_mode": {
        "name": "ipython",
        "version": 3
      },
      "file_extension": ".py",
      "mimetype": "text/x-python",
      "name": "python",
      "nbconvert_exporter": "python",
      "pygments_lexer": "ipython3",
      "version": "3.8.10"
    },
    "colab": {
      "provenance": [],
      "include_colab_link": true
    }
  },
  "nbformat": 4,
  "nbformat_minor": 5
}